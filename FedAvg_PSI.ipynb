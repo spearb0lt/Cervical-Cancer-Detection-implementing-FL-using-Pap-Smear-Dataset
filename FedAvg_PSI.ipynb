{
 "cells": [
  {
   "cell_type": "markdown",
   "id": "9556438e",
   "metadata": {},
   "source": [
    "# Transfer Learning using PSI\n",
    "\n",
    "A Pap smear, also called a Pap test, is a procedure to test for cervical cancer in women. A Pap smear involves collecting cells from your cervix — the lower, narrow end of your uterus that's at the top of your vagina. Detecting cervical cancer early with a Pap smear gives you a greater chance at a cure."
   ]
  },
  {
   "cell_type": "code",
   "execution_count": 1,
   "id": "33aa8931",
   "metadata": {},
   "outputs": [
    {
     "name": "stdout",
     "output_type": "stream",
     "text": [
      "WARNING:tensorflow:From C:\\Anaconda\\Lib\\site-packages\\keras\\src\\losses.py:2976: The name tf.losses.sparse_softmax_cross_entropy is deprecated. Please use tf.compat.v1.losses.sparse_softmax_cross_entropy instead.\n",
      "\n"
     ]
    }
   ],
   "source": [
    "import numpy as np\n",
    "import pandas as pd\n",
    "import random\n",
    "import os\n",
    "from sklearn.model_selection import train_test_split\n",
    "from sklearn.preprocessing import LabelBinarizer \n",
    "from sklearn.model_selection import train_test_split\n",
    "from sklearn.utils import shuffle\n",
    "from sklearn.metrics import accuracy_score\n",
    "from tqdm import tqdm\n",
    "import time\n",
    "\n",
    "import tensorflow as tf\n",
    "from tensorflow.keras.models import Sequential\n",
    "from tensorflow.keras.layers import Conv2D\n",
    "from tensorflow.keras.layers import MaxPooling2D\n",
    "from tensorflow.keras.layers import Activation\n",
    "from tensorflow.keras.layers import Flatten\n",
    "from tensorflow.keras.layers import Dense\n",
    "from tensorflow.keras.optimizers import SGD\n",
    "from tensorflow.keras import backend as K"
   ]
  },
  {
   "cell_type": "code",
   "execution_count": null,
   "id": "8cf148b1-daa3-47fa-9bbd-7b3069ca9e8f",
   "metadata": {},
   "outputs": [],
   "source": []
  },
  {
   "cell_type": "code",
   "execution_count": 2,
   "id": "2927e136-cf50-4146-8ed2-b30c25db4611",
   "metadata": {},
   "outputs": [
    {
     "name": "stdout",
     "output_type": "stream",
     "text": [
      "Requirement already satisfied: opencv-python in c:\\anaconda\\lib\\site-packages (4.9.0.80)\n",
      "Requirement already satisfied: numpy>=1.21.2 in c:\\anaconda\\lib\\site-packages (from opencv-python) (1.26.3)\n"
     ]
    }
   ],
   "source": [
    "# !pip install opencv-python"
   ]
  },
  {
   "cell_type": "code",
   "execution_count": 3,
   "id": "4222db10",
   "metadata": {},
   "outputs": [
    {
     "name": "stdout",
     "output_type": "stream",
     "text": [
      "Processing images in folder: client2\n",
      "Processing images in folder: client3\n",
      "Processing images in folder: client4\n",
      "Processing images in folder: DATSAET\n",
      "Processing images in folder: DATSAETclient1\n",
      "Processing images in folder: New folder\n",
      "Processing images in folder: New folder (2)\n"
     ]
    }
   ],
   "source": [
    "import cv2\n",
    "import numpy as np\n",
    "import os\n",
    "\n",
    "def preprocess_images_in_folders(root_folder, target_size=(224, 224)):\n",
    "    all_preprocessed_images = []\n",
    "\n",
    "    # Iterate over all subfolders in the root folder\n",
    "    for folder_name in os.listdir(root_folder):\n",
    "        folder_path = os.path.join(root_folder, folder_name)\n",
    "\n",
    "        # Check if the path is a directory\n",
    "        if os.path.isdir(folder_path):\n",
    "            print(f\"Processing images in folder: {folder_name}\")\n",
    "\n",
    "            # Preprocess images in the current folder\n",
    "            preprocessed_images = preprocess_images_in_folder(folder_path, target_size)\n",
    "\n",
    "            # Extend the list of all preprocessed images\n",
    "            all_preprocessed_images.extend(preprocessed_images)\n",
    "\n",
    "    return all_preprocessed_images\n",
    "\n",
    "def preprocess_images_in_folder(folder_path, target_size=(224, 224)):\n",
    "    preprocessed_images = []\n",
    "\n",
    "    # Iterate over all files in the folder\n",
    "    for filename in os.listdir(folder_path):\n",
    "        if filename.endswith(('.jpg', '.bmp')):\n",
    "            # Construct the full path to the image\n",
    "            image_path = os.path.join(folder_path, filename)\n",
    "\n",
    "            # Preprocess the image\n",
    "            preprocessed_image = preprocess_image(image_path, target_size)\n",
    "\n",
    "            # Append the preprocessed image to the list\n",
    "            preprocessed_images.append(preprocessed_image)\n",
    "\n",
    "    return preprocessed_images\n",
    "\n",
    "def preprocess_image(image_path, target_size=(224, 224)):\n",
    "    # Read the image\n",
    "    image = cv2.imread(image_path)\n",
    "\n",
    "    # Resize the image\n",
    "    image = cv2.resize(image, target_size)\n",
    "\n",
    "    # Convert the image to grayscale (optional, depending on your task)\n",
    "    # image = cv2.cvtColor(image, cv2.COLOR_BGR2GRAY)\n",
    "\n",
    "    # Normalize pixel values to be between 0 and 1\n",
    "    image = image.astype(np.float32) / 255.0\n",
    "\n",
    "    # You can apply additional preprocessing steps here based on your requirements\n",
    "\n",
    "    return image\n",
    "\n",
    "# Example usage\n",
    "root_folder = r\"C:\\Users\\ASUS\\Desktop\"\n",
    "all_preprocessed_images = preprocess_images_in_folders(root_folder)\n"
   ]
  },
  {
   "cell_type": "markdown",
   "id": "c003ebd1",
   "metadata": {},
   "source": [
    "USE THIS FOR TEST DATA"
   ]
  },
  {
   "cell_type": "code",
   "execution_count": null,
   "id": "4bc84276",
   "metadata": {},
   "outputs": [],
   "source": [
    "\n",
    "\n",
    "\n",
    "\n",
    "\n",
    "\n",
    "#THIS IS FOR TEST DATA CUT AND PASTE\n",
    "\n",
    "\n",
    "\n",
    "\n",
    "\n",
    "import shutil\n",
    "import os\n",
    "\n",
    "# Define the source and destination folder paths\n",
    "src_folder = '/path/to/source_folder/'\n",
    "dst_folder = '/path/to/destination_folder/'\n",
    "\n",
    "# Move all the contents of the source folder to the destination folder\n",
    "for filename in os.listdir(src_folder):\n",
    "    shutil.move(os.path.join(src_folder, filename), dst_folder)\n",
    "\n",
    "# Print a success message\n",
    "print(f\"All files from {src_folder} have been moved to {dst_folder}.\")\n"
   ]
  },
  {
   "cell_type": "code",
   "execution_count": 4,
   "id": "da96e5ac",
   "metadata": {},
   "outputs": [],
   "source": [
    "import os\n",
    "import random\n",
    "import shutil\n",
    "\n",
    "main_folder_path = r\"C:\\Users\\ASUS\\Desktop\\DATSAET\"\n",
    "client_paths = [r\"C:\\Users\\ASUS\\Desktop\\DATSAET\\client1\", r\"C:\\Users\\ASUS\\Desktop\\DATSAET\\client2\", r\"C:\\Users\\ASUS\\Desktop\\DATSAET\\client3\", r\"C:\\Users\\ASUS\\Desktop\\DATSAET\\client4\"]\n",
    "desired_distribution = {\n",
    "    'im_Dyskeratotic': [270, 156, 106, 81],\n",
    "    'im_Koilocytotic': [98, 109, 121, 190],\n",
    "    'im_Metaplastic': [124, 139, 89, 241],\n",
    "    'im_Parabasal': [152, 84, 234, 117],\n",
    "    'im_Superficial-Intermediate': [173, 131, 204, 113]\n",
    "}\n",
    "\n",
    "# Initialize client data dictionaries\n",
    "client_data = {client: {} for client in client_paths}\n",
    "\n",
    "# Iterate through the classes\n",
    "for class_folder in desired_distribution:\n",
    "    class_path = os.path.join(main_folder_path, class_folder)\n",
    "\n",
    "    # Check if the item is a directory (subfolder)\n",
    "    if os.path.isdir(class_path):\n",
    "        class_images = os.listdir(class_path)\n",
    "        random.shuffle(class_images)  # Shuffle images randomly\n",
    "\n",
    "        # Iterate through clients and assign images\n",
    "        for i, client in enumerate(client_paths):\n",
    "            start = sum(desired_distribution[class_folder][:i])\n",
    "            end = sum(desired_distribution[class_folder][:i + 1])\n",
    "\n",
    "            # Check if the client path exists in the dictionary\n",
    "            if client in client_data:\n",
    "                client_data[client].setdefault(class_folder, []).extend(class_images[start:end])\n",
    "\n",
    "# # Print the resulting distribution for each client\n",
    "# for client, distribution in client_data.items():\n",
    "#     print(f\"Client: {client}\")\n",
    "#     for class_folder, images in distribution.items():\n",
    "#         print(f\"  {class_folder}: {len(images)} images - {images[:5]}...\")\n",
    "\n",
    "# Copy images to the corresponding client folders\n",
    "for client, distribution in client_data.items():\n",
    "    client_folder = os.path.join(client)\n",
    "    os.makedirs(client_folder, exist_ok=True)\n",
    "\n",
    "    for class_folder, images in distribution.items():\n",
    "        class_path = os.path.join(main_folder_path, class_folder)\n",
    "        dest_path = os.path.join(client_folder, class_folder)\n",
    "        os.makedirs(dest_path, exist_ok=True)\n",
    "\n",
    "        for image in images:\n",
    "            src_path = os.path.join(class_path, image)\n",
    "            dest_image_path = os.path.join(dest_path, image)\n",
    "            shutil.copy(src_path, dest_image_path)\n"
   ]
  },
  {
   "cell_type": "code",
   "execution_count": 5,
   "id": "8fa86acf",
   "metadata": {},
   "outputs": [],
   "source": [
    "from keras.preprocessing.image import ImageDataGenerator\n",
    "def load_img_data1():\n",
    "    img_size = (128,128)\n",
    "    datagen = ImageDataGenerator()\n",
    "    train_data = datagen.flow_from_directory(\n",
    "        directory=r\"C:\\Users\\ASUS\\Desktop\\DATSAET\\client1\",\n",
    "        target_size=img_size,\n",
    "        class_mode=\"categorical\",\n",
    "        batch_size=32,\n",
    "    )\n",
    "    \n",
    "    return train_data"
   ]
  },
  {
   "cell_type": "code",
   "execution_count": 6,
   "id": "b60f69bf",
   "metadata": {},
   "outputs": [],
   "source": [
    "from keras.preprocessing.image import ImageDataGenerator\n",
    "def load_img_data2():\n",
    "    img_size = (128,128)\n",
    "    datagen = ImageDataGenerator()\n",
    "    train_data = datagen.flow_from_directory(\n",
    "        directory=r\"C:\\Users\\ASUS\\Desktop\\DATSAET\\client2\",\n",
    "        target_size=img_size,\n",
    "        class_mode=\"categorical\",\n",
    "        batch_size=32,\n",
    "    )\n",
    "    \n",
    "    return train_data"
   ]
  },
  {
   "cell_type": "code",
   "execution_count": 7,
   "id": "d3d9ae96",
   "metadata": {},
   "outputs": [],
   "source": [
    "from keras.preprocessing.image import ImageDataGenerator\n",
    "def load_img_data3():\n",
    "    img_size = (128,128)\n",
    "    datagen = ImageDataGenerator()\n",
    "    train_data = datagen.flow_from_directory(\n",
    "        directory=r\"C:\\Users\\ASUS\\Desktop\\DATSAET\\client3\",\n",
    "        target_size=img_size,\n",
    "        class_mode=\"categorical\",\n",
    "        batch_size=32,\n",
    "    )\n",
    "    \n",
    "    return train_data"
   ]
  },
  {
   "cell_type": "code",
   "execution_count": 8,
   "id": "561abcce",
   "metadata": {},
   "outputs": [],
   "source": [
    "from keras.preprocessing.image import ImageDataGenerator\n",
    "def load_img_data4():\n",
    "    img_size = (128,128)\n",
    "    datagen = ImageDataGenerator()\n",
    "    train_data = datagen.flow_from_directory(\n",
    "        directory=r\"C:\\Users\\ASUS\\Desktop\\DATSAET\\client4\",\n",
    "        target_size=img_size,\n",
    "        class_mode=\"categorical\",\n",
    "        batch_size=32,\n",
    "    )\n",
    "    \n",
    "    return train_data"
   ]
  },
  {
   "cell_type": "code",
   "execution_count": 9,
   "id": "b8575e6b",
   "metadata": {},
   "outputs": [
    {
     "name": "stdout",
     "output_type": "stream",
     "text": [
      "Found 1936 images belonging to 5 classes.\n",
      "Found 1586 images belonging to 5 classes.\n",
      "Found 1827 images belonging to 5 classes.\n",
      "Found 1758 images belonging to 5 classes.\n"
     ]
    }
   ],
   "source": [
    "train1=load_img_data1()\n",
    "train2=load_img_data2()\n",
    "train3=load_img_data3()\n",
    "train4=load_img_data4()"
   ]
  },
  {
   "cell_type": "code",
   "execution_count": 10,
   "id": "958309a5",
   "metadata": {},
   "outputs": [],
   "source": [
    "from keras.preprocessing.image import ImageDataGenerator\n",
    "import numpy as np\n",
    "\n",
    "# def one_hot_encode_labels(labels):\n",
    "#     # Your one_hot_encode_labels function here\n",
    "def on_hot_encode_labels(lables):\n",
    "    aug_list=[]\n",
    "    for i in range(len(lables)):\n",
    "        if lables[i]==0:\n",
    "            aug_list.append([0,1,0,0,0])\n",
    "        elif lables[i]==1:\n",
    "            aug_list.append([1,0,0,0,0])\n",
    "        elif lables[i]==2:\n",
    "            aug_list.append([0,0,1,0,0])\n",
    "        elif lables[i]==3:\n",
    "            aug_list.append([0,0,0,1,0])\n",
    "        elif lables[i]==4:\n",
    "            aug_list.append([0,0,0,0,1])\n",
    "    return aug_list"
   ]
  },
  {
   "cell_type": "code",
   "execution_count": 11,
   "id": "dd4c976e",
   "metadata": {},
   "outputs": [],
   "source": [
    "from keras.preprocessing.image import ImageDataGenerator\n",
    "import numpy as np\n",
    "\n",
    "def load_img_data(test_data):\n",
    "    img_size = (128, 128)\n",
    "\n",
    "    # Load images and labels into numpy arrays\n",
    "    images = []\n",
    "    labels = []\n",
    "    for batch in test_data:\n",
    "        images.extend(batch[0])  # Load images from the batch\n",
    "        labels.extend(np.argmax(batch[1], axis=1))  # Convert one-hot labels to integers\n",
    "        if len(labels) >= len(test_data.filenames):\n",
    "            break\n",
    "\n",
    "    # Convert labels to one-hot encoded format\n",
    "    one_hot_labels = on_hot_encode_labels(labels)\n",
    "\n",
    "    return np.array(images), np.array(one_hot_labels)\n"
   ]
  },
  {
   "cell_type": "code",
   "execution_count": 12,
   "id": "7d5d80b1",
   "metadata": {},
   "outputs": [],
   "source": [
    "train1, label1 = load_img_data(train1)\n",
    "train2, label2 = load_img_data(train2)\n",
    "train3, label3 = load_img_data(train3)\n",
    "train4, label4 = load_img_data(train4)"
   ]
  },
  {
   "cell_type": "code",
   "execution_count": 13,
   "id": "a37a3551",
   "metadata": {},
   "outputs": [],
   "source": [
    "train1=train1/255\n",
    "train2=train2/255\n",
    "train3=train3/255\n",
    "train4=train4/255"
   ]
  },
  {
   "cell_type": "markdown",
   "id": "38da0403",
   "metadata": {},
   "source": [
    "THIS IS FOR DISTRIBUTION OF DDATA INTO TEST FOLDER"
   ]
  },
  {
   "cell_type": "code",
   "execution_count": 16,
   "id": "8c222a3e",
   "metadata": {},
   "outputs": [],
   "source": [
    "import os\n",
    "import random\n",
    "import shutil\n",
    "main_folder_path = r\"C:\\Users\\ASUS\\Desktop\\DATSAET\"\n",
    "# main_folder_path = \"C:/Users/91898/Downloads/New folder\"\n",
    "client_paths = [r\"C:\\Users\\ASUS\\Desktop\\DATSAET\\test\"]\n",
    "desired_distribution = {\n",
    "    'im_Dyskeratotic': [200],\n",
    "    'im_Koilocytotic': [200],\n",
    "    'im_Metaplastic': [200],\n",
    "    'im_Parabasal': [200],\n",
    "    'im_Superficial-Intermediate': [200]\n",
    "}\n",
    "\n",
    "# Initialize client data dictionaries\n",
    "client_data = {client: {} for client in client_paths}\n",
    "\n",
    "# Iterate through the classes\n",
    "for class_folder in desired_distribution:\n",
    "    class_path = os.path.join(main_folder_path, class_folder)\n",
    "\n",
    "    # Check if the item is a directory (subfolder)\n",
    "    if os.path.isdir(class_path):\n",
    "        class_images = os.listdir(class_path)\n",
    "        random.shuffle(class_images)  # Shuffle images randomly\n",
    "\n",
    "        # Iterate through clients and assign images\n",
    "        for i, client in enumerate(client_paths):\n",
    "            start = sum(desired_distribution[class_folder][:i])\n",
    "            end = sum(desired_distribution[class_folder][:i + 1])\n",
    "\n",
    "            # Check if the client path exists in the dictionary\n",
    "            if client in client_data:\n",
    "                client_data[client].setdefault(class_folder, []).extend(class_images[start:end])\n",
    "\n",
    "# # Print the resulting distribution for each client\n",
    "# for client, distribution in client_data.items():\n",
    "#     print(f\"Client: {client}\")\n",
    "#     for class_folder, images in distribution.items():\n",
    "#         print(f\"  {class_folder}: {len(images)} images - {images[:5]}...\")\n",
    "\n",
    "# Copy images to the corresponding client folders\n",
    "for client, distribution in client_data.items():\n",
    "    client_folder = os.path.join(client)\n",
    "    os.makedirs(client_folder, exist_ok=True)\n",
    "\n",
    "    for class_folder, images in distribution.items():\n",
    "        class_path = os.path.join(main_folder_path, class_folder)\n",
    "        dest_path = os.path.join(client_folder, class_folder)\n",
    "        os.makedirs(dest_path, exist_ok=True)\n",
    "\n",
    "        for image in images:\n",
    "            src_path = os.path.join(class_path, image)\n",
    "            dest_image_path = os.path.join(dest_path, image)\n",
    "            shutil.copy(src_path, dest_image_path)\n"
   ]
  },
  {
   "cell_type": "code",
   "execution_count": 17,
   "id": "1ea6493a",
   "metadata": {},
   "outputs": [],
   "source": [
    "from keras.preprocessing.image import ImageDataGenerator\n",
    "def load_img_data():\n",
    "    img_size = (128,128)\n",
    "    datagen = ImageDataGenerator()\n",
    "    test_data = datagen.flow_from_directory(\n",
    "        directory=r\"C:\\Users\\ASUS\\Desktop\\DATSAET\\test\",\n",
    "        target_size=img_size,\n",
    "        class_mode=\"categorical\",\n",
    "        batch_size=32,\n",
    "    )\n",
    "    \n",
    "    return test_data"
   ]
  },
  {
   "cell_type": "code",
   "execution_count": 18,
   "id": "baaedbd4",
   "metadata": {},
   "outputs": [
    {
     "name": "stdout",
     "output_type": "stream",
     "text": [
      "Found 1000 images belonging to 5 classes.\n"
     ]
    }
   ],
   "source": [
    "test=load_img_data()"
   ]
  },
  {
   "cell_type": "code",
   "execution_count": 19,
   "id": "13d177f5",
   "metadata": {},
   "outputs": [],
   "source": [
    "from keras.preprocessing.image import ImageDataGenerator\n",
    "import numpy as np\n",
    "\n",
    "# def one_hot_encode_labels(labels):\n",
    "#     # Your one_hot_encode_labels function here\n",
    "def on_hot_encode_labels(lables):\n",
    "    aug_list=[]\n",
    "    for i in range(len(lables)):\n",
    "        if lables[i]==0:\n",
    "            aug_list.append([0,1,0,0,0])\n",
    "        elif lables[i]==1:\n",
    "            aug_list.append([1,0,0,0,0])\n",
    "        elif lables[i]==2:\n",
    "            aug_list.append([0,0,1,0,0])\n",
    "        elif lables[i]==3:\n",
    "            aug_list.append([0,0,0,1,0])\n",
    "        elif lables[i]==4:\n",
    "            aug_list.append([0,0,0,0,1])\n",
    "    return aug_list"
   ]
  },
  {
   "cell_type": "code",
   "execution_count": 20,
   "id": "ba2eb555",
   "metadata": {},
   "outputs": [],
   "source": [
    "from keras.preprocessing.image import ImageDataGenerator\n",
    "import numpy as np\n",
    "\n",
    "def load_img_data(test_data):\n",
    "    img_size = (128, 128)\n",
    "\n",
    "    # Load images and labels into numpy arrays\n",
    "    images = []\n",
    "    labels = []\n",
    "    for batch in test_data:\n",
    "        images.extend(batch[0])  # Load images from the batch\n",
    "        labels.extend(np.argmax(batch[1], axis=1))  # Convert one-hot labels to integers\n",
    "        if len(labels) >= len(test_data.filenames):\n",
    "            break\n",
    "\n",
    "    # Convert labels to one-hot encoded format\n",
    "    one_hot_labels = on_hot_encode_labels(labels)\n",
    "\n",
    "    return np.array(images), np.array(one_hot_labels)\n"
   ]
  },
  {
   "cell_type": "code",
   "execution_count": 21,
   "id": "b5ca9655",
   "metadata": {},
   "outputs": [],
   "source": [
    "test, one_hot_labels = load_img_data(test)"
   ]
  },
  {
   "cell_type": "code",
   "execution_count": 22,
   "id": "425072c2",
   "metadata": {},
   "outputs": [],
   "source": [
    "test=test/255"
   ]
  },
  {
   "cell_type": "code",
   "execution_count": 25,
   "id": "343b220a-ba1a-41cf-8fdf-2cc239a80d88",
   "metadata": {
    "scrolled": true
   },
   "outputs": [
    {
     "name": "stdout",
     "output_type": "stream",
     "text": [
      "Collecting tensorflow_hub\n",
      "  Obtaining dependency information for tensorflow_hub from https://files.pythonhosted.org/packages/e5/50/00dba77925bf2a0a1e45d7bcf8a69a1d2534fb4bb277d9010bd148d2235e/tensorflow_hub-0.16.1-py2.py3-none-any.whl.metadata\n",
      "  Downloading tensorflow_hub-0.16.1-py2.py3-none-any.whl.metadata (1.3 kB)\n",
      "Requirement already satisfied: numpy>=1.12.0 in c:\\anaconda\\lib\\site-packages (from tensorflow_hub) (1.26.3)\n",
      "Requirement already satisfied: protobuf>=3.19.6 in c:\\anaconda\\lib\\site-packages (from tensorflow_hub) (4.23.4)\n",
      "Collecting tf-keras>=2.14.1 (from tensorflow_hub)\n",
      "  Obtaining dependency information for tf-keras>=2.14.1 from https://files.pythonhosted.org/packages/19/26/ca8a6cca61f2a44f1e7ee71ebdb9c8dfbc4371f418db811cdca4641f6daa/tf_keras-2.15.0-py3-none-any.whl.metadata\n",
      "  Downloading tf_keras-2.15.0-py3-none-any.whl.metadata (1.6 kB)\n",
      "Downloading tensorflow_hub-0.16.1-py2.py3-none-any.whl (30 kB)\n",
      "Downloading tf_keras-2.15.0-py3-none-any.whl (1.7 MB)\n",
      "   ---------------------------------------- 0.0/1.7 MB ? eta -:--:--\n",
      "   ---------------------------------------- 0.0/1.7 MB ? eta -:--:--\n",
      "   ---------------------------------------- 0.0/1.7 MB ? eta -:--:--\n",
      "   ---------------------------------------- 0.0/1.7 MB ? eta -:--:--\n",
      "   ---------------------------------------- 0.0/1.7 MB ? eta -:--:--\n",
      "   ---------------------------------------- 0.0/1.7 MB ? eta -:--:--\n",
      "   ---------------------------------------- 0.0/1.7 MB ? eta -:--:--\n",
      "   ---------------------------------------- 0.0/1.7 MB ? eta -:--:--\n",
      "   ---------------------------------------- 0.0/1.7 MB ? eta -:--:--\n",
      "   ---------------------------------------- 0.0/1.7 MB ? eta -:--:--\n",
      "   ---------------------------------------- 0.0/1.7 MB ? eta -:--:--\n",
      "   ---------------------------------------- 0.0/1.7 MB ? eta -:--:--\n",
      "   ---------------------------------------- 0.0/1.7 MB ? eta -:--:--\n",
      "   ---------------------------------------- 0.0/1.7 MB ? eta -:--:--\n",
      "    --------------------------------------- 0.0/1.7 MB 52.5 kB/s eta 0:00:33\n",
      "    --------------------------------------- 0.0/1.7 MB 52.5 kB/s eta 0:00:33\n",
      "    --------------------------------------- 0.0/1.7 MB 52.5 kB/s eta 0:00:33\n",
      "    --------------------------------------- 0.0/1.7 MB 52.5 kB/s eta 0:00:33\n",
      "    --------------------------------------- 0.0/1.7 MB 51.8 kB/s eta 0:00:33\n",
      "    --------------------------------------- 0.0/1.7 MB 51.8 kB/s eta 0:00:33\n",
      "    --------------------------------------- 0.0/1.7 MB 51.8 kB/s eta 0:00:33\n",
      "    --------------------------------------- 0.0/1.7 MB 51.8 kB/s eta 0:00:33\n",
      "    --------------------------------------- 0.0/1.7 MB 51.8 kB/s eta 0:00:33\n",
      "    --------------------------------------- 0.0/1.7 MB 51.8 kB/s eta 0:00:33\n",
      "   - -------------------------------------- 0.1/1.7 MB 58.5 kB/s eta 0:00:29\n",
      "   - -------------------------------------- 0.1/1.7 MB 58.5 kB/s eta 0:00:29\n",
      "   - -------------------------------------- 0.1/1.7 MB 58.5 kB/s eta 0:00:29\n",
      "   - -------------------------------------- 0.1/1.7 MB 58.5 kB/s eta 0:00:29\n",
      "   - -------------------------------------- 0.1/1.7 MB 58.5 kB/s eta 0:00:29\n",
      "   - -------------------------------------- 0.1/1.7 MB 58.5 kB/s eta 0:00:29\n",
      "   - -------------------------------------- 0.1/1.7 MB 53.1 kB/s eta 0:00:31\n",
      "   - -------------------------------------- 0.1/1.7 MB 53.1 kB/s eta 0:00:31\n",
      "   - -------------------------------------- 0.1/1.7 MB 53.1 kB/s eta 0:00:31\n",
      "   - -------------------------------------- 0.1/1.7 MB 53.1 kB/s eta 0:00:31\n",
      "   - -------------------------------------- 0.1/1.7 MB 53.1 kB/s eta 0:00:31\n",
      "   -- ------------------------------------- 0.1/1.7 MB 59.6 kB/s eta 0:00:28\n",
      "   -- ------------------------------------- 0.1/1.7 MB 59.6 kB/s eta 0:00:28\n",
      "   -- ------------------------------------- 0.1/1.7 MB 59.6 kB/s eta 0:00:28\n",
      "   -- ------------------------------------- 0.1/1.7 MB 59.6 kB/s eta 0:00:28\n",
      "   -- ------------------------------------- 0.1/1.7 MB 59.6 kB/s eta 0:00:28\n",
      "   -- ------------------------------------- 0.1/1.7 MB 59.6 kB/s eta 0:00:28\n",
      "   -- ------------------------------------- 0.1/1.7 MB 59.6 kB/s eta 0:00:28\n",
      "   -- ------------------------------------- 0.1/1.7 MB 60.7 kB/s eta 0:00:27\n",
      "   -- ------------------------------------- 0.1/1.7 MB 60.7 kB/s eta 0:00:27\n",
      "   -- ------------------------------------- 0.1/1.7 MB 60.7 kB/s eta 0:00:27\n",
      "   -- ------------------------------------- 0.1/1.7 MB 60.7 kB/s eta 0:00:27\n",
      "   -- ------------------------------------- 0.1/1.7 MB 60.7 kB/s eta 0:00:27\n",
      "   -- ------------------------------------- 0.1/1.7 MB 60.7 kB/s eta 0:00:27\n",
      "   -- ------------------------------------- 0.1/1.7 MB 60.7 kB/s eta 0:00:27\n",
      "   -- ------------------------------------- 0.1/1.7 MB 60.7 kB/s eta 0:00:27\n",
      "   -- ------------------------------------- 0.1/1.7 MB 60.7 kB/s eta 0:00:27\n",
      "   -- ------------------------------------- 0.1/1.7 MB 60.7 kB/s eta 0:00:27\n",
      "   -- ------------------------------------- 0.1/1.7 MB 60.7 kB/s eta 0:00:27\n",
      "   -- ------------------------------------- 0.1/1.7 MB 60.7 kB/s eta 0:00:27\n",
      "   -- ------------------------------------- 0.1/1.7 MB 60.7 kB/s eta 0:00:27\n",
      "   -- ------------------------------------- 0.1/1.7 MB 48.7 kB/s eta 0:00:33\n",
      "   -- ------------------------------------- 0.1/1.7 MB 48.7 kB/s eta 0:00:33\n",
      "   --- ------------------------------------ 0.1/1.7 MB 54.6 kB/s eta 0:00:29\n",
      "   --- ------------------------------------ 0.1/1.7 MB 54.6 kB/s eta 0:00:29\n",
      "   --- ------------------------------------ 0.1/1.7 MB 54.6 kB/s eta 0:00:29\n",
      "   --- ------------------------------------ 0.1/1.7 MB 54.6 kB/s eta 0:00:29\n",
      "   --- ------------------------------------ 0.1/1.7 MB 54.6 kB/s eta 0:00:29\n",
      "   --- ------------------------------------ 0.1/1.7 MB 54.6 kB/s eta 0:00:29\n",
      "   --- ------------------------------------ 0.1/1.7 MB 54.6 kB/s eta 0:00:29\n",
      "   --- ------------------------------------ 0.2/1.7 MB 52.1 kB/s eta 0:00:30\n",
      "   --- ------------------------------------ 0.2/1.7 MB 52.1 kB/s eta 0:00:30\n",
      "   --- ------------------------------------ 0.2/1.7 MB 52.1 kB/s eta 0:00:30\n",
      "   --- ------------------------------------ 0.2/1.7 MB 52.1 kB/s eta 0:00:30\n",
      "   --- ------------------------------------ 0.2/1.7 MB 52.1 kB/s eta 0:00:30\n",
      "   --- ------------------------------------ 0.2/1.7 MB 52.1 kB/s eta 0:00:30\n",
      "   --- ------------------------------------ 0.2/1.7 MB 52.1 kB/s eta 0:00:30\n",
      "   --- ------------------------------------ 0.2/1.7 MB 52.1 kB/s eta 0:00:30\n",
      "   --- ------------------------------------ 0.2/1.7 MB 52.1 kB/s eta 0:00:30\n",
      "   --- ------------------------------------ 0.2/1.7 MB 52.1 kB/s eta 0:00:30\n",
      "   ---- ----------------------------------- 0.2/1.7 MB 52.7 kB/s eta 0:00:30\n",
      "   ---- ----------------------------------- 0.2/1.7 MB 52.7 kB/s eta 0:00:30\n",
      "   ---- ----------------------------------- 0.2/1.7 MB 52.7 kB/s eta 0:00:30\n",
      "   ---- ----------------------------------- 0.2/1.7 MB 52.7 kB/s eta 0:00:30\n",
      "   ---- ----------------------------------- 0.2/1.7 MB 52.7 kB/s eta 0:00:30\n",
      "   ---- ----------------------------------- 0.2/1.7 MB 52.7 kB/s eta 0:00:30\n",
      "   ---- ----------------------------------- 0.2/1.7 MB 52.7 kB/s eta 0:00:30\n",
      "   ---- ----------------------------------- 0.2/1.7 MB 53.9 kB/s eta 0:00:29\n",
      "   ---- ----------------------------------- 0.2/1.7 MB 53.9 kB/s eta 0:00:29\n",
      "   ---- ----------------------------------- 0.2/1.7 MB 53.9 kB/s eta 0:00:29\n",
      "   ---- ----------------------------------- 0.2/1.7 MB 53.9 kB/s eta 0:00:29\n",
      "   ---- ----------------------------------- 0.2/1.7 MB 53.9 kB/s eta 0:00:29\n",
      "   ---- ----------------------------------- 0.2/1.7 MB 53.9 kB/s eta 0:00:29\n",
      "   ---- ----------------------------------- 0.2/1.7 MB 53.9 kB/s eta 0:00:29\n",
      "   ---- ----------------------------------- 0.2/1.7 MB 53.9 kB/s eta 0:00:29\n",
      "   ---- ----------------------------------- 0.2/1.7 MB 53.9 kB/s eta 0:00:29\n",
      "   ---- ----------------------------------- 0.2/1.7 MB 53.9 kB/s eta 0:00:29\n",
      "   ---- ----------------------------------- 0.2/1.7 MB 53.9 kB/s eta 0:00:29\n",
      "   ---- ----------------------------------- 0.2/1.7 MB 53.9 kB/s eta 0:00:29\n",
      "   ---- ----------------------------------- 0.2/1.7 MB 53.9 kB/s eta 0:00:29\n",
      "   ---- ----------------------------------- 0.2/1.7 MB 53.9 kB/s eta 0:00:29\n",
      "   ---- ----------------------------------- 0.2/1.7 MB 53.9 kB/s eta 0:00:29\n",
      "   ---- ----------------------------------- 0.2/1.7 MB 53.9 kB/s eta 0:00:29\n",
      "   ----- ---------------------------------- 0.2/1.7 MB 53.1 kB/s eta 0:00:29\n",
      "   ----- ---------------------------------- 0.2/1.7 MB 53.1 kB/s eta 0:00:29\n",
      "   ----- ---------------------------------- 0.2/1.7 MB 53.1 kB/s eta 0:00:29\n",
      "   ----- ---------------------------------- 0.2/1.7 MB 53.1 kB/s eta 0:00:29\n",
      "   ----- ---------------------------------- 0.2/1.7 MB 53.1 kB/s eta 0:00:29\n",
      "   ----- ---------------------------------- 0.2/1.7 MB 53.1 kB/s eta 0:00:29\n",
      "   ----- ---------------------------------- 0.2/1.7 MB 53.1 kB/s eta 0:00:29\n",
      "   ----- ---------------------------------- 0.2/1.7 MB 53.1 kB/s eta 0:00:29\n",
      "   ----- ---------------------------------- 0.2/1.7 MB 53.1 kB/s eta 0:00:29\n",
      "   ----- ---------------------------------- 0.2/1.7 MB 51.3 kB/s eta 0:00:29\n",
      "   ----- ---------------------------------- 0.2/1.7 MB 51.3 kB/s eta 0:00:29\n",
      "   ----- ---------------------------------- 0.2/1.7 MB 51.3 kB/s eta 0:00:29\n",
      "   ----- ---------------------------------- 0.2/1.7 MB 51.3 kB/s eta 0:00:29\n",
      "   ----- ---------------------------------- 0.2/1.7 MB 51.3 kB/s eta 0:00:29\n",
      "   ----- ---------------------------------- 0.2/1.7 MB 51.3 kB/s eta 0:00:29\n",
      "   ----- ---------------------------------- 0.2/1.7 MB 51.3 kB/s eta 0:00:29\n",
      "   ----- ---------------------------------- 0.2/1.7 MB 51.3 kB/s eta 0:00:29\n",
      "   ----- ---------------------------------- 0.2/1.7 MB 51.3 kB/s eta 0:00:29\n",
      "   ----- ---------------------------------- 0.3/1.7 MB 51.6 kB/s eta 0:00:29\n",
      "   ----- ---------------------------------- 0.3/1.7 MB 51.6 kB/s eta 0:00:29\n",
      "   ----- ---------------------------------- 0.3/1.7 MB 51.6 kB/s eta 0:00:29\n",
      "   ----- ---------------------------------- 0.3/1.7 MB 51.6 kB/s eta 0:00:29\n",
      "   ----- ---------------------------------- 0.3/1.7 MB 51.6 kB/s eta 0:00:29\n",
      "   ----- ---------------------------------- 0.3/1.7 MB 51.6 kB/s eta 0:00:29\n",
      "   ----- ---------------------------------- 0.3/1.7 MB 51.6 kB/s eta 0:00:29\n",
      "   ----- ---------------------------------- 0.3/1.7 MB 51.6 kB/s eta 0:00:29\n",
      "   ----- ---------------------------------- 0.3/1.7 MB 51.6 kB/s eta 0:00:29\n",
      "   ------ --------------------------------- 0.3/1.7 MB 51.9 kB/s eta 0:00:28\n",
      "   ------ --------------------------------- 0.3/1.7 MB 51.9 kB/s eta 0:00:28\n",
      "   ------ --------------------------------- 0.3/1.7 MB 51.9 kB/s eta 0:00:28\n",
      "   ------ --------------------------------- 0.3/1.7 MB 51.9 kB/s eta 0:00:28\n",
      "   ------ --------------------------------- 0.3/1.7 MB 51.9 kB/s eta 0:00:28\n",
      "   ------ --------------------------------- 0.3/1.7 MB 51.9 kB/s eta 0:00:28\n",
      "   ------ --------------------------------- 0.3/1.7 MB 51.9 kB/s eta 0:00:28\n",
      "   ------ --------------------------------- 0.3/1.7 MB 51.9 kB/s eta 0:00:28\n",
      "   ------ --------------------------------- 0.3/1.7 MB 51.9 kB/s eta 0:00:28\n",
      "   ------ --------------------------------- 0.3/1.7 MB 51.9 kB/s eta 0:00:28\n",
      "   ------ --------------------------------- 0.3/1.7 MB 51.9 kB/s eta 0:00:28\n",
      "   ------ --------------------------------- 0.3/1.7 MB 51.9 kB/s eta 0:00:28\n",
      "   ------ --------------------------------- 0.3/1.7 MB 51.9 kB/s eta 0:00:28\n",
      "   ------ --------------------------------- 0.3/1.7 MB 51.9 kB/s eta 0:00:28\n",
      "   ------ --------------------------------- 0.3/1.7 MB 51.9 kB/s eta 0:00:28\n",
      "   ------ --------------------------------- 0.3/1.7 MB 51.9 kB/s eta 0:00:28\n",
      "   ------ --------------------------------- 0.3/1.7 MB 48.0 kB/s eta 0:00:30\n",
      "   ------ --------------------------------- 0.3/1.7 MB 48.0 kB/s eta 0:00:30\n",
      "   ------ --------------------------------- 0.3/1.7 MB 48.0 kB/s eta 0:00:30\n",
      "   ------- -------------------------------- 0.3/1.7 MB 50.4 kB/s eta 0:00:28\n",
      "   ------- -------------------------------- 0.3/1.7 MB 50.4 kB/s eta 0:00:28\n",
      "   ------- -------------------------------- 0.3/1.7 MB 50.4 kB/s eta 0:00:28\n",
      "   ------- -------------------------------- 0.3/1.7 MB 50.4 kB/s eta 0:00:28\n",
      "   ------- -------------------------------- 0.3/1.7 MB 50.4 kB/s eta 0:00:28\n",
      "   ------- -------------------------------- 0.3/1.7 MB 50.4 kB/s eta 0:00:28\n",
      "   ------- -------------------------------- 0.3/1.7 MB 50.4 kB/s eta 0:00:28\n",
      "   ------- -------------------------------- 0.3/1.7 MB 50.4 kB/s eta 0:00:28\n",
      "   ------- -------------------------------- 0.3/1.7 MB 50.4 kB/s eta 0:00:28\n",
      "   ------- -------------------------------- 0.3/1.7 MB 50.4 kB/s eta 0:00:28\n",
      "   ------- -------------------------------- 0.3/1.7 MB 50.4 kB/s eta 0:00:28\n",
      "   ------- -------------------------------- 0.3/1.7 MB 48.1 kB/s eta 0:00:30\n",
      "   ------- -------------------------------- 0.3/1.7 MB 48.1 kB/s eta 0:00:30\n",
      "   ------- -------------------------------- 0.3/1.7 MB 48.1 kB/s eta 0:00:30\n",
      "   ------- -------------------------------- 0.3/1.7 MB 48.1 kB/s eta 0:00:30\n",
      "   ------- -------------------------------- 0.3/1.7 MB 48.1 kB/s eta 0:00:30\n",
      "   ------- -------------------------------- 0.3/1.7 MB 48.1 kB/s eta 0:00:30\n",
      "   ------- -------------------------------- 0.3/1.7 MB 48.1 kB/s eta 0:00:30\n",
      "   ------- -------------------------------- 0.3/1.7 MB 48.1 kB/s eta 0:00:30\n",
      "   ------- -------------------------------- 0.3/1.7 MB 48.1 kB/s eta 0:00:30\n",
      "   ------- -------------------------------- 0.3/1.7 MB 48.1 kB/s eta 0:00:30\n",
      "   ------- -------------------------------- 0.3/1.7 MB 48.1 kB/s eta 0:00:30\n",
      "   ------- -------------------------------- 0.3/1.7 MB 48.1 kB/s eta 0:00:30\n",
      "   ------- -------------------------------- 0.3/1.7 MB 47.4 kB/s eta 0:00:30\n",
      "   ------- -------------------------------- 0.3/1.7 MB 47.4 kB/s eta 0:00:30\n",
      "   ------- -------------------------------- 0.3/1.7 MB 47.4 kB/s eta 0:00:30\n",
      "   ------- -------------------------------- 0.3/1.7 MB 47.4 kB/s eta 0:00:30\n",
      "   ------- -------------------------------- 0.3/1.7 MB 47.4 kB/s eta 0:00:30\n",
      "   ------- -------------------------------- 0.3/1.7 MB 47.4 kB/s eta 0:00:30\n",
      "   ------- -------------------------------- 0.3/1.7 MB 47.4 kB/s eta 0:00:30\n",
      "   ------- -------------------------------- 0.3/1.7 MB 47.4 kB/s eta 0:00:30\n",
      "   ------- -------------------------------- 0.3/1.7 MB 47.4 kB/s eta 0:00:30\n",
      "   ------- -------------------------------- 0.3/1.7 MB 47.4 kB/s eta 0:00:30\n",
      "   ------- -------------------------------- 0.3/1.7 MB 47.4 kB/s eta 0:00:30\n",
      "   -------- ------------------------------- 0.4/1.7 MB 46.8 kB/s eta 0:00:29\n",
      "   -------- ------------------------------- 0.4/1.7 MB 46.8 kB/s eta 0:00:29\n",
      "   -------- ------------------------------- 0.4/1.7 MB 46.8 kB/s eta 0:00:29\n",
      "   -------- ------------------------------- 0.4/1.7 MB 46.8 kB/s eta 0:00:29\n",
      "   -------- ------------------------------- 0.4/1.7 MB 46.8 kB/s eta 0:00:29\n",
      "   -------- ------------------------------- 0.4/1.7 MB 46.8 kB/s eta 0:00:29\n",
      "   -------- ------------------------------- 0.4/1.7 MB 46.8 kB/s eta 0:00:29\n",
      "   -------- ------------------------------- 0.4/1.7 MB 46.8 kB/s eta 0:00:29\n",
      "   -------- ------------------------------- 0.4/1.7 MB 46.8 kB/s eta 0:00:29\n",
      "   -------- ------------------------------- 0.4/1.7 MB 46.8 kB/s eta 0:00:29\n",
      "   -------- ------------------------------- 0.4/1.7 MB 46.8 kB/s eta 0:00:29\n",
      "   -------- ------------------------------- 0.4/1.7 MB 46.8 kB/s eta 0:00:29\n",
      "   -------- ------------------------------- 0.4/1.7 MB 46.8 kB/s eta 0:00:29\n",
      "   -------- ------------------------------- 0.4/1.7 MB 46.8 kB/s eta 0:00:29\n",
      "   -------- ------------------------------- 0.4/1.7 MB 46.8 kB/s eta 0:00:29\n",
      "   -------- ------------------------------- 0.4/1.7 MB 46.8 kB/s eta 0:00:29\n",
      "   -------- ------------------------------- 0.4/1.7 MB 44.2 kB/s eta 0:00:31\n",
      "   -------- ------------------------------- 0.4/1.7 MB 44.2 kB/s eta 0:00:31\n",
      "   -------- ------------------------------- 0.4/1.7 MB 44.2 kB/s eta 0:00:31\n",
      "   -------- ------------------------------- 0.4/1.7 MB 44.2 kB/s eta 0:00:31\n",
      "   -------- ------------------------------- 0.4/1.7 MB 44.2 kB/s eta 0:00:31\n",
      "   -------- ------------------------------- 0.4/1.7 MB 44.2 kB/s eta 0:00:31\n",
      "   -------- ------------------------------- 0.4/1.7 MB 44.2 kB/s eta 0:00:31\n",
      "   -------- ------------------------------- 0.4/1.7 MB 44.2 kB/s eta 0:00:31\n",
      "   -------- ------------------------------- 0.4/1.7 MB 44.2 kB/s eta 0:00:31\n",
      "   -------- ------------------------------- 0.4/1.7 MB 44.2 kB/s eta 0:00:31\n",
      "   -------- ------------------------------- 0.4/1.7 MB 44.2 kB/s eta 0:00:31\n",
      "   -------- ------------------------------- 0.4/1.7 MB 44.2 kB/s eta 0:00:31\n",
      "   -------- ------------------------------- 0.4/1.7 MB 44.2 kB/s eta 0:00:31\n",
      "   -------- ------------------------------- 0.4/1.7 MB 44.2 kB/s eta 0:00:31\n",
      "   -------- ------------------------------- 0.4/1.7 MB 44.2 kB/s eta 0:00:31\n",
      "   --------- ------------------------------ 0.4/1.7 MB 43.0 kB/s eta 0:00:31\n",
      "   --------- ------------------------------ 0.4/1.7 MB 43.0 kB/s eta 0:00:31\n",
      "   --------- ------------------------------ 0.4/1.7 MB 43.0 kB/s eta 0:00:31\n",
      "   --------- ------------------------------ 0.4/1.7 MB 43.0 kB/s eta 0:00:31\n",
      "   --------- ------------------------------ 0.4/1.7 MB 43.0 kB/s eta 0:00:31\n",
      "   --------- ------------------------------ 0.4/1.7 MB 43.0 kB/s eta 0:00:31\n",
      "   --------- ------------------------------ 0.4/1.7 MB 43.0 kB/s eta 0:00:31\n",
      "   --------- ------------------------------ 0.4/1.7 MB 43.0 kB/s eta 0:00:31\n",
      "   --------- ------------------------------ 0.4/1.7 MB 43.0 kB/s eta 0:00:31\n",
      "   --------- ------------------------------ 0.4/1.7 MB 42.3 kB/s eta 0:00:32\n",
      "   --------- ------------------------------ 0.4/1.7 MB 42.3 kB/s eta 0:00:32\n",
      "   --------- ------------------------------ 0.4/1.7 MB 42.3 kB/s eta 0:00:32\n",
      "   --------- ------------------------------ 0.4/1.7 MB 42.3 kB/s eta 0:00:32\n",
      "   --------- ------------------------------ 0.4/1.7 MB 42.3 kB/s eta 0:00:32\n",
      "   --------- ------------------------------ 0.4/1.7 MB 42.3 kB/s eta 0:00:32\n",
      "   --------- ------------------------------ 0.4/1.7 MB 42.3 kB/s eta 0:00:32\n",
      "   --------- ------------------------------ 0.4/1.7 MB 42.3 kB/s eta 0:00:32\n",
      "   --------- ------------------------------ 0.4/1.7 MB 42.3 kB/s eta 0:00:32\n",
      "   --------- ------------------------------ 0.4/1.7 MB 42.3 kB/s eta 0:00:32\n",
      "   --------- ------------------------------ 0.4/1.7 MB 42.3 kB/s eta 0:00:32\n",
      "   --------- ------------------------------ 0.4/1.7 MB 42.3 kB/s eta 0:00:32\n",
      "   --------- ------------------------------ 0.4/1.7 MB 42.3 kB/s eta 0:00:32\n",
      "   --------- ------------------------------ 0.4/1.7 MB 42.3 kB/s eta 0:00:32\n",
      "   --------- ------------------------------ 0.4/1.7 MB 42.3 kB/s eta 0:00:32\n",
      "   --------- ------------------------------ 0.4/1.7 MB 42.3 kB/s eta 0:00:32\n",
      "   --------- ------------------------------ 0.4/1.7 MB 42.3 kB/s eta 0:00:32\n",
      "   --------- ------------------------------ 0.4/1.7 MB 40.2 kB/s eta 0:00:33\n",
      "   --------- ------------------------------ 0.4/1.7 MB 40.2 kB/s eta 0:00:33\n",
      "   --------- ------------------------------ 0.4/1.7 MB 40.2 kB/s eta 0:00:33\n",
      "   --------- ------------------------------ 0.4/1.7 MB 40.2 kB/s eta 0:00:33\n",
      "   --------- ------------------------------ 0.4/1.7 MB 40.2 kB/s eta 0:00:33\n",
      "   --------- ------------------------------ 0.4/1.7 MB 40.2 kB/s eta 0:00:33\n",
      "   --------- ------------------------------ 0.4/1.7 MB 40.2 kB/s eta 0:00:33\n",
      "   --------- ------------------------------ 0.4/1.7 MB 40.2 kB/s eta 0:00:33\n",
      "   --------- ------------------------------ 0.4/1.7 MB 40.2 kB/s eta 0:00:33\n",
      "   --------- ------------------------------ 0.4/1.7 MB 40.2 kB/s eta 0:00:33\n",
      "   --------- ------------------------------ 0.4/1.7 MB 40.2 kB/s eta 0:00:33\n",
      "   --------- ------------------------------ 0.4/1.7 MB 40.2 kB/s eta 0:00:33\n",
      "   --------- ------------------------------ 0.4/1.7 MB 40.2 kB/s eta 0:00:33\n",
      "   --------- ------------------------------ 0.4/1.7 MB 40.2 kB/s eta 0:00:33\n",
      "   --------- ------------------------------ 0.4/1.7 MB 40.2 kB/s eta 0:00:33\n",
      "   --------- ------------------------------ 0.4/1.7 MB 40.2 kB/s eta 0:00:33\n",
      "   --------- ------------------------------ 0.4/1.7 MB 40.2 kB/s eta 0:00:33\n",
      "   ---------- ----------------------------- 0.4/1.7 MB 39.3 kB/s eta 0:00:33\n",
      "   ---------- ----------------------------- 0.4/1.7 MB 39.3 kB/s eta 0:00:33\n",
      "   ---------- ----------------------------- 0.4/1.7 MB 39.3 kB/s eta 0:00:33\n",
      "   ---------- ----------------------------- 0.4/1.7 MB 39.3 kB/s eta 0:00:33\n",
      "   ---------- ----------------------------- 0.4/1.7 MB 39.3 kB/s eta 0:00:33\n",
      "   ---------- ----------------------------- 0.4/1.7 MB 39.3 kB/s eta 0:00:33\n",
      "   ---------- ----------------------------- 0.4/1.7 MB 39.3 kB/s eta 0:00:33\n",
      "   ---------- ----------------------------- 0.4/1.7 MB 39.3 kB/s eta 0:00:33\n",
      "   ---------- ----------------------------- 0.4/1.7 MB 39.3 kB/s eta 0:00:33\n",
      "   ---------- ----------------------------- 0.4/1.7 MB 39.3 kB/s eta 0:00:33\n",
      "   ---------- ----------------------------- 0.4/1.7 MB 39.3 kB/s eta 0:00:33\n",
      "   ---------- ----------------------------- 0.4/1.7 MB 39.3 kB/s eta 0:00:33\n",
      "   ---------- ----------------------------- 0.4/1.7 MB 39.3 kB/s eta 0:00:33\n",
      "   ---------- ----------------------------- 0.4/1.7 MB 39.3 kB/s eta 0:00:33\n",
      "   ---------- ----------------------------- 0.4/1.7 MB 39.3 kB/s eta 0:00:33\n",
      "   ---------- ----------------------------- 0.4/1.7 MB 39.3 kB/s eta 0:00:33\n",
      "   ---------- ----------------------------- 0.4/1.7 MB 39.3 kB/s eta 0:00:33\n",
      "   ---------- ----------------------------- 0.4/1.7 MB 39.3 kB/s eta 0:00:33\n",
      "   ---------- ----------------------------- 0.5/1.7 MB 38.3 kB/s eta 0:00:33\n",
      "   ---------- ----------------------------- 0.5/1.7 MB 38.3 kB/s eta 0:00:33\n",
      "   ---------- ----------------------------- 0.5/1.7 MB 38.3 kB/s eta 0:00:33\n",
      "   ---------- ----------------------------- 0.5/1.7 MB 38.3 kB/s eta 0:00:33\n",
      "   ---------- ----------------------------- 0.5/1.7 MB 38.3 kB/s eta 0:00:33\n",
      "   ---------- ----------------------------- 0.5/1.7 MB 38.3 kB/s eta 0:00:33\n",
      "   ---------- ----------------------------- 0.5/1.7 MB 38.3 kB/s eta 0:00:33\n",
      "   ---------- ----------------------------- 0.5/1.7 MB 38.3 kB/s eta 0:00:33\n",
      "   ---------- ----------------------------- 0.5/1.7 MB 38.3 kB/s eta 0:00:33\n",
      "   ---------- ----------------------------- 0.5/1.7 MB 38.3 kB/s eta 0:00:33\n",
      "   ---------- ----------------------------- 0.5/1.7 MB 38.3 kB/s eta 0:00:33\n",
      "   ---------- ----------------------------- 0.5/1.7 MB 38.3 kB/s eta 0:00:33\n",
      "   ---------- ----------------------------- 0.5/1.7 MB 38.3 kB/s eta 0:00:33\n",
      "   ---------- ----------------------------- 0.5/1.7 MB 38.3 kB/s eta 0:00:33\n",
      "   ---------- ----------------------------- 0.5/1.7 MB 37.2 kB/s eta 0:00:34\n",
      "   ---------- ----------------------------- 0.5/1.7 MB 37.2 kB/s eta 0:00:34\n",
      "   ---------- ----------------------------- 0.5/1.7 MB 37.2 kB/s eta 0:00:34\n",
      "   ---------- ----------------------------- 0.5/1.7 MB 37.2 kB/s eta 0:00:34\n",
      "   ---------- ----------------------------- 0.5/1.7 MB 37.2 kB/s eta 0:00:34\n",
      "   ---------- ----------------------------- 0.5/1.7 MB 37.2 kB/s eta 0:00:34\n",
      "   ---------- ----------------------------- 0.5/1.7 MB 37.2 kB/s eta 0:00:34\n",
      "   ---------- ----------------------------- 0.5/1.7 MB 37.2 kB/s eta 0:00:34\n",
      "   ---------- ----------------------------- 0.5/1.7 MB 37.2 kB/s eta 0:00:34\n",
      "   ----------- ---------------------------- 0.5/1.7 MB 37.6 kB/s eta 0:00:33\n",
      "   ----------- ---------------------------- 0.5/1.7 MB 37.6 kB/s eta 0:00:33\n",
      "   ----------- ---------------------------- 0.5/1.7 MB 37.6 kB/s eta 0:00:33\n",
      "   ----------- ---------------------------- 0.5/1.7 MB 37.6 kB/s eta 0:00:33\n",
      "   ----------- ---------------------------- 0.5/1.7 MB 37.6 kB/s eta 0:00:33\n",
      "   ----------- ---------------------------- 0.5/1.7 MB 37.6 kB/s eta 0:00:33\n",
      "   ----------- ---------------------------- 0.5/1.7 MB 37.6 kB/s eta 0:00:33\n",
      "   ----------- ---------------------------- 0.5/1.7 MB 37.6 kB/s eta 0:00:33\n",
      "   ----------- ---------------------------- 0.5/1.7 MB 37.6 kB/s eta 0:00:33\n",
      "   ----------- ---------------------------- 0.5/1.7 MB 37.6 kB/s eta 0:00:33\n",
      "   ----------- ---------------------------- 0.5/1.7 MB 37.6 kB/s eta 0:00:33\n",
      "   ----------- ---------------------------- 0.5/1.7 MB 37.6 kB/s eta 0:00:33\n",
      "   ----------- ---------------------------- 0.5/1.7 MB 37.6 kB/s eta 0:00:33\n",
      "   ----------- ---------------------------- 0.5/1.7 MB 37.6 kB/s eta 0:00:33\n",
      "   ----------- ---------------------------- 0.5/1.7 MB 37.6 kB/s eta 0:00:33\n",
      "   ----------- ---------------------------- 0.5/1.7 MB 37.6 kB/s eta 0:00:33\n",
      "   ----------- ---------------------------- 0.5/1.7 MB 37.6 kB/s eta 0:00:33\n",
      "   ----------- ---------------------------- 0.5/1.7 MB 37.6 kB/s eta 0:00:33\n",
      "   ----------- ---------------------------- 0.5/1.7 MB 37.6 kB/s eta 0:00:33\n",
      "   ----------- ---------------------------- 0.5/1.7 MB 37.6 kB/s eta 0:00:33\n",
      "   ----------- ---------------------------- 0.5/1.7 MB 37.6 kB/s eta 0:00:33\n",
      "   ----------- ---------------------------- 0.5/1.7 MB 37.6 kB/s eta 0:00:33\n",
      "   ----------- ---------------------------- 0.5/1.7 MB 37.6 kB/s eta 0:00:33\n",
      "   ----------- ---------------------------- 0.5/1.7 MB 35.6 kB/s eta 0:00:35\n",
      "   ----------- ---------------------------- 0.5/1.7 MB 35.6 kB/s eta 0:00:35\n",
      "   ----------- ---------------------------- 0.5/1.7 MB 35.6 kB/s eta 0:00:35\n",
      "   ----------- ---------------------------- 0.5/1.7 MB 35.6 kB/s eta 0:00:35\n",
      "   ----------- ---------------------------- 0.5/1.7 MB 35.6 kB/s eta 0:00:35\n",
      "   ----------- ---------------------------- 0.5/1.7 MB 35.6 kB/s eta 0:00:35\n",
      "   ----------- ---------------------------- 0.5/1.7 MB 35.6 kB/s eta 0:00:35\n",
      "   ----------- ---------------------------- 0.5/1.7 MB 35.6 kB/s eta 0:00:35\n",
      "   ----------- ---------------------------- 0.5/1.7 MB 35.6 kB/s eta 0:00:35\n",
      "   ----------- ---------------------------- 0.5/1.7 MB 35.6 kB/s eta 0:00:35\n",
      "   ----------- ---------------------------- 0.5/1.7 MB 35.6 kB/s eta 0:00:35\n",
      "   ----------- ---------------------------- 0.5/1.7 MB 35.6 kB/s eta 0:00:35\n",
      "   ----------- ---------------------------- 0.5/1.7 MB 35.8 kB/s eta 0:00:34\n",
      "   ----------- ---------------------------- 0.5/1.7 MB 35.8 kB/s eta 0:00:34\n",
      "   ----------- ---------------------------- 0.5/1.7 MB 35.8 kB/s eta 0:00:34\n",
      "   ----------- ---------------------------- 0.5/1.7 MB 35.8 kB/s eta 0:00:34\n",
      "   ----------- ---------------------------- 0.5/1.7 MB 35.8 kB/s eta 0:00:34\n",
      "   ----------- ---------------------------- 0.5/1.7 MB 35.8 kB/s eta 0:00:34\n",
      "   ----------- ---------------------------- 0.5/1.7 MB 35.8 kB/s eta 0:00:34\n",
      "   ----------- ---------------------------- 0.5/1.7 MB 35.8 kB/s eta 0:00:34\n",
      "   ----------- ---------------------------- 0.5/1.7 MB 35.8 kB/s eta 0:00:34\n",
      "   ----------- ---------------------------- 0.5/1.7 MB 35.8 kB/s eta 0:00:34\n",
      "   ----------- ---------------------------- 0.5/1.7 MB 35.8 kB/s eta 0:00:34\n",
      "   ----------- ---------------------------- 0.5/1.7 MB 35.8 kB/s eta 0:00:34\n",
      "   ----------- ---------------------------- 0.5/1.7 MB 35.8 kB/s eta 0:00:34\n",
      "   ----------- ---------------------------- 0.5/1.7 MB 35.8 kB/s eta 0:00:34\n",
      "   ----------- ---------------------------- 0.5/1.7 MB 35.8 kB/s eta 0:00:34\n",
      "   ----------- ---------------------------- 0.5/1.7 MB 35.8 kB/s eta 0:00:34\n",
      "   ----------- ---------------------------- 0.5/1.7 MB 35.8 kB/s eta 0:00:34\n",
      "   ----------- ---------------------------- 0.5/1.7 MB 35.8 kB/s eta 0:00:34\n",
      "   ----------- ---------------------------- 0.5/1.7 MB 35.8 kB/s eta 0:00:34\n",
      "   ----------- ---------------------------- 0.5/1.7 MB 35.8 kB/s eta 0:00:34\n",
      "   ----------- ---------------------------- 0.5/1.7 MB 35.8 kB/s eta 0:00:34\n",
      "   ----------- ---------------------------- 0.5/1.7 MB 35.8 kB/s eta 0:00:34\n",
      "   ----------- ---------------------------- 0.5/1.7 MB 35.8 kB/s eta 0:00:34\n",
      "   ----------- ---------------------------- 0.5/1.7 MB 35.8 kB/s eta 0:00:34\n",
      "   ----------- ---------------------------- 0.5/1.7 MB 35.8 kB/s eta 0:00:34\n",
      "   ------------ --------------------------- 0.5/1.7 MB 34.7 kB/s eta 0:00:35\n",
      "   ------------ --------------------------- 0.5/1.7 MB 34.7 kB/s eta 0:00:35\n",
      "   ------------ --------------------------- 0.5/1.7 MB 34.7 kB/s eta 0:00:35\n",
      "   ------------ --------------------------- 0.5/1.7 MB 34.7 kB/s eta 0:00:35\n",
      "   ------------ --------------------------- 0.5/1.7 MB 34.7 kB/s eta 0:00:35\n",
      "   ------------ --------------------------- 0.5/1.7 MB 34.7 kB/s eta 0:00:35\n",
      "   ------------ --------------------------- 0.5/1.7 MB 34.7 kB/s eta 0:00:35\n",
      "   ------------ --------------------------- 0.5/1.7 MB 34.7 kB/s eta 0:00:35\n",
      "   ------------ --------------------------- 0.5/1.7 MB 34.7 kB/s eta 0:00:35\n",
      "   ------------ --------------------------- 0.5/1.7 MB 34.7 kB/s eta 0:00:35\n",
      "   ------------ --------------------------- 0.5/1.7 MB 34.3 kB/s eta 0:00:35\n",
      "   ------------ --------------------------- 0.5/1.7 MB 34.3 kB/s eta 0:00:35\n",
      "   ------------ --------------------------- 0.5/1.7 MB 34.3 kB/s eta 0:00:35\n",
      "   ------------ --------------------------- 0.5/1.7 MB 34.3 kB/s eta 0:00:35\n",
      "   ------------ --------------------------- 0.5/1.7 MB 34.3 kB/s eta 0:00:35\n",
      "   ------------ --------------------------- 0.5/1.7 MB 34.3 kB/s eta 0:00:35\n",
      "   ------------ --------------------------- 0.5/1.7 MB 34.3 kB/s eta 0:00:35\n",
      "   ------------ --------------------------- 0.5/1.7 MB 34.3 kB/s eta 0:00:35\n",
      "   ------------ --------------------------- 0.5/1.7 MB 34.3 kB/s eta 0:00:35\n",
      "   ------------ --------------------------- 0.5/1.7 MB 34.3 kB/s eta 0:00:35\n",
      "   ------------ --------------------------- 0.5/1.7 MB 34.3 kB/s eta 0:00:35\n",
      "   ------------ --------------------------- 0.5/1.7 MB 34.3 kB/s eta 0:00:35\n",
      "   ------------ --------------------------- 0.5/1.7 MB 34.3 kB/s eta 0:00:35\n",
      "   ------------ --------------------------- 0.5/1.7 MB 34.3 kB/s eta 0:00:35\n",
      "   ------------ --------------------------- 0.5/1.7 MB 34.3 kB/s eta 0:00:35\n",
      "   ------------ --------------------------- 0.5/1.7 MB 34.3 kB/s eta 0:00:35\n",
      "   ------------ --------------------------- 0.5/1.7 MB 34.3 kB/s eta 0:00:35\n",
      "   ------------ --------------------------- 0.5/1.7 MB 34.3 kB/s eta 0:00:35\n",
      "   ------------ --------------------------- 0.5/1.7 MB 34.3 kB/s eta 0:00:35\n",
      "   ------------ --------------------------- 0.5/1.7 MB 34.3 kB/s eta 0:00:35\n",
      "   ------------ --------------------------- 0.5/1.7 MB 34.3 kB/s eta 0:00:35\n",
      "   ------------ --------------------------- 0.5/1.7 MB 34.3 kB/s eta 0:00:35\n",
      "   ------------ --------------------------- 0.5/1.7 MB 34.3 kB/s eta 0:00:35\n",
      "   ------------ --------------------------- 0.5/1.7 MB 34.3 kB/s eta 0:00:35\n",
      "   ------------- -------------------------- 0.6/1.7 MB 33.2 kB/s eta 0:00:35\n",
      "   ------------- -------------------------- 0.6/1.7 MB 33.2 kB/s eta 0:00:35\n",
      "   ------------- -------------------------- 0.6/1.7 MB 33.2 kB/s eta 0:00:35\n",
      "   ------------- -------------------------- 0.6/1.7 MB 33.2 kB/s eta 0:00:35\n",
      "   ------------- -------------------------- 0.6/1.7 MB 33.2 kB/s eta 0:00:35\n",
      "   ------------- -------------------------- 0.6/1.7 MB 33.2 kB/s eta 0:00:35\n",
      "   ------------- -------------------------- 0.6/1.7 MB 33.2 kB/s eta 0:00:35\n",
      "   ------------- -------------------------- 0.6/1.7 MB 33.2 kB/s eta 0:00:35\n",
      "   ------------- -------------------------- 0.6/1.7 MB 33.2 kB/s eta 0:00:35\n",
      "   ------------- -------------------------- 0.6/1.7 MB 33.2 kB/s eta 0:00:35\n",
      "   ------------- -------------------------- 0.6/1.7 MB 33.2 kB/s eta 0:00:35\n",
      "   ------------- -------------------------- 0.6/1.7 MB 33.2 kB/s eta 0:00:35\n",
      "   ------------- -------------------------- 0.6/1.7 MB 33.2 kB/s eta 0:00:35\n",
      "   ------------- -------------------------- 0.6/1.7 MB 33.2 kB/s eta 0:00:35\n",
      "   ------------- -------------------------- 0.6/1.7 MB 33.2 kB/s eta 0:00:35\n",
      "   ------------- -------------------------- 0.6/1.7 MB 33.2 kB/s eta 0:00:35\n",
      "   ------------- -------------------------- 0.6/1.7 MB 33.2 kB/s eta 0:00:35\n",
      "   ------------- -------------------------- 0.6/1.7 MB 33.2 kB/s eta 0:00:35\n",
      "   ------------- -------------------------- 0.6/1.7 MB 33.2 kB/s eta 0:00:35\n",
      "   ------------- -------------------------- 0.6/1.7 MB 33.2 kB/s eta 0:00:35\n",
      "   ------------- -------------------------- 0.6/1.7 MB 33.2 kB/s eta 0:00:35\n",
      "   ------------- -------------------------- 0.6/1.7 MB 33.2 kB/s eta 0:00:35\n",
      "   ------------- -------------------------- 0.6/1.7 MB 33.2 kB/s eta 0:00:35\n",
      "   ------------- -------------------------- 0.6/1.7 MB 33.2 kB/s eta 0:00:35\n",
      "   ------------- -------------------------- 0.6/1.7 MB 33.2 kB/s eta 0:00:35\n",
      "   ------------- -------------------------- 0.6/1.7 MB 33.2 kB/s eta 0:00:35\n",
      "   ------------- -------------------------- 0.6/1.7 MB 33.2 kB/s eta 0:00:35\n",
      "   ------------- -------------------------- 0.6/1.7 MB 33.2 kB/s eta 0:00:35\n",
      "   ------------- -------------------------- 0.6/1.7 MB 33.2 kB/s eta 0:00:35\n",
      "   ------------- -------------------------- 0.6/1.7 MB 33.2 kB/s eta 0:00:35\n",
      "   ------------- -------------------------- 0.6/1.7 MB 33.2 kB/s eta 0:00:35\n",
      "   ------------- -------------------------- 0.6/1.7 MB 32.2 kB/s eta 0:00:35\n",
      "   ------------- -------------------------- 0.6/1.7 MB 32.2 kB/s eta 0:00:35\n",
      "   ------------- -------------------------- 0.6/1.7 MB 32.2 kB/s eta 0:00:35\n",
      "   ------------- -------------------------- 0.6/1.7 MB 32.2 kB/s eta 0:00:35\n",
      "   ------------- -------------------------- 0.6/1.7 MB 32.2 kB/s eta 0:00:35\n",
      "   ------------- -------------------------- 0.6/1.7 MB 32.2 kB/s eta 0:00:35\n",
      "   ------------- -------------------------- 0.6/1.7 MB 32.2 kB/s eta 0:00:35\n",
      "   ------------- -------------------------- 0.6/1.7 MB 32.2 kB/s eta 0:00:35\n",
      "   ------------- -------------------------- 0.6/1.7 MB 32.2 kB/s eta 0:00:35\n",
      "   ------------- -------------------------- 0.6/1.7 MB 32.2 kB/s eta 0:00:35\n",
      "   ------------- -------------------------- 0.6/1.7 MB 32.2 kB/s eta 0:00:35\n",
      "   ------------- -------------------------- 0.6/1.7 MB 32.2 kB/s eta 0:00:35\n",
      "   ------------- -------------------------- 0.6/1.7 MB 32.2 kB/s eta 0:00:35\n",
      "   ------------- -------------------------- 0.6/1.7 MB 32.2 kB/s eta 0:00:35\n",
      "   ------------- -------------------------- 0.6/1.7 MB 32.2 kB/s eta 0:00:35\n",
      "   ------------- -------------------------- 0.6/1.7 MB 32.2 kB/s eta 0:00:35\n",
      "   ------------- -------------------------- 0.6/1.7 MB 32.2 kB/s eta 0:00:35\n",
      "   ------------- -------------------------- 0.6/1.7 MB 32.2 kB/s eta 0:00:35\n",
      "   ------------- -------------------------- 0.6/1.7 MB 32.2 kB/s eta 0:00:35\n",
      "   ------------- -------------------------- 0.6/1.7 MB 32.2 kB/s eta 0:00:35\n",
      "   ------------- -------------------------- 0.6/1.7 MB 32.2 kB/s eta 0:00:35\n",
      "   ------------- -------------------------- 0.6/1.7 MB 32.2 kB/s eta 0:00:35\n",
      "   ------------- -------------------------- 0.6/1.7 MB 32.2 kB/s eta 0:00:35\n",
      "   ------------- -------------------------- 0.6/1.7 MB 32.2 kB/s eta 0:00:35\n",
      "   ------------- -------------------------- 0.6/1.7 MB 32.2 kB/s eta 0:00:35\n",
      "   ------------- -------------------------- 0.6/1.7 MB 32.2 kB/s eta 0:00:35\n",
      "   ------------- -------------------------- 0.6/1.7 MB 32.2 kB/s eta 0:00:35\n",
      "   ------------- -------------------------- 0.6/1.7 MB 32.2 kB/s eta 0:00:35\n",
      "   ------------- -------------------------- 0.6/1.7 MB 32.2 kB/s eta 0:00:35\n",
      "   ------------- -------------------------- 0.6/1.7 MB 32.2 kB/s eta 0:00:35\n",
      "   ------------- -------------------------- 0.6/1.7 MB 32.2 kB/s eta 0:00:35\n",
      "   ------------- -------------------------- 0.6/1.7 MB 32.2 kB/s eta 0:00:35\n",
      "   ------------- -------------------------- 0.6/1.7 MB 32.2 kB/s eta 0:00:35\n",
      "   ------------- -------------------------- 0.6/1.7 MB 32.2 kB/s eta 0:00:35\n",
      "   ------------- -------------------------- 0.6/1.7 MB 32.2 kB/s eta 0:00:35\n",
      "   -------------- ------------------------- 0.6/1.7 MB 30.6 kB/s eta 0:00:36\n",
      "   -------------- ------------------------- 0.6/1.7 MB 30.6 kB/s eta 0:00:36\n",
      "   -------------- ------------------------- 0.6/1.7 MB 30.6 kB/s eta 0:00:36\n",
      "   -------------- ------------------------- 0.6/1.7 MB 30.6 kB/s eta 0:00:36\n",
      "   -------------- ------------------------- 0.6/1.7 MB 30.6 kB/s eta 0:00:36\n",
      "   -------------- ------------------------- 0.6/1.7 MB 30.6 kB/s eta 0:00:36\n",
      "   -------------- ------------------------- 0.6/1.7 MB 30.6 kB/s eta 0:00:36\n",
      "   -------------- ------------------------- 0.6/1.7 MB 30.6 kB/s eta 0:00:36\n",
      "   -------------- ------------------------- 0.6/1.7 MB 30.6 kB/s eta 0:00:36\n",
      "   -------------- ------------------------- 0.6/1.7 MB 30.6 kB/s eta 0:00:36\n",
      "   -------------- ------------------------- 0.6/1.7 MB 30.6 kB/s eta 0:00:36\n",
      "   -------------- ------------------------- 0.6/1.7 MB 30.6 kB/s eta 0:00:36\n",
      "   -------------- ------------------------- 0.6/1.7 MB 30.6 kB/s eta 0:00:36\n",
      "   -------------- ------------------------- 0.6/1.7 MB 30.6 kB/s eta 0:00:36\n",
      "   -------------- ------------------------- 0.6/1.7 MB 30.6 kB/s eta 0:00:36\n",
      "   -------------- ------------------------- 0.6/1.7 MB 30.6 kB/s eta 0:00:36\n",
      "   -------------- ------------------------- 0.6/1.7 MB 30.6 kB/s eta 0:00:36\n",
      "   -------------- ------------------------- 0.6/1.7 MB 30.6 kB/s eta 0:00:36\n",
      "   -------------- ------------------------- 0.6/1.7 MB 30.6 kB/s eta 0:00:36\n",
      "   -------------- ------------------------- 0.6/1.7 MB 30.6 kB/s eta 0:00:36\n",
      "   -------------- ------------------------- 0.6/1.7 MB 30.6 kB/s eta 0:00:36\n",
      "   -------------- ------------------------- 0.6/1.7 MB 30.6 kB/s eta 0:00:36\n",
      "   -------------- ------------------------- 0.6/1.7 MB 30.6 kB/s eta 0:00:36\n",
      "   -------------- ------------------------- 0.6/1.7 MB 30.6 kB/s eta 0:00:36\n",
      "   -------------- ------------------------- 0.6/1.7 MB 30.6 kB/s eta 0:00:36\n",
      "   -------------- ------------------------- 0.6/1.7 MB 30.6 kB/s eta 0:00:36\n",
      "   -------------- ------------------------- 0.6/1.7 MB 30.6 kB/s eta 0:00:36\n",
      "   -------------- ------------------------- 0.6/1.7 MB 30.6 kB/s eta 0:00:36\n",
      "   -------------- ------------------------- 0.6/1.7 MB 30.6 kB/s eta 0:00:36\n",
      "   -------------- ------------------------- 0.6/1.7 MB 30.6 kB/s eta 0:00:36\n",
      "   -------------- ------------------------- 0.6/1.7 MB 30.6 kB/s eta 0:00:36\n",
      "   -------------- ------------------------- 0.6/1.7 MB 30.6 kB/s eta 0:00:36\n",
      "   -------------- ------------------------- 0.6/1.7 MB 30.6 kB/s eta 0:00:36\n",
      "   -------------- ------------------------- 0.6/1.7 MB 30.6 kB/s eta 0:00:36\n",
      "   -------------- ------------------------- 0.6/1.7 MB 30.6 kB/s eta 0:00:36\n",
      "   -------------- ------------------------- 0.6/1.7 MB 30.6 kB/s eta 0:00:36\n",
      "   -------------- ------------------------- 0.6/1.7 MB 30.6 kB/s eta 0:00:36\n",
      "   -------------- ------------------------- 0.6/1.7 MB 30.6 kB/s eta 0:00:36\n",
      "   -------------- ------------------------- 0.6/1.7 MB 30.6 kB/s eta 0:00:36\n",
      "   -------------- ------------------------- 0.6/1.7 MB 30.6 kB/s eta 0:00:36\n",
      "   -------------- ------------------------- 0.6/1.7 MB 30.6 kB/s eta 0:00:36\n",
      "   -------------- ------------------------- 0.6/1.7 MB 28.4 kB/s eta 0:00:39\n",
      "   -------------- ------------------------- 0.6/1.7 MB 28.4 kB/s eta 0:00:39\n",
      "   -------------- ------------------------- 0.6/1.7 MB 28.4 kB/s eta 0:00:39\n",
      "   -------------- ------------------------- 0.6/1.7 MB 28.4 kB/s eta 0:00:39\n",
      "   -------------- ------------------------- 0.6/1.7 MB 28.4 kB/s eta 0:00:39\n",
      "   -------------- ------------------------- 0.6/1.7 MB 28.4 kB/s eta 0:00:39\n",
      "   -------------- ------------------------- 0.6/1.7 MB 28.4 kB/s eta 0:00:39\n",
      "   -------------- ------------------------- 0.6/1.7 MB 28.4 kB/s eta 0:00:39\n",
      "   -------------- ------------------------- 0.6/1.7 MB 28.4 kB/s eta 0:00:39\n",
      "   -------------- ------------------------- 0.6/1.7 MB 28.4 kB/s eta 0:00:39\n",
      "   -------------- ------------------------- 0.6/1.7 MB 28.4 kB/s eta 0:00:39\n",
      "   -------------- ------------------------- 0.6/1.7 MB 28.4 kB/s eta 0:00:39\n",
      "   -------------- ------------------------- 0.6/1.7 MB 28.4 kB/s eta 0:00:39\n",
      "   -------------- ------------------------- 0.6/1.7 MB 28.4 kB/s eta 0:00:39\n",
      "   -------------- ------------------------- 0.6/1.7 MB 28.4 kB/s eta 0:00:39\n",
      "   -------------- ------------------------- 0.6/1.7 MB 28.4 kB/s eta 0:00:39\n",
      "   -------------- ------------------------- 0.6/1.7 MB 28.4 kB/s eta 0:00:39\n",
      "   -------------- ------------------------- 0.6/1.7 MB 28.4 kB/s eta 0:00:39\n",
      "   -------------- ------------------------- 0.6/1.7 MB 28.4 kB/s eta 0:00:39\n",
      "   -------------- ------------------------- 0.6/1.7 MB 28.4 kB/s eta 0:00:39\n",
      "   -------------- ------------------------- 0.6/1.7 MB 28.4 kB/s eta 0:00:39\n",
      "   -------------- ------------------------- 0.6/1.7 MB 28.4 kB/s eta 0:00:39\n",
      "   -------------- ------------------------- 0.6/1.7 MB 28.4 kB/s eta 0:00:39\n",
      "   -------------- ------------------------- 0.6/1.7 MB 28.4 kB/s eta 0:00:39\n",
      "   -------------- ------------------------- 0.6/1.7 MB 28.4 kB/s eta 0:00:39\n",
      "   -------------- ------------------------- 0.6/1.7 MB 28.4 kB/s eta 0:00:39\n",
      "   -------------- ------------------------- 0.6/1.7 MB 28.4 kB/s eta 0:00:39\n",
      "   -------------- ------------------------- 0.6/1.7 MB 28.4 kB/s eta 0:00:39\n",
      "   -------------- ------------------------- 0.6/1.7 MB 28.4 kB/s eta 0:00:39\n",
      "   -------------- ------------------------- 0.6/1.7 MB 28.4 kB/s eta 0:00:39\n",
      "   -------------- ------------------------- 0.6/1.7 MB 28.4 kB/s eta 0:00:39\n",
      "   -------------- ------------------------- 0.6/1.7 MB 28.4 kB/s eta 0:00:39\n",
      "   -------------- ------------------------- 0.6/1.7 MB 28.4 kB/s eta 0:00:39\n",
      "   -------------- ------------------------- 0.6/1.7 MB 28.4 kB/s eta 0:00:39\n",
      "   -------------- ------------------------- 0.6/1.7 MB 28.4 kB/s eta 0:00:39\n",
      "   -------------- ------------------------- 0.6/1.7 MB 28.4 kB/s eta 0:00:39\n",
      "   -------------- ------------------------- 0.6/1.7 MB 28.4 kB/s eta 0:00:39\n",
      "   -------------- ------------------------- 0.6/1.7 MB 28.4 kB/s eta 0:00:39\n",
      "   -------------- ------------------------- 0.6/1.7 MB 28.4 kB/s eta 0:00:39\n",
      "   -------------- ------------------------- 0.6/1.7 MB 28.4 kB/s eta 0:00:39\n",
      "   -------------- ------------------------- 0.6/1.7 MB 28.4 kB/s eta 0:00:39\n",
      "   -------------- ------------------------- 0.6/1.7 MB 28.4 kB/s eta 0:00:39\n",
      "   -------------- ------------------------- 0.6/1.7 MB 28.4 kB/s eta 0:00:39\n",
      "   -------------- ------------------------- 0.6/1.7 MB 28.4 kB/s eta 0:00:39\n",
      "   -------------- ------------------------- 0.6/1.7 MB 28.4 kB/s eta 0:00:39\n",
      "   -------------- ------------------------- 0.6/1.7 MB 28.4 kB/s eta 0:00:39\n",
      "   --------------- ------------------------ 0.6/1.7 MB 27.0 kB/s eta 0:00:40\n",
      "   --------------- ------------------------ 0.6/1.7 MB 27.0 kB/s eta 0:00:40\n",
      "   --------------- ------------------------ 0.6/1.7 MB 27.0 kB/s eta 0:00:40\n",
      "   --------------- ------------------------ 0.6/1.7 MB 27.0 kB/s eta 0:00:40\n",
      "   --------------- ------------------------ 0.6/1.7 MB 27.0 kB/s eta 0:00:40\n",
      "   --------------- ------------------------ 0.6/1.7 MB 27.0 kB/s eta 0:00:40\n",
      "   --------------- ------------------------ 0.6/1.7 MB 27.0 kB/s eta 0:00:40\n",
      "   --------------- ------------------------ 0.6/1.7 MB 27.0 kB/s eta 0:00:40\n",
      "   --------------- ------------------------ 0.6/1.7 MB 27.0 kB/s eta 0:00:40\n",
      "   --------------- ------------------------ 0.6/1.7 MB 27.0 kB/s eta 0:00:40\n",
      "   --------------- ------------------------ 0.6/1.7 MB 27.0 kB/s eta 0:00:40\n",
      "   --------------- ------------------------ 0.6/1.7 MB 27.0 kB/s eta 0:00:40\n",
      "   --------------- ------------------------ 0.6/1.7 MB 27.0 kB/s eta 0:00:40\n",
      "   --------------- ------------------------ 0.6/1.7 MB 27.0 kB/s eta 0:00:40\n",
      "   --------------- ------------------------ 0.6/1.7 MB 27.0 kB/s eta 0:00:40\n",
      "   --------------- ------------------------ 0.6/1.7 MB 27.0 kB/s eta 0:00:40\n",
      "   --------------- ------------------------ 0.6/1.7 MB 27.0 kB/s eta 0:00:40\n",
      "   --------------- ------------------------ 0.6/1.7 MB 27.0 kB/s eta 0:00:40\n",
      "   --------------- ------------------------ 0.6/1.7 MB 27.0 kB/s eta 0:00:40\n",
      "   --------------- ------------------------ 0.6/1.7 MB 27.0 kB/s eta 0:00:40\n",
      "   --------------- ------------------------ 0.6/1.7 MB 27.0 kB/s eta 0:00:40\n",
      "   --------------- ------------------------ 0.6/1.7 MB 27.0 kB/s eta 0:00:40\n",
      "   --------------- ------------------------ 0.6/1.7 MB 27.0 kB/s eta 0:00:40\n",
      "   --------------- ------------------------ 0.7/1.7 MB 26.4 kB/s eta 0:00:41\n",
      "   --------------- ------------------------ 0.7/1.7 MB 26.4 kB/s eta 0:00:41\n",
      "   --------------- ------------------------ 0.7/1.7 MB 26.4 kB/s eta 0:00:41\n",
      "   --------------- ------------------------ 0.7/1.7 MB 26.4 kB/s eta 0:00:41\n",
      "   --------------- ------------------------ 0.7/1.7 MB 26.4 kB/s eta 0:00:41\n",
      "   --------------- ------------------------ 0.7/1.7 MB 26.4 kB/s eta 0:00:41\n",
      "   --------------- ------------------------ 0.7/1.7 MB 26.4 kB/s eta 0:00:41\n",
      "   --------------- ------------------------ 0.7/1.7 MB 26.4 kB/s eta 0:00:41\n",
      "   --------------- ------------------------ 0.7/1.7 MB 26.4 kB/s eta 0:00:41\n",
      "   --------------- ------------------------ 0.7/1.7 MB 26.4 kB/s eta 0:00:41\n",
      "   --------------- ------------------------ 0.7/1.7 MB 26.4 kB/s eta 0:00:41\n",
      "   --------------- ------------------------ 0.7/1.7 MB 26.4 kB/s eta 0:00:41\n",
      "   --------------- ------------------------ 0.7/1.7 MB 26.4 kB/s eta 0:00:41\n",
      "   --------------- ------------------------ 0.7/1.7 MB 26.4 kB/s eta 0:00:41\n",
      "   --------------- ------------------------ 0.7/1.7 MB 26.4 kB/s eta 0:00:41\n",
      "   --------------- ------------------------ 0.7/1.7 MB 26.4 kB/s eta 0:00:41\n",
      "   --------------- ------------------------ 0.7/1.7 MB 26.4 kB/s eta 0:00:41\n",
      "   --------------- ------------------------ 0.7/1.7 MB 26.4 kB/s eta 0:00:41\n",
      "   --------------- ------------------------ 0.7/1.7 MB 26.4 kB/s eta 0:00:41\n",
      "   --------------- ------------------------ 0.7/1.7 MB 26.4 kB/s eta 0:00:41\n",
      "   --------------- ------------------------ 0.7/1.7 MB 26.4 kB/s eta 0:00:41\n",
      "   --------------- ------------------------ 0.7/1.7 MB 26.4 kB/s eta 0:00:41\n",
      "   --------------- ------------------------ 0.7/1.7 MB 26.4 kB/s eta 0:00:41\n",
      "   --------------- ------------------------ 0.7/1.7 MB 26.4 kB/s eta 0:00:41\n",
      "   --------------- ------------------------ 0.7/1.7 MB 26.4 kB/s eta 0:00:41\n",
      "   --------------- ------------------------ 0.7/1.7 MB 26.0 kB/s eta 0:00:40\n",
      "   --------------- ------------------------ 0.7/1.7 MB 26.0 kB/s eta 0:00:40\n",
      "   --------------- ------------------------ 0.7/1.7 MB 26.0 kB/s eta 0:00:40\n",
      "   --------------- ------------------------ 0.7/1.7 MB 26.0 kB/s eta 0:00:40\n",
      "   --------------- ------------------------ 0.7/1.7 MB 26.0 kB/s eta 0:00:40\n",
      "   --------------- ------------------------ 0.7/1.7 MB 26.0 kB/s eta 0:00:40\n",
      "   --------------- ------------------------ 0.7/1.7 MB 26.0 kB/s eta 0:00:40\n",
      "   --------------- ------------------------ 0.7/1.7 MB 26.0 kB/s eta 0:00:40\n",
      "   --------------- ------------------------ 0.7/1.7 MB 26.0 kB/s eta 0:00:40\n",
      "   --------------- ------------------------ 0.7/1.7 MB 26.0 kB/s eta 0:00:40\n",
      "   --------------- ------------------------ 0.7/1.7 MB 26.0 kB/s eta 0:00:40\n",
      "   --------------- ------------------------ 0.7/1.7 MB 26.0 kB/s eta 0:00:40\n",
      "   --------------- ------------------------ 0.7/1.7 MB 26.0 kB/s eta 0:00:40\n",
      "   --------------- ------------------------ 0.7/1.7 MB 26.0 kB/s eta 0:00:40\n",
      "   --------------- ------------------------ 0.7/1.7 MB 26.0 kB/s eta 0:00:40\n",
      "   --------------- ------------------------ 0.7/1.7 MB 26.0 kB/s eta 0:00:40\n",
      "   --------------- ------------------------ 0.7/1.7 MB 26.0 kB/s eta 0:00:40\n",
      "   --------------- ------------------------ 0.7/1.7 MB 26.0 kB/s eta 0:00:40\n",
      "   --------------- ------------------------ 0.7/1.7 MB 26.0 kB/s eta 0:00:40\n",
      "   --------------- ------------------------ 0.7/1.7 MB 26.0 kB/s eta 0:00:40\n",
      "   --------------- ------------------------ 0.7/1.7 MB 26.0 kB/s eta 0:00:40\n",
      "   ---------------- ----------------------- 0.7/1.7 MB 25.9 kB/s eta 0:00:40\n",
      "   ---------------- ----------------------- 0.7/1.7 MB 25.9 kB/s eta 0:00:40\n",
      "   ---------------- ----------------------- 0.7/1.7 MB 25.9 kB/s eta 0:00:40\n",
      "   ---------------- ----------------------- 0.7/1.7 MB 25.9 kB/s eta 0:00:40\n",
      "   ---------------- ----------------------- 0.7/1.7 MB 25.9 kB/s eta 0:00:40\n",
      "   ---------------- ----------------------- 0.7/1.7 MB 25.9 kB/s eta 0:00:40\n",
      "   ---------------- ----------------------- 0.7/1.7 MB 25.9 kB/s eta 0:00:40\n",
      "   ---------------- ----------------------- 0.7/1.7 MB 25.9 kB/s eta 0:00:40\n",
      "   ---------------- ----------------------- 0.7/1.7 MB 25.9 kB/s eta 0:00:40\n",
      "   ---------------- ----------------------- 0.7/1.7 MB 25.9 kB/s eta 0:00:40\n",
      "   ---------------- ----------------------- 0.7/1.7 MB 25.9 kB/s eta 0:00:40\n",
      "   ---------------- ----------------------- 0.7/1.7 MB 25.9 kB/s eta 0:00:40\n",
      "   ---------------- ----------------------- 0.7/1.7 MB 25.9 kB/s eta 0:00:40\n",
      "   ---------------- ----------------------- 0.7/1.7 MB 25.9 kB/s eta 0:00:40\n",
      "   ---------------- ----------------------- 0.7/1.7 MB 25.9 kB/s eta 0:00:40\n",
      "   ---------------- ----------------------- 0.7/1.7 MB 25.6 kB/s eta 0:00:40\n",
      "   ---------------- ----------------------- 0.7/1.7 MB 25.6 kB/s eta 0:00:40\n",
      "   ---------------- ----------------------- 0.7/1.7 MB 25.6 kB/s eta 0:00:40\n",
      "   ---------------- ----------------------- 0.7/1.7 MB 25.6 kB/s eta 0:00:40\n",
      "   ---------------- ----------------------- 0.7/1.7 MB 25.6 kB/s eta 0:00:40\n",
      "   ---------------- ----------------------- 0.7/1.7 MB 25.6 kB/s eta 0:00:40\n",
      "   ---------------- ----------------------- 0.7/1.7 MB 25.6 kB/s eta 0:00:40\n",
      "   ---------------- ----------------------- 0.7/1.7 MB 25.6 kB/s eta 0:00:40\n",
      "   ---------------- ----------------------- 0.7/1.7 MB 25.6 kB/s eta 0:00:40\n",
      "   ---------------- ----------------------- 0.7/1.7 MB 25.6 kB/s eta 0:00:40\n",
      "   ---------------- ----------------------- 0.7/1.7 MB 26.0 kB/s eta 0:00:39\n",
      "   ---------------- ----------------------- 0.7/1.7 MB 26.0 kB/s eta 0:00:39\n",
      "   ---------------- ----------------------- 0.7/1.7 MB 26.0 kB/s eta 0:00:39\n",
      "   ---------------- ----------------------- 0.7/1.7 MB 26.0 kB/s eta 0:00:39\n",
      "   ---------------- ----------------------- 0.7/1.7 MB 26.0 kB/s eta 0:00:39\n",
      "   ---------------- ----------------------- 0.7/1.7 MB 26.0 kB/s eta 0:00:39\n",
      "   ---------------- ----------------------- 0.7/1.7 MB 26.0 kB/s eta 0:00:39\n",
      "   ---------------- ----------------------- 0.7/1.7 MB 26.0 kB/s eta 0:00:39\n",
      "   ---------------- ----------------------- 0.7/1.7 MB 26.0 kB/s eta 0:00:39\n",
      "   ----------------- ---------------------- 0.7/1.7 MB 26.0 kB/s eta 0:00:38\n",
      "   ----------------- ---------------------- 0.7/1.7 MB 26.0 kB/s eta 0:00:38\n",
      "   ----------------- ---------------------- 0.7/1.7 MB 26.0 kB/s eta 0:00:38\n",
      "   ----------------- ---------------------- 0.7/1.7 MB 26.0 kB/s eta 0:00:38\n",
      "   ----------------- ---------------------- 0.7/1.7 MB 26.0 kB/s eta 0:00:38\n",
      "   ----------------- ---------------------- 0.7/1.7 MB 26.0 kB/s eta 0:00:38\n",
      "   ----------------- ---------------------- 0.7/1.7 MB 26.0 kB/s eta 0:00:38\n",
      "   ----------------- ---------------------- 0.7/1.7 MB 26.0 kB/s eta 0:00:38\n",
      "   ----------------- ---------------------- 0.7/1.7 MB 26.0 kB/s eta 0:00:38\n",
      "   ----------------- ---------------------- 0.7/1.7 MB 26.0 kB/s eta 0:00:38\n",
      "   ----------------- ---------------------- 0.7/1.7 MB 26.0 kB/s eta 0:00:38\n",
      "   ----------------- ---------------------- 0.7/1.7 MB 26.0 kB/s eta 0:00:38\n",
      "   ----------------- ---------------------- 0.7/1.7 MB 26.0 kB/s eta 0:00:38\n",
      "   ----------------- ---------------------- 0.7/1.7 MB 26.0 kB/s eta 0:00:38\n",
      "   ----------------- ---------------------- 0.7/1.7 MB 26.0 kB/s eta 0:00:38\n",
      "   ----------------- ---------------------- 0.8/1.7 MB 26.1 kB/s eta 0:00:37\n",
      "   ----------------- ---------------------- 0.8/1.7 MB 26.1 kB/s eta 0:00:37\n",
      "   ------------------ --------------------- 0.8/1.7 MB 27.1 kB/s eta 0:00:35\n",
      "   ------------------ --------------------- 0.8/1.7 MB 27.1 kB/s eta 0:00:35\n",
      "   ------------------ --------------------- 0.8/1.7 MB 27.1 kB/s eta 0:00:35\n",
      "   ------------------ --------------------- 0.8/1.7 MB 27.1 kB/s eta 0:00:35\n",
      "   ------------------ --------------------- 0.8/1.7 MB 27.1 kB/s eta 0:00:35\n",
      "   ------------------ --------------------- 0.8/1.7 MB 27.6 kB/s eta 0:00:33\n",
      "   ------------------ --------------------- 0.8/1.7 MB 27.6 kB/s eta 0:00:33\n",
      "   ------------------ --------------------- 0.8/1.7 MB 27.6 kB/s eta 0:00:33\n",
      "   ------------------ --------------------- 0.8/1.7 MB 27.6 kB/s eta 0:00:33\n",
      "   ------------------ --------------------- 0.8/1.7 MB 27.6 kB/s eta 0:00:33\n",
      "   ------------------ --------------------- 0.8/1.7 MB 27.6 kB/s eta 0:00:33\n",
      "   ------------------ --------------------- 0.8/1.7 MB 27.6 kB/s eta 0:00:33\n",
      "   ------------------ --------------------- 0.8/1.7 MB 27.6 kB/s eta 0:00:33\n",
      "   ------------------ --------------------- 0.8/1.7 MB 27.6 kB/s eta 0:00:33\n",
      "   ------------------ --------------------- 0.8/1.7 MB 27.6 kB/s eta 0:00:33\n",
      "   ------------------ --------------------- 0.8/1.7 MB 27.6 kB/s eta 0:00:33\n",
      "   ------------------ --------------------- 0.8/1.7 MB 27.6 kB/s eta 0:00:33\n",
      "   ------------------ --------------------- 0.8/1.7 MB 27.6 kB/s eta 0:00:33\n",
      "   ------------------ --------------------- 0.8/1.7 MB 27.6 kB/s eta 0:00:33\n",
      "   ------------------ --------------------- 0.8/1.7 MB 27.6 kB/s eta 0:00:33\n",
      "   ------------------ --------------------- 0.8/1.7 MB 27.6 kB/s eta 0:00:33\n",
      "   ------------------ --------------------- 0.8/1.7 MB 27.6 kB/s eta 0:00:33\n",
      "   ------------------ --------------------- 0.8/1.7 MB 27.6 kB/s eta 0:00:33\n",
      "   ------------------- -------------------- 0.8/1.7 MB 27.2 kB/s eta 0:00:33\n",
      "   ------------------- -------------------- 0.8/1.7 MB 27.2 kB/s eta 0:00:33\n",
      "   ------------------- -------------------- 0.8/1.7 MB 27.2 kB/s eta 0:00:33\n",
      "   ------------------- -------------------- 0.8/1.7 MB 27.2 kB/s eta 0:00:33\n",
      "   ------------------- -------------------- 0.8/1.7 MB 27.2 kB/s eta 0:00:33\n",
      "   ------------------- -------------------- 0.8/1.7 MB 27.7 kB/s eta 0:00:32\n",
      "   ------------------- -------------------- 0.8/1.7 MB 27.7 kB/s eta 0:00:32\n",
      "   ------------------- -------------------- 0.8/1.7 MB 27.7 kB/s eta 0:00:32\n",
      "   ------------------- -------------------- 0.8/1.7 MB 27.7 kB/s eta 0:00:32\n",
      "   ------------------- -------------------- 0.8/1.7 MB 27.7 kB/s eta 0:00:32\n",
      "   ------------------- -------------------- 0.8/1.7 MB 27.7 kB/s eta 0:00:32\n",
      "   ------------------- -------------------- 0.8/1.7 MB 27.7 kB/s eta 0:00:32\n",
      "   -------------------- ------------------- 0.9/1.7 MB 28.1 kB/s eta 0:00:31\n",
      "   -------------------- ------------------- 0.9/1.7 MB 28.1 kB/s eta 0:00:31\n",
      "   -------------------- ------------------- 0.9/1.7 MB 28.1 kB/s eta 0:00:31\n",
      "   -------------------- ------------------- 0.9/1.7 MB 28.1 kB/s eta 0:00:31\n",
      "   -------------------- ------------------- 0.9/1.7 MB 28.1 kB/s eta 0:00:31\n",
      "   -------------------- ------------------- 0.9/1.7 MB 27.7 kB/s eta 0:00:31\n",
      "   -------------------- ------------------- 0.9/1.7 MB 27.7 kB/s eta 0:00:31\n",
      "   -------------------- ------------------- 0.9/1.7 MB 27.7 kB/s eta 0:00:31\n",
      "   -------------------- ------------------- 0.9/1.7 MB 27.7 kB/s eta 0:00:31\n",
      "   -------------------- ------------------- 0.9/1.7 MB 27.7 kB/s eta 0:00:31\n",
      "   -------------------- ------------------- 0.9/1.7 MB 27.7 kB/s eta 0:00:31\n",
      "   -------------------- ------------------- 0.9/1.7 MB 27.7 kB/s eta 0:00:31\n",
      "   -------------------- ------------------- 0.9/1.7 MB 27.7 kB/s eta 0:00:31\n",
      "   -------------------- ------------------- 0.9/1.7 MB 27.7 kB/s eta 0:00:31\n",
      "   -------------------- ------------------- 0.9/1.7 MB 27.7 kB/s eta 0:00:31\n",
      "   -------------------- ------------------- 0.9/1.7 MB 27.7 kB/s eta 0:00:31\n",
      "   -------------------- ------------------- 0.9/1.7 MB 27.7 kB/s eta 0:00:31\n",
      "   -------------------- ------------------- 0.9/1.7 MB 27.7 kB/s eta 0:00:31\n",
      "   -------------------- ------------------- 0.9/1.7 MB 27.7 kB/s eta 0:00:31\n",
      "   -------------------- ------------------- 0.9/1.7 MB 27.7 kB/s eta 0:00:31\n",
      "   -------------------- ------------------- 0.9/1.7 MB 27.7 kB/s eta 0:00:31\n",
      "   -------------------- ------------------- 0.9/1.7 MB 27.7 kB/s eta 0:00:31\n",
      "   -------------------- ------------------- 0.9/1.7 MB 27.7 kB/s eta 0:00:31\n",
      "   -------------------- ------------------- 0.9/1.7 MB 27.7 kB/s eta 0:00:31\n",
      "   -------------------- ------------------- 0.9/1.7 MB 27.7 kB/s eta 0:00:31\n",
      "   -------------------- ------------------- 0.9/1.7 MB 27.7 kB/s eta 0:00:31\n",
      "   -------------------- ------------------- 0.9/1.7 MB 27.7 kB/s eta 0:00:31\n",
      "   -------------------- ------------------- 0.9/1.7 MB 27.7 kB/s eta 0:00:31\n",
      "   -------------------- ------------------- 0.9/1.7 MB 26.4 kB/s eta 0:00:32\n",
      "   -------------------- ------------------- 0.9/1.7 MB 26.4 kB/s eta 0:00:32\n",
      "   -------------------- ------------------- 0.9/1.7 MB 26.4 kB/s eta 0:00:32\n",
      "   -------------------- ------------------- 0.9/1.7 MB 26.4 kB/s eta 0:00:32\n",
      "   -------------------- ------------------- 0.9/1.7 MB 26.4 kB/s eta 0:00:32\n",
      "   --------------------- ------------------ 0.9/1.7 MB 26.4 kB/s eta 0:00:31\n",
      "   --------------------- ------------------ 0.9/1.7 MB 26.4 kB/s eta 0:00:31\n",
      "   --------------------- ------------------ 0.9/1.7 MB 26.4 kB/s eta 0:00:31\n",
      "   --------------------- ------------------ 0.9/1.7 MB 26.4 kB/s eta 0:00:31\n",
      "   --------------------- ------------------ 0.9/1.7 MB 26.4 kB/s eta 0:00:31\n",
      "   --------------------- ------------------ 0.9/1.7 MB 26.4 kB/s eta 0:00:31\n",
      "   --------------------- ------------------ 0.9/1.7 MB 26.4 kB/s eta 0:00:31\n",
      "   --------------------- ------------------ 0.9/1.7 MB 26.4 kB/s eta 0:00:31\n",
      "   --------------------- ------------------ 0.9/1.7 MB 26.4 kB/s eta 0:00:31\n",
      "   --------------------- ------------------ 0.9/1.7 MB 26.4 kB/s eta 0:00:31\n",
      "   --------------------- ------------------ 0.9/1.7 MB 26.4 kB/s eta 0:00:31\n",
      "   --------------------- ------------------ 0.9/1.7 MB 26.4 kB/s eta 0:00:31\n",
      "   --------------------- ------------------ 0.9/1.7 MB 26.4 kB/s eta 0:00:31\n",
      "   --------------------- ------------------ 0.9/1.7 MB 26.4 kB/s eta 0:00:31\n",
      "   --------------------- ------------------ 0.9/1.7 MB 26.4 kB/s eta 0:00:31\n",
      "   --------------------- ------------------ 0.9/1.7 MB 26.4 kB/s eta 0:00:31\n",
      "   --------------------- ------------------ 0.9/1.7 MB 26.4 kB/s eta 0:00:31\n",
      "   --------------------- ------------------ 0.9/1.7 MB 26.4 kB/s eta 0:00:31\n",
      "   --------------------- ------------------ 0.9/1.7 MB 26.4 kB/s eta 0:00:31\n",
      "   --------------------- ------------------ 0.9/1.7 MB 25.8 kB/s eta 0:00:31\n",
      "   --------------------- ------------------ 0.9/1.7 MB 25.8 kB/s eta 0:00:31\n",
      "   --------------------- ------------------ 0.9/1.7 MB 25.8 kB/s eta 0:00:31\n",
      "   --------------------- ------------------ 0.9/1.7 MB 25.8 kB/s eta 0:00:31\n",
      "   --------------------- ------------------ 0.9/1.7 MB 25.8 kB/s eta 0:00:31\n",
      "   --------------------- ------------------ 0.9/1.7 MB 25.8 kB/s eta 0:00:31\n",
      "   --------------------- ------------------ 0.9/1.7 MB 25.8 kB/s eta 0:00:31\n",
      "   --------------------- ------------------ 0.9/1.7 MB 25.8 kB/s eta 0:00:31\n",
      "   --------------------- ------------------ 0.9/1.7 MB 25.8 kB/s eta 0:00:31\n",
      "   --------------------- ------------------ 0.9/1.7 MB 25.8 kB/s eta 0:00:31\n",
      "   --------------------- ------------------ 0.9/1.7 MB 25.8 kB/s eta 0:00:31\n",
      "   --------------------- ------------------ 0.9/1.7 MB 25.8 kB/s eta 0:00:31\n",
      "   --------------------- ------------------ 0.9/1.7 MB 25.8 kB/s eta 0:00:31\n",
      "   --------------------- ------------------ 0.9/1.7 MB 25.8 kB/s eta 0:00:31\n",
      "   --------------------- ------------------ 0.9/1.7 MB 25.8 kB/s eta 0:00:31\n",
      "   --------------------- ------------------ 0.9/1.7 MB 25.8 kB/s eta 0:00:31\n",
      "   --------------------- ------------------ 0.9/1.7 MB 25.8 kB/s eta 0:00:31\n",
      "   --------------------- ------------------ 0.9/1.7 MB 25.4 kB/s eta 0:00:31\n",
      "   --------------------- ------------------ 0.9/1.7 MB 25.4 kB/s eta 0:00:31\n",
      "   --------------------- ------------------ 0.9/1.7 MB 25.4 kB/s eta 0:00:31\n",
      "   --------------------- ------------------ 0.9/1.7 MB 25.4 kB/s eta 0:00:31\n",
      "   --------------------- ------------------ 0.9/1.7 MB 25.4 kB/s eta 0:00:31\n",
      "   --------------------- ------------------ 0.9/1.7 MB 25.4 kB/s eta 0:00:31\n",
      "   --------------------- ------------------ 0.9/1.7 MB 25.4 kB/s eta 0:00:31\n",
      "   --------------------- ------------------ 0.9/1.7 MB 25.4 kB/s eta 0:00:31\n",
      "   --------------------- ------------------ 0.9/1.7 MB 25.4 kB/s eta 0:00:31\n",
      "   --------------------- ------------------ 0.9/1.7 MB 25.4 kB/s eta 0:00:31\n",
      "   --------------------- ------------------ 0.9/1.7 MB 25.4 kB/s eta 0:00:31\n",
      "   --------------------- ------------------ 0.9/1.7 MB 25.4 kB/s eta 0:00:31\n",
      "   --------------------- ------------------ 0.9/1.7 MB 25.4 kB/s eta 0:00:31\n",
      "   ---------------------- ----------------- 1.0/1.7 MB 25.1 kB/s eta 0:00:31\n",
      "   ---------------------- ----------------- 1.0/1.7 MB 25.1 kB/s eta 0:00:31\n",
      "   ---------------------- ----------------- 1.0/1.7 MB 25.1 kB/s eta 0:00:31\n",
      "   ---------------------- ----------------- 1.0/1.7 MB 25.1 kB/s eta 0:00:31\n",
      "   ---------------------- ----------------- 1.0/1.7 MB 25.1 kB/s eta 0:00:31\n",
      "   ---------------------- ----------------- 1.0/1.7 MB 25.1 kB/s eta 0:00:31\n",
      "   ---------------------- ----------------- 1.0/1.7 MB 25.1 kB/s eta 0:00:31\n",
      "   ---------------------- ----------------- 1.0/1.7 MB 25.1 kB/s eta 0:00:31\n",
      "   ---------------------- ----------------- 1.0/1.7 MB 25.1 kB/s eta 0:00:31\n",
      "   ---------------------- ----------------- 1.0/1.7 MB 25.1 kB/s eta 0:00:31\n",
      "   ---------------------- ----------------- 1.0/1.7 MB 25.1 kB/s eta 0:00:31\n",
      "   ---------------------- ----------------- 1.0/1.7 MB 25.1 kB/s eta 0:00:31\n",
      "   ---------------------- ----------------- 1.0/1.7 MB 25.1 kB/s eta 0:00:31\n",
      "   ---------------------- ----------------- 1.0/1.7 MB 25.1 kB/s eta 0:00:31\n",
      "   ---------------------- ----------------- 1.0/1.7 MB 25.1 kB/s eta 0:00:31\n",
      "   ---------------------- ----------------- 1.0/1.7 MB 25.1 kB/s eta 0:00:31\n",
      "   ---------------------- ----------------- 1.0/1.7 MB 25.1 kB/s eta 0:00:31\n",
      "   ---------------------- ----------------- 1.0/1.7 MB 25.1 kB/s eta 0:00:31\n",
      "   ---------------------- ----------------- 1.0/1.7 MB 25.1 kB/s eta 0:00:31\n",
      "   ---------------------- ----------------- 1.0/1.7 MB 25.1 kB/s eta 0:00:31\n",
      "   ---------------------- ----------------- 1.0/1.7 MB 25.1 kB/s eta 0:00:31\n",
      "   ---------------------- ----------------- 1.0/1.7 MB 24.3 kB/s eta 0:00:31\n",
      "   ---------------------- ----------------- 1.0/1.7 MB 24.3 kB/s eta 0:00:31\n",
      "   ---------------------- ----------------- 1.0/1.7 MB 24.3 kB/s eta 0:00:31\n",
      "   ---------------------- ----------------- 1.0/1.7 MB 24.3 kB/s eta 0:00:31\n",
      "   ---------------------- ----------------- 1.0/1.7 MB 24.3 kB/s eta 0:00:31\n",
      "   ---------------------- ----------------- 1.0/1.7 MB 24.1 kB/s eta 0:00:31\n",
      "   ---------------------- ----------------- 1.0/1.7 MB 24.1 kB/s eta 0:00:31\n",
      "   ---------------------- ----------------- 1.0/1.7 MB 24.1 kB/s eta 0:00:31\n",
      "   ---------------------- ----------------- 1.0/1.7 MB 24.1 kB/s eta 0:00:31\n",
      "   ---------------------- ----------------- 1.0/1.7 MB 24.1 kB/s eta 0:00:31\n",
      "   ---------------------- ----------------- 1.0/1.7 MB 24.1 kB/s eta 0:00:31\n",
      "   ---------------------- ----------------- 1.0/1.7 MB 24.1 kB/s eta 0:00:31\n",
      "   ---------------------- ----------------- 1.0/1.7 MB 24.1 kB/s eta 0:00:31\n",
      "   ---------------------- ----------------- 1.0/1.7 MB 24.1 kB/s eta 0:00:31\n",
      "   ---------------------- ----------------- 1.0/1.7 MB 24.1 kB/s eta 0:00:31\n",
      "   ---------------------- ----------------- 1.0/1.7 MB 24.1 kB/s eta 0:00:31\n",
      "   ---------------------- ----------------- 1.0/1.7 MB 24.1 kB/s eta 0:00:31\n",
      "   ---------------------- ----------------- 1.0/1.7 MB 24.1 kB/s eta 0:00:31\n",
      "   ---------------------- ----------------- 1.0/1.7 MB 24.1 kB/s eta 0:00:31\n",
      "   ----------------------- ---------------- 1.0/1.7 MB 23.8 kB/s eta 0:00:31\n",
      "   ----------------------- ---------------- 1.0/1.7 MB 23.8 kB/s eta 0:00:31\n",
      "   ----------------------- ---------------- 1.0/1.7 MB 23.8 kB/s eta 0:00:31\n",
      "   ----------------------- ---------------- 1.0/1.7 MB 23.8 kB/s eta 0:00:31\n",
      "   ----------------------- ---------------- 1.0/1.7 MB 23.8 kB/s eta 0:00:31\n",
      "   ----------------------- ---------------- 1.0/1.7 MB 23.8 kB/s eta 0:00:31\n",
      "   ----------------------- ---------------- 1.0/1.7 MB 23.8 kB/s eta 0:00:31\n",
      "   ----------------------- ---------------- 1.0/1.7 MB 23.8 kB/s eta 0:00:31\n",
      "   ----------------------- ---------------- 1.0/1.7 MB 23.8 kB/s eta 0:00:31\n",
      "   ----------------------- ---------------- 1.0/1.7 MB 23.8 kB/s eta 0:00:31\n",
      "   ----------------------- ---------------- 1.0/1.7 MB 23.8 kB/s eta 0:00:31\n",
      "   ----------------------- ---------------- 1.0/1.7 MB 23.8 kB/s eta 0:00:31\n",
      "   ----------------------- ---------------- 1.0/1.7 MB 23.6 kB/s eta 0:00:30\n",
      "   ----------------------- ---------------- 1.0/1.7 MB 23.6 kB/s eta 0:00:30\n",
      "   ----------------------- ---------------- 1.0/1.7 MB 23.6 kB/s eta 0:00:30\n",
      "   ----------------------- ---------------- 1.0/1.7 MB 23.6 kB/s eta 0:00:30\n",
      "   ----------------------- ---------------- 1.0/1.7 MB 23.6 kB/s eta 0:00:30\n",
      "   ----------------------- ---------------- 1.0/1.7 MB 23.6 kB/s eta 0:00:30\n",
      "   ----------------------- ---------------- 1.0/1.7 MB 23.6 kB/s eta 0:00:30\n",
      "   ----------------------- ---------------- 1.0/1.7 MB 23.6 kB/s eta 0:00:30\n",
      "   ----------------------- ---------------- 1.0/1.7 MB 23.6 kB/s eta 0:00:30\n",
      "   ----------------------- ---------------- 1.0/1.7 MB 23.6 kB/s eta 0:00:30\n",
      "   ------------------------ --------------- 1.0/1.7 MB 23.9 kB/s eta 0:00:29\n",
      "   ------------------------ --------------- 1.0/1.7 MB 23.9 kB/s eta 0:00:29\n",
      "   ------------------------ --------------- 1.0/1.7 MB 23.9 kB/s eta 0:00:29\n",
      "   ------------------------ --------------- 1.0/1.7 MB 23.9 kB/s eta 0:00:29\n",
      "   ------------------------ --------------- 1.0/1.7 MB 23.9 kB/s eta 0:00:29\n",
      "   ------------------------ --------------- 1.0/1.7 MB 23.9 kB/s eta 0:00:29\n",
      "   ------------------------ --------------- 1.0/1.7 MB 23.9 kB/s eta 0:00:29\n",
      "   ------------------------ --------------- 1.0/1.7 MB 23.9 kB/s eta 0:00:29\n",
      "   ------------------------ --------------- 1.0/1.7 MB 23.9 kB/s eta 0:00:29\n",
      "   ------------------------ --------------- 1.0/1.7 MB 23.9 kB/s eta 0:00:29\n",
      "   ------------------------ --------------- 1.0/1.7 MB 23.9 kB/s eta 0:00:29\n",
      "   ------------------------ --------------- 1.0/1.7 MB 23.9 kB/s eta 0:00:29\n",
      "   ------------------------ --------------- 1.0/1.7 MB 23.6 kB/s eta 0:00:29\n",
      "   ------------------------ --------------- 1.0/1.7 MB 23.6 kB/s eta 0:00:29\n",
      "   ------------------------ --------------- 1.0/1.7 MB 23.6 kB/s eta 0:00:29\n",
      "   ------------------------ --------------- 1.0/1.7 MB 23.6 kB/s eta 0:00:29\n",
      "   ------------------------ --------------- 1.0/1.7 MB 23.6 kB/s eta 0:00:29\n",
      "   ------------------------ --------------- 1.0/1.7 MB 23.6 kB/s eta 0:00:29\n",
      "   ------------------------ --------------- 1.0/1.7 MB 23.6 kB/s eta 0:00:29\n",
      "   ------------------------ --------------- 1.0/1.7 MB 23.6 kB/s eta 0:00:29\n",
      "   ------------------------ --------------- 1.0/1.7 MB 23.6 kB/s eta 0:00:29\n",
      "   ------------------------ --------------- 1.0/1.7 MB 23.6 kB/s eta 0:00:29\n",
      "   ------------------------ --------------- 1.0/1.7 MB 23.6 kB/s eta 0:00:29\n",
      "   ------------------------ --------------- 1.1/1.7 MB 23.9 kB/s eta 0:00:28\n",
      "   ------------------------ --------------- 1.1/1.7 MB 23.9 kB/s eta 0:00:28\n",
      "   ------------------------ --------------- 1.1/1.7 MB 23.9 kB/s eta 0:00:28\n",
      "   ------------------------ --------------- 1.1/1.7 MB 23.9 kB/s eta 0:00:28\n",
      "   ------------------------ --------------- 1.1/1.7 MB 23.9 kB/s eta 0:00:28\n",
      "   ------------------------ --------------- 1.1/1.7 MB 23.9 kB/s eta 0:00:28\n",
      "   ------------------------ --------------- 1.1/1.7 MB 23.9 kB/s eta 0:00:28\n",
      "   ------------------------ --------------- 1.1/1.7 MB 23.9 kB/s eta 0:00:28\n",
      "   ------------------------ --------------- 1.1/1.7 MB 23.9 kB/s eta 0:00:28\n",
      "   ------------------------ --------------- 1.1/1.7 MB 23.9 kB/s eta 0:00:28\n",
      "   ------------------------ --------------- 1.1/1.7 MB 23.9 kB/s eta 0:00:28\n",
      "   ------------------------ --------------- 1.1/1.7 MB 23.9 kB/s eta 0:00:28\n",
      "   ------------------------ --------------- 1.1/1.7 MB 23.9 kB/s eta 0:00:28\n",
      "   ------------------------ --------------- 1.1/1.7 MB 23.9 kB/s eta 0:00:28\n",
      "   ------------------------ --------------- 1.1/1.7 MB 23.9 kB/s eta 0:00:28\n",
      "   ------------------------ --------------- 1.1/1.7 MB 23.9 kB/s eta 0:00:28\n",
      "   ------------------------- -------------- 1.1/1.7 MB 23.7 kB/s eta 0:00:28\n",
      "   ------------------------- -------------- 1.1/1.7 MB 23.7 kB/s eta 0:00:28\n",
      "   ------------------------- -------------- 1.1/1.7 MB 23.7 kB/s eta 0:00:28\n",
      "   ------------------------- -------------- 1.1/1.7 MB 23.7 kB/s eta 0:00:28\n",
      "   ------------------------- -------------- 1.1/1.7 MB 23.7 kB/s eta 0:00:28\n",
      "   ------------------------- -------------- 1.1/1.7 MB 23.7 kB/s eta 0:00:28\n",
      "   ------------------------- -------------- 1.1/1.7 MB 23.7 kB/s eta 0:00:28\n",
      "   ------------------------- -------------- 1.1/1.7 MB 23.7 kB/s eta 0:00:28\n",
      "   ------------------------- -------------- 1.1/1.7 MB 23.7 kB/s eta 0:00:28\n",
      "   ------------------------- -------------- 1.1/1.7 MB 23.7 kB/s eta 0:00:28\n",
      "   ------------------------- -------------- 1.1/1.7 MB 23.7 kB/s eta 0:00:28\n",
      "   ------------------------- -------------- 1.1/1.7 MB 23.7 kB/s eta 0:00:28\n",
      "   ------------------------- -------------- 1.1/1.7 MB 23.7 kB/s eta 0:00:28\n",
      "   ------------------------- -------------- 1.1/1.7 MB 23.7 kB/s eta 0:00:28\n",
      "   ------------------------- -------------- 1.1/1.7 MB 23.7 kB/s eta 0:00:28\n",
      "   ------------------------- -------------- 1.1/1.7 MB 23.5 kB/s eta 0:00:27\n",
      "   ------------------------- -------------- 1.1/1.7 MB 23.5 kB/s eta 0:00:27\n",
      "   ------------------------- -------------- 1.1/1.7 MB 23.5 kB/s eta 0:00:27\n",
      "   ------------------------- -------------- 1.1/1.7 MB 23.5 kB/s eta 0:00:27\n",
      "   ------------------------- -------------- 1.1/1.7 MB 23.5 kB/s eta 0:00:27\n",
      "   ------------------------- -------------- 1.1/1.7 MB 23.5 kB/s eta 0:00:27\n",
      "   ------------------------- -------------- 1.1/1.7 MB 23.5 kB/s eta 0:00:27\n",
      "   ------------------------- -------------- 1.1/1.7 MB 23.5 kB/s eta 0:00:27\n",
      "   ------------------------- -------------- 1.1/1.7 MB 23.5 kB/s eta 0:00:27\n",
      "   ------------------------- -------------- 1.1/1.7 MB 23.5 kB/s eta 0:00:27\n",
      "   ------------------------- -------------- 1.1/1.7 MB 23.5 kB/s eta 0:00:27\n",
      "   ------------------------- -------------- 1.1/1.7 MB 23.5 kB/s eta 0:00:27\n",
      "   ------------------------- -------------- 1.1/1.7 MB 23.5 kB/s eta 0:00:27\n",
      "   ------------------------- -------------- 1.1/1.7 MB 23.5 kB/s eta 0:00:27\n",
      "   ------------------------- -------------- 1.1/1.7 MB 23.5 kB/s eta 0:00:27\n",
      "   ------------------------- -------------- 1.1/1.7 MB 23.5 kB/s eta 0:00:27\n",
      "   ------------------------- -------------- 1.1/1.7 MB 23.5 kB/s eta 0:00:27\n",
      "   ------------------------- -------------- 1.1/1.7 MB 23.5 kB/s eta 0:00:27\n",
      "   ------------------------- -------------- 1.1/1.7 MB 23.5 kB/s eta 0:00:27\n",
      "   ------------------------- -------------- 1.1/1.7 MB 23.5 kB/s eta 0:00:27\n",
      "   ------------------------- -------------- 1.1/1.7 MB 23.5 kB/s eta 0:00:27\n",
      "   ------------------------- -------------- 1.1/1.7 MB 23.5 kB/s eta 0:00:27\n",
      "   ------------------------- -------------- 1.1/1.7 MB 23.5 kB/s eta 0:00:27\n",
      "   -------------------------- ------------- 1.1/1.7 MB 23.6 kB/s eta 0:00:26\n",
      "   -------------------------- ------------- 1.1/1.7 MB 23.6 kB/s eta 0:00:26\n",
      "   -------------------------- ------------- 1.1/1.7 MB 23.6 kB/s eta 0:00:26\n",
      "   -------------------------- ------------- 1.1/1.7 MB 23.6 kB/s eta 0:00:26\n",
      "   -------------------------- ------------- 1.1/1.7 MB 23.6 kB/s eta 0:00:26\n",
      "   -------------------------- ------------- 1.1/1.7 MB 23.6 kB/s eta 0:00:26\n",
      "   -------------------------- ------------- 1.1/1.7 MB 24.0 kB/s eta 0:00:25\n",
      "   -------------------------- ------------- 1.1/1.7 MB 24.0 kB/s eta 0:00:25\n",
      "   -------------------------- ------------- 1.1/1.7 MB 24.0 kB/s eta 0:00:25\n",
      "   -------------------------- ------------- 1.1/1.7 MB 24.0 kB/s eta 0:00:25\n",
      "   -------------------------- ------------- 1.1/1.7 MB 24.0 kB/s eta 0:00:25\n",
      "   -------------------------- ------------- 1.1/1.7 MB 24.0 kB/s eta 0:00:25\n",
      "   -------------------------- ------------- 1.1/1.7 MB 24.0 kB/s eta 0:00:25\n",
      "   -------------------------- ------------- 1.1/1.7 MB 24.0 kB/s eta 0:00:25\n",
      "   -------------------------- ------------- 1.1/1.7 MB 24.0 kB/s eta 0:00:25\n",
      "   -------------------------- ------------- 1.1/1.7 MB 24.0 kB/s eta 0:00:25\n",
      "   -------------------------- ------------- 1.1/1.7 MB 24.0 kB/s eta 0:00:25\n",
      "   -------------------------- ------------- 1.1/1.7 MB 24.0 kB/s eta 0:00:25\n",
      "   -------------------------- ------------- 1.1/1.7 MB 24.0 kB/s eta 0:00:25\n",
      "   -------------------------- ------------- 1.1/1.7 MB 24.0 kB/s eta 0:00:25\n",
      "   -------------------------- ------------- 1.1/1.7 MB 24.0 kB/s eta 0:00:25\n",
      "   -------------------------- ------------- 1.1/1.7 MB 24.0 kB/s eta 0:00:25\n",
      "   -------------------------- ------------- 1.1/1.7 MB 24.0 kB/s eta 0:00:24\n",
      "   -------------------------- ------------- 1.1/1.7 MB 24.0 kB/s eta 0:00:24\n",
      "   -------------------------- ------------- 1.1/1.7 MB 24.0 kB/s eta 0:00:24\n",
      "   -------------------------- ------------- 1.1/1.7 MB 24.0 kB/s eta 0:00:24\n",
      "   -------------------------- ------------- 1.1/1.7 MB 24.0 kB/s eta 0:00:24\n",
      "   -------------------------- ------------- 1.1/1.7 MB 24.0 kB/s eta 0:00:24\n",
      "   -------------------------- ------------- 1.1/1.7 MB 24.0 kB/s eta 0:00:24\n",
      "   -------------------------- ------------- 1.1/1.7 MB 24.0 kB/s eta 0:00:24\n",
      "   -------------------------- ------------- 1.1/1.7 MB 24.0 kB/s eta 0:00:24\n",
      "   -------------------------- ------------- 1.1/1.7 MB 24.0 kB/s eta 0:00:24\n",
      "   -------------------------- ------------- 1.1/1.7 MB 24.0 kB/s eta 0:00:24\n",
      "   -------------------------- ------------- 1.1/1.7 MB 24.0 kB/s eta 0:00:24\n",
      "   -------------------------- ------------- 1.1/1.7 MB 24.0 kB/s eta 0:00:24\n",
      "   -------------------------- ------------- 1.2/1.7 MB 23.9 kB/s eta 0:00:24\n",
      "   -------------------------- ------------- 1.2/1.7 MB 23.9 kB/s eta 0:00:24\n",
      "   -------------------------- ------------- 1.2/1.7 MB 23.9 kB/s eta 0:00:24\n",
      "   -------------------------- ------------- 1.2/1.7 MB 23.9 kB/s eta 0:00:24\n",
      "   -------------------------- ------------- 1.2/1.7 MB 23.9 kB/s eta 0:00:24\n",
      "   -------------------------- ------------- 1.2/1.7 MB 23.9 kB/s eta 0:00:24\n",
      "   -------------------------- ------------- 1.2/1.7 MB 23.9 kB/s eta 0:00:24\n",
      "   -------------------------- ------------- 1.2/1.7 MB 23.9 kB/s eta 0:00:24\n",
      "   -------------------------- ------------- 1.2/1.7 MB 23.9 kB/s eta 0:00:24\n",
      "   --------------------------- ------------ 1.2/1.7 MB 24.0 kB/s eta 0:00:23\n",
      "   --------------------------- ------------ 1.2/1.7 MB 24.0 kB/s eta 0:00:23\n",
      "   --------------------------- ------------ 1.2/1.7 MB 24.0 kB/s eta 0:00:23\n",
      "   --------------------------- ------------ 1.2/1.7 MB 24.0 kB/s eta 0:00:23\n",
      "   --------------------------- ------------ 1.2/1.7 MB 24.0 kB/s eta 0:00:23\n",
      "   --------------------------- ------------ 1.2/1.7 MB 24.0 kB/s eta 0:00:23\n",
      "   --------------------------- ------------ 1.2/1.7 MB 24.0 kB/s eta 0:00:23\n",
      "   --------------------------- ------------ 1.2/1.7 MB 24.0 kB/s eta 0:00:23\n",
      "   --------------------------- ------------ 1.2/1.7 MB 24.0 kB/s eta 0:00:23\n",
      "   --------------------------- ------------ 1.2/1.7 MB 24.0 kB/s eta 0:00:23\n",
      "   --------------------------- ------------ 1.2/1.7 MB 24.0 kB/s eta 0:00:23\n",
      "   --------------------------- ------------ 1.2/1.7 MB 24.0 kB/s eta 0:00:23\n",
      "   --------------------------- ------------ 1.2/1.7 MB 24.0 kB/s eta 0:00:23\n",
      "   --------------------------- ------------ 1.2/1.7 MB 24.0 kB/s eta 0:00:23\n",
      "   --------------------------- ------------ 1.2/1.7 MB 24.0 kB/s eta 0:00:23\n",
      "   --------------------------- ------------ 1.2/1.7 MB 24.3 kB/s eta 0:00:22\n",
      "   --------------------------- ------------ 1.2/1.7 MB 24.3 kB/s eta 0:00:22\n",
      "   --------------------------- ------------ 1.2/1.7 MB 24.3 kB/s eta 0:00:22\n",
      "   --------------------------- ------------ 1.2/1.7 MB 24.3 kB/s eta 0:00:22\n",
      "   --------------------------- ------------ 1.2/1.7 MB 24.3 kB/s eta 0:00:22\n",
      "   --------------------------- ------------ 1.2/1.7 MB 24.3 kB/s eta 0:00:22\n",
      "   --------------------------- ------------ 1.2/1.7 MB 24.3 kB/s eta 0:00:22\n",
      "   --------------------------- ------------ 1.2/1.7 MB 24.3 kB/s eta 0:00:22\n",
      "   --------------------------- ------------ 1.2/1.7 MB 24.3 kB/s eta 0:00:22\n",
      "   --------------------------- ------------ 1.2/1.7 MB 24.3 kB/s eta 0:00:22\n",
      "   --------------------------- ------------ 1.2/1.7 MB 24.3 kB/s eta 0:00:22\n",
      "   --------------------------- ------------ 1.2/1.7 MB 24.3 kB/s eta 0:00:22\n",
      "   ---------------------------- ----------- 1.2/1.7 MB 24.3 kB/s eta 0:00:21\n",
      "   ---------------------------- ----------- 1.2/1.7 MB 24.3 kB/s eta 0:00:21\n",
      "   ---------------------------- ----------- 1.2/1.7 MB 24.3 kB/s eta 0:00:21\n",
      "   ---------------------------- ----------- 1.2/1.7 MB 24.3 kB/s eta 0:00:21\n",
      "   ---------------------------- ----------- 1.2/1.7 MB 24.3 kB/s eta 0:00:21\n",
      "   ---------------------------- ----------- 1.2/1.7 MB 24.3 kB/s eta 0:00:21\n",
      "   ---------------------------- ----------- 1.2/1.7 MB 24.3 kB/s eta 0:00:21\n",
      "   ---------------------------- ----------- 1.2/1.7 MB 24.3 kB/s eta 0:00:21\n",
      "   ---------------------------- ----------- 1.2/1.7 MB 24.3 kB/s eta 0:00:21\n",
      "   ---------------------------- ----------- 1.2/1.7 MB 24.3 kB/s eta 0:00:21\n",
      "   ---------------------------- ----------- 1.2/1.7 MB 24.3 kB/s eta 0:00:21\n",
      "   ---------------------------- ----------- 1.2/1.7 MB 24.3 kB/s eta 0:00:21\n",
      "   ---------------------------- ----------- 1.2/1.7 MB 24.3 kB/s eta 0:00:21\n",
      "   ---------------------------- ----------- 1.2/1.7 MB 24.3 kB/s eta 0:00:21\n",
      "   ---------------------------- ----------- 1.2/1.7 MB 24.3 kB/s eta 0:00:21\n",
      "   ---------------------------- ----------- 1.2/1.7 MB 24.3 kB/s eta 0:00:21\n",
      "   ---------------------------- ----------- 1.2/1.7 MB 24.3 kB/s eta 0:00:21\n",
      "   ---------------------------- ----------- 1.2/1.7 MB 24.3 kB/s eta 0:00:21\n",
      "   ---------------------------- ----------- 1.2/1.7 MB 24.3 kB/s eta 0:00:21\n",
      "   ---------------------------- ----------- 1.2/1.7 MB 24.3 kB/s eta 0:00:21\n",
      "   ---------------------------- ----------- 1.2/1.7 MB 24.3 kB/s eta 0:00:21\n",
      "   ---------------------------- ----------- 1.2/1.7 MB 24.3 kB/s eta 0:00:20\n",
      "   ---------------------------- ----------- 1.2/1.7 MB 24.6 kB/s eta 0:00:20\n",
      "   ---------------------------- ----------- 1.2/1.7 MB 24.6 kB/s eta 0:00:20\n",
      "   ---------------------------- ----------- 1.2/1.7 MB 24.6 kB/s eta 0:00:20\n",
      "   ---------------------------- ----------- 1.2/1.7 MB 24.6 kB/s eta 0:00:20\n",
      "   ---------------------------- ----------- 1.2/1.7 MB 24.6 kB/s eta 0:00:20\n",
      "   ---------------------------- ----------- 1.2/1.7 MB 24.6 kB/s eta 0:00:20\n",
      "   ---------------------------- ----------- 1.2/1.7 MB 24.6 kB/s eta 0:00:20\n",
      "   ---------------------------- ----------- 1.2/1.7 MB 24.6 kB/s eta 0:00:20\n",
      "   ---------------------------- ----------- 1.2/1.7 MB 24.6 kB/s eta 0:00:20\n",
      "   ---------------------------- ----------- 1.2/1.7 MB 24.6 kB/s eta 0:00:20\n",
      "   ---------------------------- ----------- 1.2/1.7 MB 24.6 kB/s eta 0:00:20\n",
      "   ---------------------------- ----------- 1.2/1.7 MB 24.6 kB/s eta 0:00:20\n",
      "   ---------------------------- ----------- 1.2/1.7 MB 24.6 kB/s eta 0:00:20\n",
      "   ----------------------------- ---------- 1.3/1.7 MB 25.0 kB/s eta 0:00:19\n",
      "   ----------------------------- ---------- 1.3/1.7 MB 25.0 kB/s eta 0:00:19\n",
      "   ----------------------------- ---------- 1.3/1.7 MB 25.0 kB/s eta 0:00:19\n",
      "   ----------------------------- ---------- 1.3/1.7 MB 25.0 kB/s eta 0:00:19\n",
      "   ----------------------------- ---------- 1.3/1.7 MB 25.0 kB/s eta 0:00:19\n",
      "   ----------------------------- ---------- 1.3/1.7 MB 25.0 kB/s eta 0:00:19\n",
      "   ----------------------------- ---------- 1.3/1.7 MB 25.0 kB/s eta 0:00:19\n",
      "   ----------------------------- ---------- 1.3/1.7 MB 25.0 kB/s eta 0:00:19\n",
      "   ----------------------------- ---------- 1.3/1.7 MB 25.0 kB/s eta 0:00:19\n",
      "   ----------------------------- ---------- 1.3/1.7 MB 25.0 kB/s eta 0:00:19\n",
      "   ----------------------------- ---------- 1.3/1.7 MB 25.0 kB/s eta 0:00:19\n",
      "   ----------------------------- ---------- 1.3/1.7 MB 25.0 kB/s eta 0:00:19\n",
      "   ----------------------------- ---------- 1.3/1.7 MB 25.0 kB/s eta 0:00:19\n",
      "   ----------------------------- ---------- 1.3/1.7 MB 25.0 kB/s eta 0:00:19\n",
      "   ----------------------------- ---------- 1.3/1.7 MB 25.0 kB/s eta 0:00:19\n",
      "   ----------------------------- ---------- 1.3/1.7 MB 25.0 kB/s eta 0:00:19\n",
      "   ----------------------------- ---------- 1.3/1.7 MB 25.0 kB/s eta 0:00:19\n",
      "   ----------------------------- ---------- 1.3/1.7 MB 25.0 kB/s eta 0:00:19\n",
      "   ----------------------------- ---------- 1.3/1.7 MB 25.0 kB/s eta 0:00:19\n",
      "   ----------------------------- ---------- 1.3/1.7 MB 25.0 kB/s eta 0:00:19\n",
      "   ----------------------------- ---------- 1.3/1.7 MB 25.0 kB/s eta 0:00:19\n",
      "   ----------------------------- ---------- 1.3/1.7 MB 25.0 kB/s eta 0:00:19\n",
      "   ----------------------------- ---------- 1.3/1.7 MB 24.6 kB/s eta 0:00:18\n",
      "   ----------------------------- ---------- 1.3/1.7 MB 24.6 kB/s eta 0:00:18\n",
      "   ----------------------------- ---------- 1.3/1.7 MB 24.6 kB/s eta 0:00:18\n",
      "   ------------------------------ --------- 1.3/1.7 MB 25.5 kB/s eta 0:00:17\n",
      "   ------------------------------ --------- 1.3/1.7 MB 25.5 kB/s eta 0:00:17\n",
      "   ------------------------------ --------- 1.3/1.7 MB 25.5 kB/s eta 0:00:17\n",
      "   ------------------------------ --------- 1.3/1.7 MB 25.5 kB/s eta 0:00:17\n",
      "   ------------------------------ --------- 1.3/1.7 MB 25.5 kB/s eta 0:00:17\n",
      "   ------------------------------ --------- 1.3/1.7 MB 25.5 kB/s eta 0:00:17\n",
      "   ------------------------------ --------- 1.3/1.7 MB 25.5 kB/s eta 0:00:17\n",
      "   ------------------------------ --------- 1.3/1.7 MB 25.5 kB/s eta 0:00:17\n",
      "   ------------------------------ --------- 1.3/1.7 MB 25.5 kB/s eta 0:00:17\n",
      "   ------------------------------ --------- 1.3/1.7 MB 25.5 kB/s eta 0:00:17\n",
      "   ------------------------------ --------- 1.3/1.7 MB 25.5 kB/s eta 0:00:17\n",
      "   ------------------------------ --------- 1.3/1.7 MB 25.5 kB/s eta 0:00:17\n",
      "   ------------------------------ --------- 1.3/1.7 MB 25.7 kB/s eta 0:00:16\n",
      "   ------------------------------ --------- 1.3/1.7 MB 25.7 kB/s eta 0:00:16\n",
      "   ------------------------------ --------- 1.3/1.7 MB 25.7 kB/s eta 0:00:16\n",
      "   ------------------------------ --------- 1.3/1.7 MB 25.7 kB/s eta 0:00:16\n",
      "   ------------------------------ --------- 1.3/1.7 MB 25.7 kB/s eta 0:00:16\n",
      "   ------------------------------ --------- 1.3/1.7 MB 25.7 kB/s eta 0:00:16\n",
      "   ------------------------------ --------- 1.3/1.7 MB 25.7 kB/s eta 0:00:16\n",
      "   ------------------------------ --------- 1.3/1.7 MB 25.7 kB/s eta 0:00:16\n",
      "   ------------------------------ --------- 1.3/1.7 MB 25.7 kB/s eta 0:00:16\n",
      "   ------------------------------ --------- 1.3/1.7 MB 25.7 kB/s eta 0:00:16\n",
      "   ------------------------------ --------- 1.3/1.7 MB 25.6 kB/s eta 0:00:16\n",
      "   ------------------------------ --------- 1.3/1.7 MB 25.6 kB/s eta 0:00:16\n",
      "   ------------------------------ --------- 1.3/1.7 MB 25.6 kB/s eta 0:00:16\n",
      "   ------------------------------ --------- 1.3/1.7 MB 25.6 kB/s eta 0:00:16\n",
      "   ------------------------------ --------- 1.3/1.7 MB 25.6 kB/s eta 0:00:16\n",
      "   ------------------------------ --------- 1.3/1.7 MB 25.6 kB/s eta 0:00:16\n",
      "   ------------------------------ --------- 1.3/1.7 MB 25.6 kB/s eta 0:00:16\n",
      "   ------------------------------ --------- 1.3/1.7 MB 25.6 kB/s eta 0:00:16\n",
      "   ------------------------------ --------- 1.3/1.7 MB 25.6 kB/s eta 0:00:16\n",
      "   ------------------------------ --------- 1.3/1.7 MB 25.6 kB/s eta 0:00:16\n",
      "   ------------------------------ --------- 1.3/1.7 MB 25.6 kB/s eta 0:00:16\n",
      "   ------------------------------ --------- 1.3/1.7 MB 25.6 kB/s eta 0:00:16\n",
      "   ------------------------------ --------- 1.3/1.7 MB 25.6 kB/s eta 0:00:16\n",
      "   ------------------------------ --------- 1.3/1.7 MB 25.6 kB/s eta 0:00:16\n",
      "   ------------------------------ --------- 1.3/1.7 MB 25.6 kB/s eta 0:00:16\n",
      "   ------------------------------ --------- 1.3/1.7 MB 25.6 kB/s eta 0:00:16\n",
      "   ------------------------------ --------- 1.3/1.7 MB 25.6 kB/s eta 0:00:16\n",
      "   ------------------------------ --------- 1.3/1.7 MB 25.6 kB/s eta 0:00:16\n",
      "   ------------------------------ --------- 1.3/1.7 MB 25.6 kB/s eta 0:00:16\n",
      "   ------------------------------ --------- 1.3/1.7 MB 25.6 kB/s eta 0:00:16\n",
      "   ------------------------------ --------- 1.3/1.7 MB 25.6 kB/s eta 0:00:16\n",
      "   ------------------------------ --------- 1.3/1.7 MB 25.6 kB/s eta 0:00:16\n",
      "   ------------------------------ --------- 1.3/1.7 MB 25.6 kB/s eta 0:00:16\n",
      "   ------------------------------- -------- 1.3/1.7 MB 25.7 kB/s eta 0:00:15\n",
      "   ------------------------------- -------- 1.3/1.7 MB 25.7 kB/s eta 0:00:15\n",
      "   ------------------------------- -------- 1.3/1.7 MB 25.7 kB/s eta 0:00:15\n",
      "   ------------------------------- -------- 1.3/1.7 MB 25.7 kB/s eta 0:00:15\n",
      "   ------------------------------- -------- 1.3/1.7 MB 25.7 kB/s eta 0:00:15\n",
      "   ------------------------------- -------- 1.3/1.7 MB 25.7 kB/s eta 0:00:15\n",
      "   ------------------------------- -------- 1.3/1.7 MB 25.7 kB/s eta 0:00:15\n",
      "   ------------------------------- -------- 1.3/1.7 MB 25.7 kB/s eta 0:00:15\n",
      "   ------------------------------- -------- 1.3/1.7 MB 25.7 kB/s eta 0:00:15\n",
      "   ------------------------------- -------- 1.3/1.7 MB 25.7 kB/s eta 0:00:15\n",
      "   ------------------------------- -------- 1.3/1.7 MB 25.7 kB/s eta 0:00:15\n",
      "   ------------------------------- -------- 1.3/1.7 MB 25.7 kB/s eta 0:00:15\n",
      "   ------------------------------- -------- 1.3/1.7 MB 25.7 kB/s eta 0:00:15\n",
      "   ------------------------------- -------- 1.3/1.7 MB 25.7 kB/s eta 0:00:15\n",
      "   ------------------------------- -------- 1.3/1.7 MB 25.7 kB/s eta 0:00:15\n",
      "   ------------------------------- -------- 1.3/1.7 MB 25.7 kB/s eta 0:00:15\n",
      "   ------------------------------- -------- 1.3/1.7 MB 25.7 kB/s eta 0:00:15\n",
      "   ------------------------------- -------- 1.3/1.7 MB 25.7 kB/s eta 0:00:15\n",
      "   ------------------------------- -------- 1.4/1.7 MB 26.5 kB/s eta 0:00:14\n",
      "   ------------------------------- -------- 1.4/1.7 MB 26.5 kB/s eta 0:00:14\n",
      "   ------------------------------- -------- 1.4/1.7 MB 26.5 kB/s eta 0:00:14\n",
      "   ------------------------------- -------- 1.4/1.7 MB 26.5 kB/s eta 0:00:14\n",
      "   ------------------------------- -------- 1.4/1.7 MB 26.5 kB/s eta 0:00:14\n",
      "   ------------------------------- -------- 1.4/1.7 MB 26.5 kB/s eta 0:00:14\n",
      "   ------------------------------- -------- 1.4/1.7 MB 26.5 kB/s eta 0:00:14\n",
      "   ------------------------------- -------- 1.4/1.7 MB 26.5 kB/s eta 0:00:14\n",
      "   ------------------------------- -------- 1.4/1.7 MB 26.5 kB/s eta 0:00:14\n",
      "   ------------------------------- -------- 1.4/1.7 MB 26.5 kB/s eta 0:00:14\n",
      "   ------------------------------- -------- 1.4/1.7 MB 26.5 kB/s eta 0:00:14\n",
      "   ------------------------------- -------- 1.4/1.7 MB 26.5 kB/s eta 0:00:14\n",
      "   ------------------------------- -------- 1.4/1.7 MB 26.5 kB/s eta 0:00:14\n",
      "   -------------------------------- ------- 1.4/1.7 MB 26.4 kB/s eta 0:00:13\n",
      "   -------------------------------- ------- 1.4/1.7 MB 26.4 kB/s eta 0:00:13\n",
      "   -------------------------------- ------- 1.4/1.7 MB 26.4 kB/s eta 0:00:13\n",
      "   -------------------------------- ------- 1.4/1.7 MB 26.4 kB/s eta 0:00:13\n",
      "   -------------------------------- ------- 1.4/1.7 MB 26.4 kB/s eta 0:00:13\n",
      "   -------------------------------- ------- 1.4/1.7 MB 26.4 kB/s eta 0:00:13\n",
      "   -------------------------------- ------- 1.4/1.7 MB 26.4 kB/s eta 0:00:13\n",
      "   -------------------------------- ------- 1.4/1.7 MB 26.4 kB/s eta 0:00:13\n",
      "   -------------------------------- ------- 1.4/1.7 MB 26.4 kB/s eta 0:00:13\n",
      "   -------------------------------- ------- 1.4/1.7 MB 26.4 kB/s eta 0:00:13\n",
      "   -------------------------------- ------- 1.4/1.7 MB 26.4 kB/s eta 0:00:13\n",
      "   -------------------------------- ------- 1.4/1.7 MB 26.4 kB/s eta 0:00:13\n",
      "   -------------------------------- ------- 1.4/1.7 MB 26.4 kB/s eta 0:00:13\n",
      "   -------------------------------- ------- 1.4/1.7 MB 26.4 kB/s eta 0:00:13\n",
      "   -------------------------------- ------- 1.4/1.7 MB 26.4 kB/s eta 0:00:13\n",
      "   -------------------------------- ------- 1.4/1.7 MB 26.5 kB/s eta 0:00:13\n",
      "   -------------------------------- ------- 1.4/1.7 MB 26.5 kB/s eta 0:00:13\n",
      "   -------------------------------- ------- 1.4/1.7 MB 26.5 kB/s eta 0:00:13\n",
      "   -------------------------------- ------- 1.4/1.7 MB 26.5 kB/s eta 0:00:13\n",
      "   -------------------------------- ------- 1.4/1.7 MB 26.5 kB/s eta 0:00:13\n",
      "   -------------------------------- ------- 1.4/1.7 MB 26.5 kB/s eta 0:00:13\n",
      "   -------------------------------- ------- 1.4/1.7 MB 26.5 kB/s eta 0:00:13\n",
      "   -------------------------------- ------- 1.4/1.7 MB 26.5 kB/s eta 0:00:13\n",
      "   -------------------------------- ------- 1.4/1.7 MB 26.5 kB/s eta 0:00:13\n",
      "   -------------------------------- ------- 1.4/1.7 MB 26.5 kB/s eta 0:00:13\n",
      "   -------------------------------- ------- 1.4/1.7 MB 26.5 kB/s eta 0:00:13\n",
      "   -------------------------------- ------- 1.4/1.7 MB 26.5 kB/s eta 0:00:13\n",
      "   -------------------------------- ------- 1.4/1.7 MB 26.5 kB/s eta 0:00:13\n",
      "   -------------------------------- ------- 1.4/1.7 MB 26.5 kB/s eta 0:00:13\n",
      "   -------------------------------- ------- 1.4/1.7 MB 26.5 kB/s eta 0:00:13\n",
      "   -------------------------------- ------- 1.4/1.7 MB 27.4 kB/s eta 0:00:12\n",
      "   -------------------------------- ------- 1.4/1.7 MB 27.4 kB/s eta 0:00:12\n",
      "   -------------------------------- ------- 1.4/1.7 MB 27.4 kB/s eta 0:00:12\n",
      "   -------------------------------- ------- 1.4/1.7 MB 27.4 kB/s eta 0:00:12\n",
      "   -------------------------------- ------- 1.4/1.7 MB 27.4 kB/s eta 0:00:12\n",
      "   -------------------------------- ------- 1.4/1.7 MB 27.4 kB/s eta 0:00:12\n",
      "   -------------------------------- ------- 1.4/1.7 MB 27.4 kB/s eta 0:00:12\n",
      "   -------------------------------- ------- 1.4/1.7 MB 27.4 kB/s eta 0:00:12\n",
      "   -------------------------------- ------- 1.4/1.7 MB 27.4 kB/s eta 0:00:12\n",
      "   -------------------------------- ------- 1.4/1.7 MB 27.4 kB/s eta 0:00:12\n",
      "   --------------------------------- ------ 1.4/1.7 MB 27.7 kB/s eta 0:00:11\n",
      "   --------------------------------- ------ 1.4/1.7 MB 27.7 kB/s eta 0:00:11\n",
      "   --------------------------------- ------ 1.4/1.7 MB 27.7 kB/s eta 0:00:11\n",
      "   --------------------------------- ------ 1.4/1.7 MB 27.7 kB/s eta 0:00:11\n",
      "   --------------------------------- ------ 1.4/1.7 MB 27.7 kB/s eta 0:00:11\n",
      "   --------------------------------- ------ 1.4/1.7 MB 27.7 kB/s eta 0:00:11\n",
      "   --------------------------------- ------ 1.4/1.7 MB 27.7 kB/s eta 0:00:11\n",
      "   --------------------------------- ------ 1.4/1.7 MB 27.7 kB/s eta 0:00:11\n",
      "   --------------------------------- ------ 1.4/1.7 MB 27.7 kB/s eta 0:00:11\n",
      "   --------------------------------- ------ 1.4/1.7 MB 27.7 kB/s eta 0:00:11\n",
      "   --------------------------------- ------ 1.4/1.7 MB 27.7 kB/s eta 0:00:11\n",
      "   --------------------------------- ------ 1.4/1.7 MB 27.7 kB/s eta 0:00:11\n",
      "   --------------------------------- ------ 1.4/1.7 MB 27.7 kB/s eta 0:00:11\n",
      "   --------------------------------- ------ 1.4/1.7 MB 27.7 kB/s eta 0:00:11\n",
      "   --------------------------------- ------ 1.4/1.7 MB 27.8 kB/s eta 0:00:10\n",
      "   --------------------------------- ------ 1.4/1.7 MB 27.8 kB/s eta 0:00:10\n",
      "   --------------------------------- ------ 1.4/1.7 MB 27.8 kB/s eta 0:00:10\n",
      "   --------------------------------- ------ 1.4/1.7 MB 27.8 kB/s eta 0:00:10\n",
      "   --------------------------------- ------ 1.4/1.7 MB 27.8 kB/s eta 0:00:10\n",
      "   --------------------------------- ------ 1.4/1.7 MB 27.8 kB/s eta 0:00:10\n",
      "   --------------------------------- ------ 1.4/1.7 MB 27.8 kB/s eta 0:00:10\n",
      "   --------------------------------- ------ 1.4/1.7 MB 27.8 kB/s eta 0:00:10\n",
      "   --------------------------------- ------ 1.4/1.7 MB 27.8 kB/s eta 0:00:10\n",
      "   --------------------------------- ------ 1.4/1.7 MB 27.8 kB/s eta 0:00:10\n",
      "   --------------------------------- ------ 1.4/1.7 MB 27.8 kB/s eta 0:00:10\n",
      "   --------------------------------- ------ 1.4/1.7 MB 27.8 kB/s eta 0:00:10\n",
      "   --------------------------------- ------ 1.4/1.7 MB 27.8 kB/s eta 0:00:10\n",
      "   --------------------------------- ------ 1.4/1.7 MB 27.8 kB/s eta 0:00:10\n",
      "   --------------------------------- ------ 1.4/1.7 MB 27.8 kB/s eta 0:00:10\n",
      "   --------------------------------- ------ 1.4/1.7 MB 27.8 kB/s eta 0:00:10\n",
      "   --------------------------------- ------ 1.4/1.7 MB 27.8 kB/s eta 0:00:10\n",
      "   --------------------------------- ------ 1.4/1.7 MB 27.8 kB/s eta 0:00:10\n",
      "   --------------------------------- ------ 1.4/1.7 MB 27.8 kB/s eta 0:00:10\n",
      "   --------------------------------- ------ 1.4/1.7 MB 27.8 kB/s eta 0:00:10\n",
      "   --------------------------------- ------ 1.4/1.7 MB 27.8 kB/s eta 0:00:10\n",
      "   --------------------------------- ------ 1.4/1.7 MB 27.8 kB/s eta 0:00:10\n",
      "   --------------------------------- ------ 1.4/1.7 MB 27.8 kB/s eta 0:00:10\n",
      "   --------------------------------- ------ 1.5/1.7 MB 28.8 kB/s eta 0:00:10\n",
      "   ---------------------------------- ----- 1.5/1.7 MB 29.4 kB/s eta 0:00:09\n",
      "   ---------------------------------- ----- 1.5/1.7 MB 29.4 kB/s eta 0:00:09\n",
      "   ---------------------------------- ----- 1.5/1.7 MB 29.4 kB/s eta 0:00:09\n",
      "   ---------------------------------- ----- 1.5/1.7 MB 29.4 kB/s eta 0:00:09\n",
      "   ---------------------------------- ----- 1.5/1.7 MB 29.4 kB/s eta 0:00:09\n",
      "   ---------------------------------- ----- 1.5/1.7 MB 29.4 kB/s eta 0:00:09\n",
      "   ---------------------------------- ----- 1.5/1.7 MB 29.4 kB/s eta 0:00:09\n",
      "   ---------------------------------- ----- 1.5/1.7 MB 29.4 kB/s eta 0:00:09\n",
      "   ---------------------------------- ----- 1.5/1.7 MB 29.4 kB/s eta 0:00:09\n",
      "   ---------------------------------- ----- 1.5/1.7 MB 29.4 kB/s eta 0:00:09\n",
      "   ---------------------------------- ----- 1.5/1.7 MB 29.4 kB/s eta 0:00:09\n",
      "   ---------------------------------- ----- 1.5/1.7 MB 29.4 kB/s eta 0:00:09\n",
      "   ---------------------------------- ----- 1.5/1.7 MB 29.4 kB/s eta 0:00:09\n",
      "   ---------------------------------- ----- 1.5/1.7 MB 29.4 kB/s eta 0:00:09\n",
      "   ---------------------------------- ----- 1.5/1.7 MB 29.4 kB/s eta 0:00:09\n",
      "   ---------------------------------- ----- 1.5/1.7 MB 29.4 kB/s eta 0:00:09\n",
      "   ---------------------------------- ----- 1.5/1.7 MB 29.4 kB/s eta 0:00:09\n",
      "   ---------------------------------- ----- 1.5/1.7 MB 29.4 kB/s eta 0:00:09\n",
      "   ---------------------------------- ----- 1.5/1.7 MB 29.1 kB/s eta 0:00:08\n",
      "   ---------------------------------- ----- 1.5/1.7 MB 29.1 kB/s eta 0:00:08\n",
      "   ---------------------------------- ----- 1.5/1.7 MB 29.1 kB/s eta 0:00:08\n",
      "   ---------------------------------- ----- 1.5/1.7 MB 29.1 kB/s eta 0:00:08\n",
      "   ---------------------------------- ----- 1.5/1.7 MB 29.1 kB/s eta 0:00:08\n",
      "   ---------------------------------- ----- 1.5/1.7 MB 29.1 kB/s eta 0:00:08\n",
      "   ---------------------------------- ----- 1.5/1.7 MB 29.1 kB/s eta 0:00:08\n",
      "   ---------------------------------- ----- 1.5/1.7 MB 29.1 kB/s eta 0:00:08\n",
      "   ---------------------------------- ----- 1.5/1.7 MB 29.1 kB/s eta 0:00:08\n",
      "   ---------------------------------- ----- 1.5/1.7 MB 29.1 kB/s eta 0:00:08\n",
      "   ---------------------------------- ----- 1.5/1.7 MB 29.1 kB/s eta 0:00:08\n",
      "   ---------------------------------- ----- 1.5/1.7 MB 29.1 kB/s eta 0:00:08\n",
      "   ----------------------------------- ---- 1.5/1.7 MB 29.3 kB/s eta 0:00:08\n",
      "   ----------------------------------- ---- 1.5/1.7 MB 29.3 kB/s eta 0:00:08\n",
      "   ----------------------------------- ---- 1.5/1.7 MB 29.3 kB/s eta 0:00:08\n",
      "   ----------------------------------- ---- 1.5/1.7 MB 29.3 kB/s eta 0:00:08\n",
      "   ----------------------------------- ---- 1.5/1.7 MB 29.3 kB/s eta 0:00:08\n",
      "   ----------------------------------- ---- 1.5/1.7 MB 29.3 kB/s eta 0:00:08\n",
      "   ----------------------------------- ---- 1.5/1.7 MB 29.3 kB/s eta 0:00:08\n",
      "   ----------------------------------- ---- 1.5/1.7 MB 29.3 kB/s eta 0:00:08\n",
      "   ----------------------------------- ---- 1.5/1.7 MB 29.3 kB/s eta 0:00:08\n",
      "   ----------------------------------- ---- 1.5/1.7 MB 29.9 kB/s eta 0:00:07\n",
      "   ----------------------------------- ---- 1.5/1.7 MB 29.9 kB/s eta 0:00:07\n",
      "   ----------------------------------- ---- 1.5/1.7 MB 29.9 kB/s eta 0:00:07\n",
      "   ----------------------------------- ---- 1.5/1.7 MB 29.9 kB/s eta 0:00:07\n",
      "   ----------------------------------- ---- 1.5/1.7 MB 29.9 kB/s eta 0:00:07\n",
      "   ----------------------------------- ---- 1.5/1.7 MB 29.9 kB/s eta 0:00:07\n",
      "   ----------------------------------- ---- 1.5/1.7 MB 29.9 kB/s eta 0:00:07\n",
      "   ----------------------------------- ---- 1.5/1.7 MB 29.9 kB/s eta 0:00:07\n",
      "   ----------------------------------- ---- 1.5/1.7 MB 29.9 kB/s eta 0:00:07\n",
      "   ----------------------------------- ---- 1.5/1.7 MB 29.8 kB/s eta 0:00:06\n",
      "   ----------------------------------- ---- 1.5/1.7 MB 29.8 kB/s eta 0:00:06\n",
      "   ----------------------------------- ---- 1.5/1.7 MB 29.8 kB/s eta 0:00:06\n",
      "   ----------------------------------- ---- 1.5/1.7 MB 29.8 kB/s eta 0:00:06\n",
      "   ----------------------------------- ---- 1.5/1.7 MB 29.8 kB/s eta 0:00:06\n",
      "   ----------------------------------- ---- 1.5/1.7 MB 29.8 kB/s eta 0:00:06\n",
      "   ----------------------------------- ---- 1.5/1.7 MB 29.8 kB/s eta 0:00:06\n",
      "   ----------------------------------- ---- 1.5/1.7 MB 29.8 kB/s eta 0:00:06\n",
      "   ----------------------------------- ---- 1.5/1.7 MB 29.8 kB/s eta 0:00:06\n",
      "   ----------------------------------- ---- 1.5/1.7 MB 29.8 kB/s eta 0:00:06\n",
      "   ----------------------------------- ---- 1.5/1.7 MB 29.8 kB/s eta 0:00:06\n",
      "   ----------------------------------- ---- 1.5/1.7 MB 29.8 kB/s eta 0:00:06\n",
      "   ----------------------------------- ---- 1.5/1.7 MB 29.8 kB/s eta 0:00:06\n",
      "   ----------------------------------- ---- 1.5/1.7 MB 29.8 kB/s eta 0:00:06\n",
      "   ----------------------------------- ---- 1.5/1.7 MB 29.8 kB/s eta 0:00:06\n",
      "   ----------------------------------- ---- 1.5/1.7 MB 29.8 kB/s eta 0:00:06\n",
      "   ----------------------------------- ---- 1.5/1.7 MB 29.8 kB/s eta 0:00:06\n",
      "   ----------------------------------- ---- 1.5/1.7 MB 29.8 kB/s eta 0:00:06\n",
      "   ----------------------------------- ---- 1.5/1.7 MB 29.8 kB/s eta 0:00:06\n",
      "   ----------------------------------- ---- 1.5/1.7 MB 29.8 kB/s eta 0:00:06\n",
      "   ----------------------------------- ---- 1.5/1.7 MB 29.8 kB/s eta 0:00:06\n",
      "   ------------------------------------ --- 1.6/1.7 MB 30.5 kB/s eta 0:00:06\n",
      "   ------------------------------------ --- 1.6/1.7 MB 30.5 kB/s eta 0:00:06\n",
      "   ------------------------------------ --- 1.6/1.7 MB 30.5 kB/s eta 0:00:06\n",
      "   ------------------------------------ --- 1.6/1.7 MB 30.7 kB/s eta 0:00:05\n",
      "   ------------------------------------ --- 1.6/1.7 MB 30.7 kB/s eta 0:00:05\n",
      "   ------------------------------------ --- 1.6/1.7 MB 30.7 kB/s eta 0:00:05\n",
      "   ------------------------------------ --- 1.6/1.7 MB 30.7 kB/s eta 0:00:05\n",
      "   ------------------------------------ --- 1.6/1.7 MB 30.7 kB/s eta 0:00:05\n",
      "   ------------------------------------ --- 1.6/1.7 MB 30.7 kB/s eta 0:00:05\n",
      "   ------------------------------------ --- 1.6/1.7 MB 30.7 kB/s eta 0:00:05\n",
      "   ------------------------------------ --- 1.6/1.7 MB 30.7 kB/s eta 0:00:05\n",
      "   ------------------------------------ --- 1.6/1.7 MB 30.7 kB/s eta 0:00:05\n",
      "   ------------------------------------ --- 1.6/1.7 MB 30.7 kB/s eta 0:00:05\n",
      "   ------------------------------------ --- 1.6/1.7 MB 30.7 kB/s eta 0:00:05\n",
      "   ------------------------------------- -- 1.6/1.7 MB 30.9 kB/s eta 0:00:05\n",
      "   ------------------------------------- -- 1.6/1.7 MB 30.9 kB/s eta 0:00:05\n",
      "   ------------------------------------- -- 1.6/1.7 MB 30.9 kB/s eta 0:00:05\n",
      "   ------------------------------------- -- 1.6/1.7 MB 30.9 kB/s eta 0:00:05\n",
      "   ------------------------------------- -- 1.6/1.7 MB 30.9 kB/s eta 0:00:05\n",
      "   ------------------------------------- -- 1.6/1.7 MB 30.9 kB/s eta 0:00:05\n",
      "   ------------------------------------- -- 1.6/1.7 MB 30.9 kB/s eta 0:00:05\n",
      "   ------------------------------------- -- 1.6/1.7 MB 30.9 kB/s eta 0:00:05\n",
      "   ------------------------------------- -- 1.6/1.7 MB 30.9 kB/s eta 0:00:05\n",
      "   ------------------------------------- -- 1.6/1.7 MB 30.9 kB/s eta 0:00:05\n",
      "   ------------------------------------- -- 1.6/1.7 MB 30.9 kB/s eta 0:00:05\n",
      "   ------------------------------------- -- 1.6/1.7 MB 31.3 kB/s eta 0:00:04\n",
      "   ------------------------------------- -- 1.6/1.7 MB 31.3 kB/s eta 0:00:04\n",
      "   ------------------------------------- -- 1.6/1.7 MB 31.3 kB/s eta 0:00:04\n",
      "   ------------------------------------- -- 1.6/1.7 MB 31.3 kB/s eta 0:00:04\n",
      "   ------------------------------------- -- 1.6/1.7 MB 31.3 kB/s eta 0:00:04\n",
      "   ------------------------------------- -- 1.6/1.7 MB 31.3 kB/s eta 0:00:04\n",
      "   ------------------------------------- -- 1.6/1.7 MB 31.3 kB/s eta 0:00:04\n",
      "   ------------------------------------- -- 1.6/1.7 MB 31.3 kB/s eta 0:00:04\n",
      "   ------------------------------------- -- 1.6/1.7 MB 31.3 kB/s eta 0:00:04\n",
      "   ------------------------------------- -- 1.6/1.7 MB 31.3 kB/s eta 0:00:04\n",
      "   ------------------------------------- -- 1.6/1.7 MB 31.3 kB/s eta 0:00:04\n",
      "   ------------------------------------- -- 1.6/1.7 MB 31.2 kB/s eta 0:00:04\n",
      "   ------------------------------------- -- 1.6/1.7 MB 31.2 kB/s eta 0:00:04\n",
      "   ------------------------------------- -- 1.6/1.7 MB 31.2 kB/s eta 0:00:04\n",
      "   ------------------------------------- -- 1.6/1.7 MB 31.2 kB/s eta 0:00:04\n",
      "   ------------------------------------- -- 1.6/1.7 MB 31.2 kB/s eta 0:00:04\n",
      "   ------------------------------------- -- 1.6/1.7 MB 31.2 kB/s eta 0:00:04\n",
      "   ------------------------------------- -- 1.6/1.7 MB 31.2 kB/s eta 0:00:04\n",
      "   ------------------------------------- -- 1.6/1.7 MB 31.2 kB/s eta 0:00:04\n",
      "   ------------------------------------- -- 1.6/1.7 MB 31.2 kB/s eta 0:00:04\n",
      "   ------------------------------------- -- 1.6/1.7 MB 31.2 kB/s eta 0:00:04\n",
      "   ------------------------------------- -- 1.6/1.7 MB 31.2 kB/s eta 0:00:04\n",
      "   ------------------------------------- -- 1.6/1.7 MB 31.2 kB/s eta 0:00:04\n",
      "   ------------------------------------- -- 1.6/1.7 MB 31.2 kB/s eta 0:00:04\n",
      "   -------------------------------------- - 1.6/1.7 MB 31.3 kB/s eta 0:00:03\n",
      "   -------------------------------------- - 1.6/1.7 MB 31.3 kB/s eta 0:00:03\n",
      "   -------------------------------------- - 1.6/1.7 MB 31.3 kB/s eta 0:00:03\n",
      "   -------------------------------------- - 1.6/1.7 MB 31.3 kB/s eta 0:00:03\n",
      "   -------------------------------------- - 1.6/1.7 MB 31.3 kB/s eta 0:00:03\n",
      "   -------------------------------------- - 1.6/1.7 MB 31.3 kB/s eta 0:00:03\n",
      "   -------------------------------------- - 1.6/1.7 MB 31.3 kB/s eta 0:00:03\n",
      "   -------------------------------------- - 1.6/1.7 MB 31.3 kB/s eta 0:00:03\n",
      "   -------------------------------------- - 1.6/1.7 MB 31.3 kB/s eta 0:00:03\n",
      "   -------------------------------------- - 1.6/1.7 MB 31.3 kB/s eta 0:00:03\n",
      "   -------------------------------------- - 1.6/1.7 MB 31.3 kB/s eta 0:00:03\n",
      "   -------------------------------------- - 1.6/1.7 MB 31.3 kB/s eta 0:00:03\n",
      "   -------------------------------------- - 1.6/1.7 MB 31.3 kB/s eta 0:00:03\n",
      "   -------------------------------------- - 1.6/1.7 MB 31.3 kB/s eta 0:00:03\n",
      "   -------------------------------------- - 1.6/1.7 MB 31.3 kB/s eta 0:00:03\n",
      "   -------------------------------------- - 1.6/1.7 MB 31.3 kB/s eta 0:00:03\n",
      "   -------------------------------------- - 1.6/1.7 MB 31.3 kB/s eta 0:00:03\n",
      "   -------------------------------------- - 1.6/1.7 MB 31.3 kB/s eta 0:00:03\n",
      "   -------------------------------------- - 1.6/1.7 MB 31.3 kB/s eta 0:00:03\n",
      "   -------------------------------------- - 1.6/1.7 MB 31.3 kB/s eta 0:00:03\n",
      "   -------------------------------------- - 1.6/1.7 MB 31.3 kB/s eta 0:00:03\n",
      "   -------------------------------------- - 1.7/1.7 MB 31.2 kB/s eta 0:00:02\n",
      "   -------------------------------------- - 1.7/1.7 MB 31.2 kB/s eta 0:00:02\n",
      "   -------------------------------------- - 1.7/1.7 MB 31.2 kB/s eta 0:00:02\n",
      "   -------------------------------------- - 1.7/1.7 MB 31.2 kB/s eta 0:00:02\n",
      "   -------------------------------------- - 1.7/1.7 MB 31.2 kB/s eta 0:00:02\n",
      "   -------------------------------------- - 1.7/1.7 MB 31.2 kB/s eta 0:00:02\n",
      "   -------------------------------------- - 1.7/1.7 MB 31.2 kB/s eta 0:00:02\n",
      "   -------------------------------------- - 1.7/1.7 MB 31.2 kB/s eta 0:00:02\n",
      "   -------------------------------------- - 1.7/1.7 MB 31.2 kB/s eta 0:00:02\n",
      "   -------------------------------------- - 1.7/1.7 MB 31.2 kB/s eta 0:00:02\n",
      "   ---------------------------------------  1.7/1.7 MB 31.8 kB/s eta 0:00:01\n",
      "   ---------------------------------------  1.7/1.7 MB 31.8 kB/s eta 0:00:01\n",
      "   ---------------------------------------  1.7/1.7 MB 31.8 kB/s eta 0:00:01\n",
      "   ---------------------------------------  1.7/1.7 MB 31.8 kB/s eta 0:00:01\n",
      "   ---------------------------------------  1.7/1.7 MB 31.8 kB/s eta 0:00:01\n",
      "   ---------------------------------------  1.7/1.7 MB 31.8 kB/s eta 0:00:01\n",
      "   ---------------------------------------  1.7/1.7 MB 31.8 kB/s eta 0:00:01\n",
      "   ---------------------------------------  1.7/1.7 MB 31.8 kB/s eta 0:00:01\n",
      "   ---------------------------------------  1.7/1.7 MB 31.8 kB/s eta 0:00:01\n",
      "   ---------------------------------------  1.7/1.7 MB 31.8 kB/s eta 0:00:01\n",
      "   ---------------------------------------  1.7/1.7 MB 31.8 kB/s eta 0:00:01\n",
      "   ---------------------------------------  1.7/1.7 MB 31.8 kB/s eta 0:00:01\n",
      "   ---------------------------------------  1.7/1.7 MB 31.8 kB/s eta 0:00:01\n",
      "   ---------------------------------------  1.7/1.7 MB 31.8 kB/s eta 0:00:01\n",
      "   ---------------------------------------- 1.7/1.7 MB 30.6 kB/s eta 0:00:00\n",
      "Installing collected packages: tf-keras, tensorflow_hub\n",
      "Successfully installed tensorflow_hub-0.16.1 tf-keras-2.15.0\n"
     ]
    }
   ],
   "source": [
    "!pip install tensorflow_hub"
   ]
  },
  {
   "cell_type": "code",
   "execution_count": 28,
   "id": "220ce5e0",
   "metadata": {},
   "outputs": [
    {
     "name": "stdout",
     "output_type": "stream",
     "text": [
      "WARNING:tensorflow:From C:\\Anaconda\\Lib\\site-packages\\keras\\src\\backend.py:1398: The name tf.executing_eagerly_outside_functions is deprecated. Please use tf.compat.v1.executing_eagerly_outside_functions instead.\n",
      "\n",
      "WARNING:tensorflow:From C:\\Anaconda\\Lib\\site-packages\\keras\\src\\layers\\pooling\\max_pooling2d.py:161: The name tf.nn.max_pool is deprecated. Please use tf.nn.max_pool2d instead.\n",
      "\n",
      "WARNING:tensorflow:From C:\\Anaconda\\Lib\\site-packages\\keras\\src\\optimizers\\__init__.py:309: The name tf.train.Optimizer is deprecated. Please use tf.compat.v1.train.Optimizer instead.\n",
      "\n",
      "Model: \"sequential\"\n",
      "_________________________________________________________________\n",
      " Layer (type)                Output Shape              Param #   \n",
      "=================================================================\n",
      " resnet101v2 (Functional)    (None, 4, 4, 2048)        42626560  \n",
      "                                                                 \n",
      " global_average_pooling2d (  (None, 2048)              0         \n",
      " GlobalAveragePooling2D)                                         \n",
      "                                                                 \n",
      " dense (Dense)               (None, 512)               1049088   \n",
      "                                                                 \n",
      " dense_1 (Dense)             (None, 128)               65664     \n",
      "                                                                 \n",
      " dense_2 (Dense)             (None, 5)                 645       \n",
      "                                                                 \n",
      "=================================================================\n",
      "Total params: 43741957 (166.86 MB)\n",
      "Trainable params: 1115397 (4.25 MB)\n",
      "Non-trainable params: 42626560 (162.61 MB)\n",
      "_________________________________________________________________\n"
     ]
    }
   ],
   "source": [
    "import tensorflow as tf\n",
    "import tensorflow_hub as hub\n",
    "from tensorflow.keras import layers, models, optimizers\n",
    "# import tensorflow_datasets as tfds\n",
    "\n",
    "class SimpleMLP:\n",
    "    @staticmethod\n",
    "    def build():\n",
    "        # Load the ResNet101V2 model as the base model\n",
    "        base_model = tf.keras.applications.ResNet101V2(\n",
    "            include_top=False, weights='imagenet', input_shape=(128, 128, 3)\n",
    "        )\n",
    "        \n",
    "        # Freeze the base model's layers\n",
    "        base_model.trainable = False\n",
    "\n",
    "        # Create the transfer learning model by adding custom classification layers on top of the base model\n",
    "        model = tf.keras.models.Sequential([\n",
    "            base_model,\n",
    "            tf.keras.layers.GlobalAveragePooling2D(),\n",
    "            tf.keras.layers.Dense(512, activation='relu'),\n",
    "            # Optionally, you can add another dense layer\n",
    "            tf.keras.layers.Dense(128, activation='relu'),\n",
    "            tf.keras.layers.Dense(5, activation='softmax')  # Adjust the number of output classes accordingly\n",
    "        ])\n",
    "\n",
    "        # Compile the model\n",
    "        model.compile(\n",
    "            optimizer='adam',\n",
    "            loss='categorical_crossentropy',\n",
    "            metrics=['accuracy']\n",
    "        )\n",
    "\n",
    "        return model\n",
    "\n",
    "# Create an instance of the SimpleMLP model\n",
    "simple_mlp_model = SimpleMLP.build()\n",
    "global_model=simple_mlp_model\n",
    "\n",
    "# Display the model summary\n",
    "simple_mlp_model.summary()"
   ]
  },
  {
   "cell_type": "code",
   "execution_count": 29,
   "id": "ed3a0bf1",
   "metadata": {},
   "outputs": [],
   "source": [
    "def create_clients(data_dict):\n",
    "    '''\n",
    "    Return a dictionary with keys as client names and values as data and label lists.\n",
    "    Args: data_dict: A dictionary where keys are client names, and values are tuples of data and labels.\n",
    "                    For example, {'client_1': (data_1, labels_1), 'client_2': (data_2, labels_2), ...}\n",
    "    Returns: A dictionary with keys as client names and values as tuples of data and label lists.\n",
    "    '''\n",
    "    return data_dict\n",
    "\n",
    "import tensorflow as tf\n",
    "\n",
    "\n",
    "def test_model(test, one_hot_labels,  model, comm_round):\n",
    "    loss,accuracy=model.evaluate(test, one_hot_labels)\n",
    "    print('comm_round: {} | global_acc: {:.3%} | global_loss: {}'.format(comm_round, accuracy, loss))\n",
    "    return accuracy, loss\n",
    "\n",
    "\n",
    "def avg_weights(scaled_weight_list):\n",
    "    '''Return the average of the listed scaled weights.'''\n",
    "    num_clients = len(scaled_weight_list)\n",
    "\n",
    "    if num_clients == 0:\n",
    "        return None  # Handle the case where the list is empty\n",
    "\n",
    "    avg_grad = list()\n",
    "\n",
    "    # Get the sum of gradients across all client gradients\n",
    "    for grad_list_tuple in zip(*scaled_weight_list):\n",
    "        layer_mean = tf.math.reduce_sum(grad_list_tuple, axis=0) / num_clients\n",
    "        avg_grad.append(layer_mean)\n",
    "\n",
    "    return avg_grad\n",
    "\n",
    "\n",
    "client_data = {\n",
    "    'client_1': (train1,label1),\n",
    "    'client_2': (train2,label2),\n",
    "    'client_3': (train3,label3),\n",
    "    'client_4': (train4,label4)\n",
    "    \n",
    "}\n",
    "\n",
    "#create clients\n",
    "clients_batched = create_clients(client_data)"
   ]
  },
  {
   "cell_type": "code",
   "execution_count": null,
   "id": "63ac4a27-c057-487e-be44-b746c7da228d",
   "metadata": {},
   "outputs": [],
   "source": []
  },
  {
   "cell_type": "code",
   "execution_count": 30,
   "id": "8df36f7a",
   "metadata": {},
   "outputs": [],
   "source": [
    "client_names = list(clients_batched.keys())"
   ]
  },
  {
   "cell_type": "code",
   "execution_count": 31,
   "id": "00e9adba",
   "metadata": {},
   "outputs": [
    {
     "data": {
      "text/plain": [
       "(1936, 128, 128, 3)"
      ]
     },
     "execution_count": 31,
     "metadata": {},
     "output_type": "execute_result"
    }
   ],
   "source": [
    "train1.shape"
   ]
  },
  {
   "cell_type": "code",
   "execution_count": 32,
   "id": "b6bcea0b",
   "metadata": {},
   "outputs": [
    {
     "data": {
      "text/plain": [
       "(1586, 128, 128, 3)"
      ]
     },
     "execution_count": 32,
     "metadata": {},
     "output_type": "execute_result"
    }
   ],
   "source": [
    "train2.shape"
   ]
  },
  {
   "cell_type": "code",
   "execution_count": 33,
   "id": "4333e562",
   "metadata": {},
   "outputs": [
    {
     "data": {
      "text/plain": [
       "(1827, 128, 128, 3)"
      ]
     },
     "execution_count": 33,
     "metadata": {},
     "output_type": "execute_result"
    }
   ],
   "source": [
    "train3.shape"
   ]
  },
  {
   "cell_type": "code",
   "execution_count": 34,
   "id": "187ab02e",
   "metadata": {},
   "outputs": [
    {
     "data": {
      "text/plain": [
       "(1758, 128, 128, 3)"
      ]
     },
     "execution_count": 34,
     "metadata": {},
     "output_type": "execute_result"
    }
   ],
   "source": [
    "train4.shape"
   ]
  },
  {
   "cell_type": "code",
   "execution_count": 35,
   "id": "ef82334b",
   "metadata": {},
   "outputs": [
    {
     "data": {
      "text/plain": [
       "array([[0, 0, 0, 0, 1],\n",
       "       [0, 0, 1, 0, 0],\n",
       "       [0, 0, 0, 0, 1],\n",
       "       ...,\n",
       "       [0, 0, 0, 1, 0],\n",
       "       [0, 1, 0, 0, 0],\n",
       "       [1, 0, 0, 0, 0]])"
      ]
     },
     "execution_count": 35,
     "metadata": {},
     "output_type": "execute_result"
    }
   ],
   "source": [
    "one_hot_labels"
   ]
  },
  {
   "cell_type": "code",
   "execution_count": 36,
   "id": "7a7d41d3",
   "metadata": {
    "scrolled": true
   },
   "outputs": [
    {
     "name": "stderr",
     "output_type": "stream",
     "text": [
      "Progress Bar:   0%|                                                                              | 0/4 [00:00<?, ?it/s]"
     ]
    },
    {
     "name": "stdout",
     "output_type": "stream",
     "text": [
      "Epoch 1/2\n",
      "WARNING:tensorflow:From C:\\Anaconda\\Lib\\site-packages\\keras\\src\\utils\\tf_utils.py:492: The name tf.ragged.RaggedTensorValue is deprecated. Please use tf.compat.v1.ragged.RaggedTensorValue instead.\n",
      "\n",
      "WARNING:tensorflow:From C:\\Anaconda\\Lib\\site-packages\\keras\\src\\engine\\base_layer_utils.py:384: The name tf.executing_eagerly_outside_functions is deprecated. Please use tf.compat.v1.executing_eagerly_outside_functions instead.\n",
      "\n",
      "50/50 - 20s - loss: 0.6824 - accuracy: 0.7453 - 20s/epoch - 408ms/step\n",
      "Epoch 2/2\n",
      "50/50 - 17s - loss: 0.2487 - accuracy: 0.9086 - 17s/epoch - 339ms/step\n"
     ]
    },
    {
     "name": "stderr",
     "output_type": "stream",
     "text": [
      "Progress Bar:  25%|█████████████████▌                                                    | 1/4 [00:40<02:02, 40.80s/it]"
     ]
    },
    {
     "name": "stdout",
     "output_type": "stream",
     "text": [
      "Epoch 1/2\n",
      "55/55 - 24s - loss: 0.7041 - accuracy: 0.7400 - 24s/epoch - 435ms/step\n",
      "Epoch 2/2\n",
      "55/55 - 18s - loss: 0.2467 - accuracy: 0.9130 - 18s/epoch - 335ms/step\n"
     ]
    },
    {
     "name": "stderr",
     "output_type": "stream",
     "text": [
      "Progress Bar:  50%|███████████████████████████████████                                   | 2/4 [01:27<01:28, 44.06s/it]"
     ]
    },
    {
     "name": "stdout",
     "output_type": "stream",
     "text": [
      "Epoch 1/2\n",
      "58/58 - 25s - loss: 0.5928 - accuracy: 0.7887 - 25s/epoch - 423ms/step\n",
      "Epoch 2/2\n",
      "58/58 - 21s - loss: 0.2076 - accuracy: 0.9239 - 21s/epoch - 357ms/step\n"
     ]
    },
    {
     "name": "stderr",
     "output_type": "stream",
     "text": [
      "Progress Bar:  75%|████████████████████████████████████████████████████▌                 | 3/4 [02:16<00:46, 46.26s/it]"
     ]
    },
    {
     "name": "stdout",
     "output_type": "stream",
     "text": [
      "Epoch 1/2\n",
      "61/61 - 25s - loss: 0.6160 - accuracy: 0.7789 - 25s/epoch - 410ms/step\n",
      "Epoch 2/2\n",
      "61/61 - 20s - loss: 0.2235 - accuracy: 0.9184 - 20s/epoch - 336ms/step\n"
     ]
    },
    {
     "name": "stderr",
     "output_type": "stream",
     "text": [
      "Progress Bar: 100%|██████████████████████████████████████████████████████████████████████| 4/4 [03:05<00:00, 46.30s/it]\n"
     ]
    },
    {
     "name": "stdout",
     "output_type": "stream",
     "text": [
      "32/32 [==============================] - 13s 338ms/step - loss: 0.2229 - accuracy: 0.9240\n",
      "comm_round: 0 | global_acc: 92.400% | global_loss: 0.22286434471607208\n"
     ]
    },
    {
     "name": "stderr",
     "output_type": "stream",
     "text": [
      "Progress Bar:   0%|                                                                              | 0/4 [00:00<?, ?it/s]"
     ]
    },
    {
     "name": "stdout",
     "output_type": "stream",
     "text": [
      "Epoch 1/2\n",
      "61/61 - 24s - loss: 0.2903 - accuracy: 0.9003 - 24s/epoch - 392ms/step\n",
      "Epoch 2/2\n",
      "61/61 - 21s - loss: 0.1514 - accuracy: 0.9540 - 21s/epoch - 344ms/step\n"
     ]
    },
    {
     "name": "stderr",
     "output_type": "stream",
     "text": [
      "Progress Bar:  25%|█████████████████▌                                                    | 1/4 [00:48<02:24, 48.31s/it]"
     ]
    },
    {
     "name": "stdout",
     "output_type": "stream",
     "text": [
      "Epoch 1/2\n",
      "50/50 - 22s - loss: 0.3357 - accuracy: 0.8752 - 22s/epoch - 433ms/step\n",
      "Epoch 2/2\n",
      "50/50 - 17s - loss: 0.1369 - accuracy: 0.9565 - 17s/epoch - 342ms/step\n"
     ]
    },
    {
     "name": "stderr",
     "output_type": "stream",
     "text": [
      "Progress Bar:  50%|███████████████████████████████████                                   | 2/4 [01:30<01:29, 44.80s/it]"
     ]
    },
    {
     "name": "stdout",
     "output_type": "stream",
     "text": [
      "Epoch 1/2\n",
      "58/58 - 24s - loss: 0.2860 - accuracy: 0.8927 - 24s/epoch - 416ms/step\n",
      "Epoch 2/2\n",
      "58/58 - 20s - loss: 0.1208 - accuracy: 0.9617 - 20s/epoch - 343ms/step\n"
     ]
    },
    {
     "name": "stderr",
     "output_type": "stream",
     "text": [
      "Progress Bar:  75%|████████████████████████████████████████████████████▌                 | 3/4 [02:18<00:46, 46.16s/it]"
     ]
    },
    {
     "name": "stdout",
     "output_type": "stream",
     "text": [
      "Epoch 1/2\n",
      "55/55 - 23s - loss: 0.3348 - accuracy: 0.8800 - 23s/epoch - 417ms/step\n",
      "Epoch 2/2\n",
      "55/55 - 19s - loss: 0.1541 - accuracy: 0.9477 - 19s/epoch - 354ms/step\n"
     ]
    },
    {
     "name": "stderr",
     "output_type": "stream",
     "text": [
      "Progress Bar: 100%|██████████████████████████████████████████████████████████████████████| 4/4 [03:04<00:00, 46.13s/it]\n"
     ]
    },
    {
     "name": "stdout",
     "output_type": "stream",
     "text": [
      "32/32 [==============================] - 13s 373ms/step - loss: 0.1137 - accuracy: 0.9580\n",
      "comm_round: 1 | global_acc: 95.800% | global_loss: 0.11366002261638641\n"
     ]
    },
    {
     "name": "stderr",
     "output_type": "stream",
     "text": [
      "Progress Bar:   0%|                                                                              | 0/4 [00:00<?, ?it/s]"
     ]
    },
    {
     "name": "stdout",
     "output_type": "stream",
     "text": [
      "Epoch 1/2\n",
      "58/58 - 26s - loss: 0.1813 - accuracy: 0.9409 - 26s/epoch - 455ms/step\n",
      "Epoch 2/2\n",
      "58/58 - 22s - loss: 0.1005 - accuracy: 0.9683 - 22s/epoch - 373ms/step\n"
     ]
    },
    {
     "name": "stderr",
     "output_type": "stream",
     "text": [
      "Progress Bar:  25%|█████████████████▌                                                    | 1/4 [00:51<02:34, 51.60s/it]"
     ]
    },
    {
     "name": "stdout",
     "output_type": "stream",
     "text": [
      "Epoch 1/2\n",
      "61/61 - 28s - loss: 0.1941 - accuracy: 0.9303 - 28s/epoch - 455ms/step\n",
      "Epoch 2/2\n",
      "61/61 - 23s - loss: 0.0873 - accuracy: 0.9695 - 23s/epoch - 375ms/step\n"
     ]
    },
    {
     "name": "stderr",
     "output_type": "stream",
     "text": [
      "Progress Bar:  50%|███████████████████████████████████                                   | 2/4 [01:45<01:46, 53.20s/it]"
     ]
    },
    {
     "name": "stdout",
     "output_type": "stream",
     "text": [
      "Epoch 1/2\n",
      "50/50 - 23s - loss: 0.2042 - accuracy: 0.9294 - 23s/epoch - 457ms/step\n",
      "Epoch 2/2\n",
      "50/50 - 19s - loss: 0.1168 - accuracy: 0.9628 - 19s/epoch - 370ms/step\n"
     ]
    },
    {
     "name": "stderr",
     "output_type": "stream",
     "text": [
      "Progress Bar:  75%|████████████████████████████████████████████████████▌                 | 3/4 [02:30<00:49, 49.47s/it]"
     ]
    },
    {
     "name": "stdout",
     "output_type": "stream",
     "text": [
      "Epoch 1/2\n",
      "55/55 - 25s - loss: 0.2147 - accuracy: 0.9226 - 25s/epoch - 454ms/step\n",
      "Epoch 2/2\n",
      "55/55 - 20s - loss: 0.0773 - accuracy: 0.9755 - 20s/epoch - 371ms/step\n"
     ]
    },
    {
     "name": "stderr",
     "output_type": "stream",
     "text": [
      "Progress Bar: 100%|██████████████████████████████████████████████████████████████████████| 4/4 [03:20<00:00, 50.07s/it]\n"
     ]
    },
    {
     "name": "stdout",
     "output_type": "stream",
     "text": [
      "32/32 [==============================] - 13s 391ms/step - loss: 0.0742 - accuracy: 0.9740\n",
      "comm_round: 2 | global_acc: 97.400% | global_loss: 0.07424860447645187\n"
     ]
    },
    {
     "name": "stderr",
     "output_type": "stream",
     "text": [
      "Progress Bar:   0%|                                                                              | 0/4 [00:00<?, ?it/s]"
     ]
    },
    {
     "name": "stdout",
     "output_type": "stream",
     "text": [
      "Epoch 1/2\n",
      "50/50 - 23s - loss: 0.1590 - accuracy: 0.9464 - 23s/epoch - 455ms/step\n",
      "Epoch 2/2\n",
      "50/50 - 18s - loss: 0.0741 - accuracy: 0.9798 - 18s/epoch - 369ms/step\n"
     ]
    },
    {
     "name": "stderr",
     "output_type": "stream",
     "text": [
      "Progress Bar:  25%|█████████████████▌                                                    | 1/4 [00:45<02:17, 45.68s/it]"
     ]
    },
    {
     "name": "stdout",
     "output_type": "stream",
     "text": [
      "Epoch 1/2\n",
      "58/58 - 26s - loss: 0.1398 - accuracy: 0.9557 - 26s/epoch - 447ms/step\n",
      "Epoch 2/2\n",
      "58/58 - 21s - loss: 0.0501 - accuracy: 0.9836 - 21s/epoch - 359ms/step\n"
     ]
    },
    {
     "name": "stderr",
     "output_type": "stream",
     "text": [
      "Progress Bar:  50%|███████████████████████████████████                                   | 2/4 [01:36<01:36, 48.47s/it]"
     ]
    },
    {
     "name": "stdout",
     "output_type": "stream",
     "text": [
      "Epoch 1/2\n",
      "55/55 - 25s - loss: 0.1441 - accuracy: 0.9494 - 25s/epoch - 461ms/step\n",
      "Epoch 2/2\n",
      "55/55 - 20s - loss: 0.0861 - accuracy: 0.9744 - 20s/epoch - 363ms/step\n"
     ]
    },
    {
     "name": "stderr",
     "output_type": "stream",
     "text": [
      "Progress Bar:  75%|████████████████████████████████████████████████████▌                 | 3/4 [02:25<00:48, 48.77s/it]"
     ]
    },
    {
     "name": "stdout",
     "output_type": "stream",
     "text": [
      "Epoch 1/2\n",
      "61/61 - 26s - loss: 0.1483 - accuracy: 0.9478 - 26s/epoch - 433ms/step\n",
      "Epoch 2/2\n",
      "61/61 - 22s - loss: 0.0859 - accuracy: 0.9695 - 22s/epoch - 364ms/step\n"
     ]
    },
    {
     "name": "stderr",
     "output_type": "stream",
     "text": [
      "Progress Bar: 100%|██████████████████████████████████████████████████████████████████████| 4/4 [03:17<00:00, 49.38s/it]\n"
     ]
    },
    {
     "name": "stdout",
     "output_type": "stream",
     "text": [
      "32/32 [==============================] - 12s 361ms/step - loss: 0.0405 - accuracy: 0.9900\n",
      "comm_round: 3 | global_acc: 99.000% | global_loss: 0.04045097902417183\n"
     ]
    },
    {
     "name": "stderr",
     "output_type": "stream",
     "text": [
      "Progress Bar:   0%|                                                                              | 0/4 [00:00<?, ?it/s]"
     ]
    },
    {
     "name": "stdout",
     "output_type": "stream",
     "text": [
      "Epoch 1/2\n",
      "61/61 - 27s - loss: 0.1006 - accuracy: 0.9638 - 27s/epoch - 442ms/step\n",
      "Epoch 2/2\n",
      "61/61 - 22s - loss: 0.0584 - accuracy: 0.9799 - 22s/epoch - 360ms/step\n"
     ]
    },
    {
     "name": "stderr",
     "output_type": "stream",
     "text": [
      "Progress Bar:  25%|█████████████████▌                                                    | 1/4 [00:52<02:37, 52.59s/it]"
     ]
    },
    {
     "name": "stdout",
     "output_type": "stream",
     "text": [
      "Epoch 1/2\n",
      "55/55 - 24s - loss: 0.1101 - accuracy: 0.9625 - 24s/epoch - 440ms/step\n",
      "Epoch 2/2\n",
      "55/55 - 20s - loss: 0.0570 - accuracy: 0.9818 - 20s/epoch - 365ms/step\n"
     ]
    },
    {
     "name": "stderr",
     "output_type": "stream",
     "text": [
      "Progress Bar:  50%|███████████████████████████████████                                   | 2/4 [01:40<01:39, 49.83s/it]"
     ]
    },
    {
     "name": "stdout",
     "output_type": "stream",
     "text": [
      "Epoch 1/2\n",
      "50/50 - 23s - loss: 0.1022 - accuracy: 0.9704 - 23s/epoch - 463ms/step\n",
      "Epoch 2/2\n",
      "50/50 - 18s - loss: 0.0755 - accuracy: 0.9735 - 18s/epoch - 351ms/step\n"
     ]
    },
    {
     "name": "stderr",
     "output_type": "stream",
     "text": [
      "Progress Bar:  75%|████████████████████████████████████████████████████▌                 | 3/4 [02:25<00:47, 47.80s/it]"
     ]
    },
    {
     "name": "stdout",
     "output_type": "stream",
     "text": [
      "Epoch 1/2\n",
      "58/58 - 25s - loss: 0.0858 - accuracy: 0.9699 - 25s/epoch - 434ms/step\n",
      "Epoch 2/2\n",
      "58/58 - 20s - loss: 0.0532 - accuracy: 0.9830 - 20s/epoch - 351ms/step\n"
     ]
    },
    {
     "name": "stderr",
     "output_type": "stream",
     "text": [
      "Progress Bar: 100%|██████████████████████████████████████████████████████████████████████| 4/4 [03:14<00:00, 48.74s/it]\n"
     ]
    },
    {
     "name": "stdout",
     "output_type": "stream",
     "text": [
      "32/32 [==============================] - 12s 338ms/step - loss: 0.0310 - accuracy: 0.9890\n",
      "comm_round: 4 | global_acc: 98.900% | global_loss: 0.030971642583608627\n"
     ]
    },
    {
     "name": "stderr",
     "output_type": "stream",
     "text": [
      "Progress Bar:   0%|                                                                              | 0/4 [00:00<?, ?it/s]"
     ]
    },
    {
     "name": "stdout",
     "output_type": "stream",
     "text": [
      "Epoch 1/2\n",
      "61/61 - 26s - loss: 0.0816 - accuracy: 0.9752 - 26s/epoch - 420ms/step\n",
      "Epoch 2/2\n",
      "61/61 - 22s - loss: 0.0166 - accuracy: 0.9943 - 22s/epoch - 357ms/step\n"
     ]
    },
    {
     "name": "stderr",
     "output_type": "stream",
     "text": [
      "Progress Bar:  25%|█████████████████▌                                                    | 1/4 [00:51<02:33, 51.00s/it]"
     ]
    },
    {
     "name": "stdout",
     "output_type": "stream",
     "text": [
      "Epoch 1/2\n",
      "58/58 - 28s - loss: 0.0615 - accuracy: 0.9770 - 28s/epoch - 481ms/step\n",
      "Epoch 2/2\n",
      "58/58 - 22s - loss: 0.0819 - accuracy: 0.9715 - 22s/epoch - 371ms/step\n"
     ]
    },
    {
     "name": "stderr",
     "output_type": "stream",
     "text": [
      "Progress Bar:  50%|███████████████████████████████████                                   | 2/4 [01:44<01:44, 52.30s/it]"
     ]
    },
    {
     "name": "stdout",
     "output_type": "stream",
     "text": [
      "Epoch 1/2\n",
      "55/55 - 25s - loss: 0.0843 - accuracy: 0.9750 - 25s/epoch - 461ms/step\n",
      "Epoch 2/2\n",
      "55/55 - 20s - loss: 0.0336 - accuracy: 0.9898 - 20s/epoch - 370ms/step\n"
     ]
    },
    {
     "name": "stderr",
     "output_type": "stream",
     "text": [
      "Progress Bar:  75%|████████████████████████████████████████████████████▌                 | 3/4 [02:33<00:51, 51.02s/it]"
     ]
    },
    {
     "name": "stdout",
     "output_type": "stream",
     "text": [
      "Epoch 1/2\n",
      "50/50 - 24s - loss: 0.1043 - accuracy: 0.9678 - 24s/epoch - 471ms/step\n",
      "Epoch 2/2\n",
      "50/50 - 19s - loss: 0.1099 - accuracy: 0.9678 - 19s/epoch - 383ms/step\n"
     ]
    },
    {
     "name": "stderr",
     "output_type": "stream",
     "text": [
      "Progress Bar: 100%|██████████████████████████████████████████████████████████████████████| 4/4 [03:20<00:00, 50.05s/it]\n"
     ]
    },
    {
     "name": "stdout",
     "output_type": "stream",
     "text": [
      "32/32 [==============================] - 13s 371ms/step - loss: 0.0179 - accuracy: 0.9950\n",
      "comm_round: 5 | global_acc: 99.500% | global_loss: 0.017919080331921577\n"
     ]
    },
    {
     "name": "stderr",
     "output_type": "stream",
     "text": [
      "Progress Bar:   0%|                                                                              | 0/4 [00:00<?, ?it/s]"
     ]
    },
    {
     "name": "stdout",
     "output_type": "stream",
     "text": [
      "Epoch 1/2\n",
      "50/50 - 23s - loss: 0.0575 - accuracy: 0.9811 - 23s/epoch - 458ms/step\n",
      "Epoch 2/2\n",
      "50/50 - 18s - loss: 0.0435 - accuracy: 0.9874 - 18s/epoch - 366ms/step\n"
     ]
    },
    {
     "name": "stderr",
     "output_type": "stream",
     "text": [
      "Progress Bar:  25%|█████████████████▌                                                    | 1/4 [00:44<02:14, 44.71s/it]"
     ]
    },
    {
     "name": "stdout",
     "output_type": "stream",
     "text": [
      "Epoch 1/2\n",
      "58/58 - 27s - loss: 0.0612 - accuracy: 0.9797 - 27s/epoch - 473ms/step\n",
      "Epoch 2/2\n",
      "58/58 - 20s - loss: 0.0656 - accuracy: 0.9836 - 20s/epoch - 352ms/step\n"
     ]
    },
    {
     "name": "stderr",
     "output_type": "stream",
     "text": [
      "Progress Bar:  50%|███████████████████████████████████                                   | 2/4 [01:36<01:37, 48.85s/it]"
     ]
    },
    {
     "name": "stdout",
     "output_type": "stream",
     "text": [
      "Epoch 1/2\n",
      "61/61 - 25s - loss: 0.0735 - accuracy: 0.9742 - 25s/epoch - 417ms/step\n",
      "Epoch 2/2\n",
      "61/61 - 21s - loss: 0.0421 - accuracy: 0.9881 - 21s/epoch - 345ms/step\n"
     ]
    },
    {
     "name": "stderr",
     "output_type": "stream",
     "text": [
      "Progress Bar:  75%|████████████████████████████████████████████████████▌                 | 3/4 [02:26<00:49, 49.42s/it]"
     ]
    },
    {
     "name": "stdout",
     "output_type": "stream",
     "text": [
      "Epoch 1/2\n",
      "55/55 - 24s - loss: 0.0907 - accuracy: 0.9721 - 24s/epoch - 431ms/step\n",
      "Epoch 2/2\n",
      "55/55 - 19s - loss: 0.0374 - accuracy: 0.9841 - 19s/epoch - 353ms/step\n"
     ]
    },
    {
     "name": "stderr",
     "output_type": "stream",
     "text": [
      "Progress Bar: 100%|██████████████████████████████████████████████████████████████████████| 4/4 [03:13<00:00, 48.32s/it]\n"
     ]
    },
    {
     "name": "stdout",
     "output_type": "stream",
     "text": [
      "32/32 [==============================] - 12s 344ms/step - loss: 0.0120 - accuracy: 0.9960\n",
      "comm_round: 6 | global_acc: 99.600% | global_loss: 0.012021954171359539\n"
     ]
    },
    {
     "name": "stderr",
     "output_type": "stream",
     "text": [
      "Progress Bar:   0%|                                                                              | 0/4 [00:00<?, ?it/s]"
     ]
    },
    {
     "name": "stdout",
     "output_type": "stream",
     "text": [
      "Epoch 1/2\n",
      "50/50 - 22s - loss: 0.0508 - accuracy: 0.9880 - 22s/epoch - 435ms/step\n",
      "Epoch 2/2\n",
      "50/50 - 17s - loss: 0.0496 - accuracy: 0.9868 - 17s/epoch - 349ms/step\n"
     ]
    },
    {
     "name": "stderr",
     "output_type": "stream",
     "text": [
      "Progress Bar:  25%|█████████████████▌                                                    | 1/4 [00:42<02:08, 42.75s/it]"
     ]
    },
    {
     "name": "stdout",
     "output_type": "stream",
     "text": [
      "Epoch 1/2\n",
      "58/58 - 25s - loss: 0.0584 - accuracy: 0.9819 - 25s/epoch - 425ms/step\n",
      "Epoch 2/2\n",
      "58/58 - 21s - loss: 0.0711 - accuracy: 0.9863 - 21s/epoch - 362ms/step\n"
     ]
    },
    {
     "name": "stderr",
     "output_type": "stream",
     "text": [
      "Progress Bar:  50%|███████████████████████████████████                                   | 2/4 [01:33<01:35, 47.74s/it]"
     ]
    },
    {
     "name": "stdout",
     "output_type": "stream",
     "text": [
      "Epoch 1/2\n",
      "55/55 - 24s - loss: 0.0663 - accuracy: 0.9784 - 24s/epoch - 428ms/step\n",
      "Epoch 2/2\n",
      "55/55 - 19s - loss: 0.0367 - accuracy: 0.9858 - 19s/epoch - 342ms/step\n"
     ]
    },
    {
     "name": "stderr",
     "output_type": "stream",
     "text": [
      "Progress Bar:  75%|████████████████████████████████████████████████████▌                 | 3/4 [02:21<00:47, 47.73s/it]"
     ]
    },
    {
     "name": "stdout",
     "output_type": "stream",
     "text": [
      "Epoch 1/2\n",
      "61/61 - 25s - loss: 0.0466 - accuracy: 0.9845 - 25s/epoch - 415ms/step\n",
      "Epoch 2/2\n",
      "61/61 - 22s - loss: 0.1014 - accuracy: 0.9757 - 22s/epoch - 357ms/step\n"
     ]
    },
    {
     "name": "stderr",
     "output_type": "stream",
     "text": [
      "Progress Bar: 100%|██████████████████████████████████████████████████████████████████████| 4/4 [03:12<00:00, 48.09s/it]\n"
     ]
    },
    {
     "name": "stdout",
     "output_type": "stream",
     "text": [
      "32/32 [==============================] - 12s 349ms/step - loss: 0.0167 - accuracy: 0.9940\n",
      "comm_round: 7 | global_acc: 99.400% | global_loss: 0.016668716445565224\n"
     ]
    },
    {
     "name": "stderr",
     "output_type": "stream",
     "text": [
      "Progress Bar:   0%|                                                                              | 0/4 [00:00<?, ?it/s]"
     ]
    },
    {
     "name": "stdout",
     "output_type": "stream",
     "text": [
      "Epoch 1/2\n",
      "50/50 - 22s - loss: 0.0574 - accuracy: 0.9880 - 22s/epoch - 442ms/step\n",
      "Epoch 2/2\n",
      "50/50 - 17s - loss: 0.0416 - accuracy: 0.9905 - 17s/epoch - 346ms/step\n"
     ]
    },
    {
     "name": "stderr",
     "output_type": "stream",
     "text": [
      "Progress Bar:  25%|█████████████████▌                                                    | 1/4 [00:43<02:09, 43.05s/it]"
     ]
    },
    {
     "name": "stdout",
     "output_type": "stream",
     "text": [
      "Epoch 1/2\n",
      "61/61 - 27s - loss: 0.0693 - accuracy: 0.9819 - 27s/epoch - 436ms/step\n",
      "Epoch 2/2\n",
      "61/61 - 23s - loss: 0.0634 - accuracy: 0.9845 - 23s/epoch - 378ms/step\n"
     ]
    },
    {
     "name": "stderr",
     "output_type": "stream",
     "text": [
      "Progress Bar:  50%|███████████████████████████████████                                   | 2/4 [01:36<01:38, 49.06s/it]"
     ]
    },
    {
     "name": "stdout",
     "output_type": "stream",
     "text": [
      "Epoch 1/2\n",
      "58/58 - 26s - loss: 0.0407 - accuracy: 0.9880 - 26s/epoch - 448ms/step\n",
      "Epoch 2/2\n",
      "58/58 - 20s - loss: 0.0692 - accuracy: 0.9874 - 20s/epoch - 350ms/step\n"
     ]
    },
    {
     "name": "stderr",
     "output_type": "stream",
     "text": [
      "Progress Bar:  75%|████████████████████████████████████████████████████▌                 | 3/4 [02:26<00:49, 49.55s/it]"
     ]
    },
    {
     "name": "stdout",
     "output_type": "stream",
     "text": [
      "Epoch 1/2\n",
      "55/55 - 24s - loss: 0.0464 - accuracy: 0.9812 - 24s/epoch - 428ms/step\n",
      "Epoch 2/2\n",
      "55/55 - 19s - loss: 0.0667 - accuracy: 0.9863 - 19s/epoch - 352ms/step\n"
     ]
    },
    {
     "name": "stderr",
     "output_type": "stream",
     "text": [
      "Progress Bar: 100%|██████████████████████████████████████████████████████████████████████| 4/4 [03:14<00:00, 48.70s/it]\n"
     ]
    },
    {
     "name": "stdout",
     "output_type": "stream",
     "text": [
      "32/32 [==============================] - 12s 346ms/step - loss: 0.0130 - accuracy: 0.9960\n",
      "comm_round: 8 | global_acc: 99.600% | global_loss: 0.012992185540497303\n"
     ]
    },
    {
     "name": "stderr",
     "output_type": "stream",
     "text": [
      "Progress Bar:   0%|                                                                              | 0/4 [00:00<?, ?it/s]"
     ]
    },
    {
     "name": "stdout",
     "output_type": "stream",
     "text": [
      "Epoch 1/2\n",
      "61/61 - 25s - loss: 0.0586 - accuracy: 0.9819 - 25s/epoch - 416ms/step\n",
      "Epoch 2/2\n",
      "61/61 - 21s - loss: 0.0450 - accuracy: 0.9855 - 21s/epoch - 345ms/step\n"
     ]
    },
    {
     "name": "stderr",
     "output_type": "stream",
     "text": [
      "Progress Bar:  25%|█████████████████▌                                                    | 1/4 [00:50<02:30, 50.02s/it]"
     ]
    },
    {
     "name": "stdout",
     "output_type": "stream",
     "text": [
      "Epoch 1/2\n",
      "58/58 - 24s - loss: 0.0525 - accuracy: 0.9841 - 24s/epoch - 416ms/step\n",
      "Epoch 2/2\n",
      "58/58 - 20s - loss: 0.0883 - accuracy: 0.9781 - 20s/epoch - 341ms/step\n"
     ]
    },
    {
     "name": "stderr",
     "output_type": "stream",
     "text": [
      "Progress Bar:  50%|███████████████████████████████████                                   | 2/4 [01:37<01:37, 48.50s/it]"
     ]
    },
    {
     "name": "stdout",
     "output_type": "stream",
     "text": [
      "Epoch 1/2\n",
      "55/55 - 23s - loss: 0.0486 - accuracy: 0.9863 - 23s/epoch - 422ms/step\n",
      "Epoch 2/2\n",
      "55/55 - 19s - loss: 0.0631 - accuracy: 0.9812 - 19s/epoch - 344ms/step\n"
     ]
    },
    {
     "name": "stderr",
     "output_type": "stream",
     "text": [
      "Progress Bar:  75%|████████████████████████████████████████████████████▌                 | 3/4 [02:23<00:47, 47.23s/it]"
     ]
    },
    {
     "name": "stdout",
     "output_type": "stream",
     "text": [
      "Epoch 1/2\n",
      "50/50 - 21s - loss: 0.0330 - accuracy: 0.9912 - 21s/epoch - 428ms/step\n",
      "Epoch 2/2\n",
      "50/50 - 17s - loss: 0.0850 - accuracy: 0.9792 - 17s/epoch - 343ms/step\n"
     ]
    },
    {
     "name": "stderr",
     "output_type": "stream",
     "text": [
      "Progress Bar: 100%|██████████████████████████████████████████████████████████████████████| 4/4 [03:06<00:00, 46.65s/it]\n"
     ]
    },
    {
     "name": "stdout",
     "output_type": "stream",
     "text": [
      "32/32 [==============================] - 11s 340ms/step - loss: 0.0090 - accuracy: 0.9960\n",
      "comm_round: 9 | global_acc: 99.600% | global_loss: 0.008983705192804337\n"
     ]
    },
    {
     "name": "stderr",
     "output_type": "stream",
     "text": [
      "Progress Bar:   0%|                                                                              | 0/4 [00:00<?, ?it/s]"
     ]
    },
    {
     "name": "stdout",
     "output_type": "stream",
     "text": [
      "Epoch 1/2\n",
      "50/50 - 22s - loss: 0.0490 - accuracy: 0.9887 - 22s/epoch - 437ms/step\n",
      "Epoch 2/2\n",
      "50/50 - 17s - loss: 0.0733 - accuracy: 0.9817 - 17s/epoch - 349ms/step\n"
     ]
    },
    {
     "name": "stderr",
     "output_type": "stream",
     "text": [
      "Progress Bar:  25%|█████████████████▌                                                    | 1/4 [00:42<02:08, 42.80s/it]"
     ]
    },
    {
     "name": "stdout",
     "output_type": "stream",
     "text": [
      "Epoch 1/2\n",
      "58/58 - 25s - loss: 0.0386 - accuracy: 0.9885 - 25s/epoch - 427ms/step\n",
      "Epoch 2/2\n",
      "58/58 - 21s - loss: 0.1146 - accuracy: 0.9797 - 21s/epoch - 354ms/step\n"
     ]
    },
    {
     "name": "stderr",
     "output_type": "stream",
     "text": [
      "Progress Bar:  50%|███████████████████████████████████                                   | 2/4 [01:33<01:35, 47.58s/it]"
     ]
    },
    {
     "name": "stdout",
     "output_type": "stream",
     "text": [
      "Epoch 1/2\n",
      "61/61 - 25s - loss: 0.0546 - accuracy: 0.9850 - 25s/epoch - 415ms/step\n",
      "Epoch 2/2\n",
      "61/61 - 21s - loss: 0.0270 - accuracy: 0.9907 - 21s/epoch - 346ms/step\n"
     ]
    },
    {
     "name": "stderr",
     "output_type": "stream",
     "text": [
      "Progress Bar:  75%|████████████████████████████████████████████████████▌                 | 3/4 [02:23<00:48, 48.68s/it]"
     ]
    },
    {
     "name": "stdout",
     "output_type": "stream",
     "text": [
      "Epoch 1/2\n",
      "55/55 - 24s - loss: 0.0345 - accuracy: 0.9915 - 24s/epoch - 431ms/step\n",
      "Epoch 2/2\n",
      "55/55 - 19s - loss: 0.1409 - accuracy: 0.9699 - 19s/epoch - 354ms/step\n"
     ]
    },
    {
     "name": "stderr",
     "output_type": "stream",
     "text": [
      "Progress Bar: 100%|██████████████████████████████████████████████████████████████████████| 4/4 [03:10<00:00, 47.63s/it]\n"
     ]
    },
    {
     "name": "stdout",
     "output_type": "stream",
     "text": [
      "32/32 [==============================] - 12s 343ms/step - loss: 0.0130 - accuracy: 0.9970\n",
      "comm_round: 10 | global_acc: 99.700% | global_loss: 0.01303248293697834\n"
     ]
    },
    {
     "name": "stderr",
     "output_type": "stream",
     "text": [
      "Progress Bar:   0%|                                                                              | 0/4 [00:00<?, ?it/s]"
     ]
    },
    {
     "name": "stdout",
     "output_type": "stream",
     "text": [
      "Epoch 1/2\n",
      "58/58 - 25s - loss: 0.0297 - accuracy: 0.9907 - 25s/epoch - 435ms/step\n",
      "Epoch 2/2\n",
      "58/58 - 20s - loss: 0.0976 - accuracy: 0.9830 - 20s/epoch - 348ms/step\n"
     ]
    },
    {
     "name": "stderr",
     "output_type": "stream",
     "text": [
      "Progress Bar:  25%|█████████████████▌                                                    | 1/4 [00:49<02:27, 49.03s/it]"
     ]
    },
    {
     "name": "stdout",
     "output_type": "stream",
     "text": [
      "Epoch 1/2\n",
      "50/50 - 22s - loss: 0.0745 - accuracy: 0.9823 - 22s/epoch - 439ms/step\n",
      "Epoch 2/2\n",
      "50/50 - 18s - loss: 0.0368 - accuracy: 0.9924 - 18s/epoch - 350ms/step\n"
     ]
    },
    {
     "name": "stderr",
     "output_type": "stream",
     "text": [
      "Progress Bar:  50%|███████████████████████████████████                                   | 2/4 [01:32<01:31, 45.52s/it]"
     ]
    },
    {
     "name": "stdout",
     "output_type": "stream",
     "text": [
      "Epoch 1/2\n",
      "61/61 - 26s - loss: 0.0393 - accuracy: 0.9897 - 26s/epoch - 432ms/step\n",
      "Epoch 2/2\n",
      "61/61 - 21s - loss: 0.0436 - accuracy: 0.9840 - 21s/epoch - 338ms/step\n"
     ]
    },
    {
     "name": "stderr",
     "output_type": "stream",
     "text": [
      "Progress Bar:  75%|████████████████████████████████████████████████████▌                 | 3/4 [02:23<00:48, 48.40s/it]"
     ]
    },
    {
     "name": "stdout",
     "output_type": "stream",
     "text": [
      "Epoch 1/2\n",
      "55/55 - 24s - loss: 0.0303 - accuracy: 0.9920 - 24s/epoch - 429ms/step\n",
      "Epoch 2/2\n",
      "55/55 - 19s - loss: 0.0694 - accuracy: 0.9824 - 19s/epoch - 347ms/step\n"
     ]
    },
    {
     "name": "stderr",
     "output_type": "stream",
     "text": [
      "Progress Bar: 100%|██████████████████████████████████████████████████████████████████████| 4/4 [03:10<00:00, 47.55s/it]\n"
     ]
    },
    {
     "name": "stdout",
     "output_type": "stream",
     "text": [
      "32/32 [==============================] - 12s 344ms/step - loss: 0.0088 - accuracy: 0.9990\n",
      "comm_round: 11 | global_acc: 99.900% | global_loss: 0.008796012960374355\n"
     ]
    },
    {
     "name": "stderr",
     "output_type": "stream",
     "text": [
      "Progress Bar:   0%|                                                                              | 0/4 [00:00<?, ?it/s]"
     ]
    },
    {
     "name": "stdout",
     "output_type": "stream",
     "text": [
      "Epoch 1/2\n",
      "55/55 - 24s - loss: 0.0645 - accuracy: 0.9835 - 24s/epoch - 433ms/step\n",
      "Epoch 2/2\n",
      "55/55 - 20s - loss: 0.0466 - accuracy: 0.9892 - 20s/epoch - 358ms/step\n"
     ]
    },
    {
     "name": "stderr",
     "output_type": "stream",
     "text": [
      "Progress Bar:  25%|█████████████████▌                                                    | 1/4 [00:49<02:28, 49.42s/it]"
     ]
    },
    {
     "name": "stdout",
     "output_type": "stream",
     "text": [
      "Epoch 1/2\n",
      "58/58 - 24s - loss: 0.0368 - accuracy: 0.9940 - 24s/epoch - 421ms/step\n",
      "Epoch 2/2\n",
      "58/58 - 20s - loss: 0.0361 - accuracy: 0.9918 - 20s/epoch - 350ms/step\n"
     ]
    },
    {
     "name": "stderr",
     "output_type": "stream",
     "text": [
      "Progress Bar:  50%|███████████████████████████████████                                   | 2/4 [01:37<01:37, 48.81s/it]"
     ]
    },
    {
     "name": "stdout",
     "output_type": "stream",
     "text": [
      "Epoch 1/2\n",
      "50/50 - 22s - loss: 0.0254 - accuracy: 0.9924 - 22s/epoch - 432ms/step\n",
      "Epoch 2/2\n",
      "50/50 - 17s - loss: 0.0448 - accuracy: 0.9874 - 17s/epoch - 345ms/step\n"
     ]
    },
    {
     "name": "stderr",
     "output_type": "stream",
     "text": [
      "Progress Bar:  75%|████████████████████████████████████████████████████▌                 | 3/4 [02:20<00:45, 45.88s/it]"
     ]
    },
    {
     "name": "stdout",
     "output_type": "stream",
     "text": [
      "Epoch 1/2\n",
      "61/61 - 26s - loss: 0.0267 - accuracy: 0.9943 - 26s/epoch - 420ms/step\n",
      "Epoch 2/2\n",
      "61/61 - 22s - loss: 0.0875 - accuracy: 0.9809 - 22s/epoch - 355ms/step\n"
     ]
    },
    {
     "name": "stderr",
     "output_type": "stream",
     "text": [
      "Progress Bar: 100%|██████████████████████████████████████████████████████████████████████| 4/4 [03:10<00:00, 47.75s/it]\n"
     ]
    },
    {
     "name": "stdout",
     "output_type": "stream",
     "text": [
      "32/32 [==============================] - 12s 344ms/step - loss: 0.0074 - accuracy: 0.9980\n",
      "comm_round: 12 | global_acc: 99.800% | global_loss: 0.007366026286035776\n"
     ]
    },
    {
     "name": "stderr",
     "output_type": "stream",
     "text": [
      "Progress Bar:   0%|                                                                              | 0/4 [00:00<?, ?it/s]"
     ]
    },
    {
     "name": "stdout",
     "output_type": "stream",
     "text": [
      "Epoch 1/2\n",
      "55/55 - 23s - loss: 0.0278 - accuracy: 0.9937 - 23s/epoch - 427ms/step\n",
      "Epoch 2/2\n",
      "55/55 - 19s - loss: 0.0604 - accuracy: 0.9829 - 19s/epoch - 349ms/step\n"
     ]
    },
    {
     "name": "stderr",
     "output_type": "stream",
     "text": [
      "Progress Bar:  25%|█████████████████▌                                                    | 1/4 [00:46<02:18, 46.24s/it]"
     ]
    },
    {
     "name": "stdout",
     "output_type": "stream",
     "text": [
      "Epoch 1/2\n",
      "58/58 - 24s - loss: 0.0226 - accuracy: 0.9940 - 24s/epoch - 418ms/step\n",
      "Epoch 2/2\n",
      "58/58 - 20s - loss: 0.0891 - accuracy: 0.9819 - 20s/epoch - 343ms/step\n"
     ]
    },
    {
     "name": "stderr",
     "output_type": "stream",
     "text": [
      "Progress Bar:  50%|███████████████████████████████████                                   | 2/4 [01:34<01:34, 47.14s/it]"
     ]
    },
    {
     "name": "stdout",
     "output_type": "stream",
     "text": [
      "Epoch 1/2\n",
      "50/50 - 22s - loss: 0.0239 - accuracy: 0.9937 - 22s/epoch - 442ms/step\n",
      "Epoch 2/2\n",
      "50/50 - 16s - loss: 0.0993 - accuracy: 0.9830 - 16s/epoch - 324ms/step\n"
     ]
    },
    {
     "name": "stderr",
     "output_type": "stream",
     "text": [
      "Progress Bar:  75%|████████████████████████████████████████████████████▌                 | 3/4 [02:15<00:44, 44.78s/it]"
     ]
    },
    {
     "name": "stdout",
     "output_type": "stream",
     "text": [
      "Epoch 1/2\n",
      "61/61 - 32s - loss: 0.0278 - accuracy: 0.9928 - 32s/epoch - 522ms/step\n",
      "Epoch 2/2\n",
      "61/61 - 21s - loss: 0.0459 - accuracy: 0.9917 - 21s/epoch - 352ms/step\n"
     ]
    },
    {
     "name": "stderr",
     "output_type": "stream",
     "text": [
      "Progress Bar: 100%|██████████████████████████████████████████████████████████████████████| 4/4 [03:13<00:00, 48.33s/it]\n"
     ]
    },
    {
     "name": "stdout",
     "output_type": "stream",
     "text": [
      "32/32 [==============================] - 12s 354ms/step - loss: 0.0108 - accuracy: 0.9970\n",
      "comm_round: 13 | global_acc: 99.700% | global_loss: 0.010843231342732906\n"
     ]
    },
    {
     "name": "stderr",
     "output_type": "stream",
     "text": [
      "Progress Bar:   0%|                                                                              | 0/4 [00:00<?, ?it/s]"
     ]
    },
    {
     "name": "stdout",
     "output_type": "stream",
     "text": [
      "Epoch 1/2\n",
      "58/58 - 24s - loss: 0.0205 - accuracy: 0.9978 - 24s/epoch - 421ms/step\n",
      "Epoch 2/2\n",
      "58/58 - 20s - loss: 0.0888 - accuracy: 0.9852 - 20s/epoch - 350ms/step\n"
     ]
    },
    {
     "name": "stderr",
     "output_type": "stream",
     "text": [
      "Progress Bar:  25%|█████████████████▌                                                    | 1/4 [00:48<02:24, 48.24s/it]"
     ]
    },
    {
     "name": "stdout",
     "output_type": "stream",
     "text": [
      "Epoch 1/2\n",
      "61/61 - 26s - loss: 0.0296 - accuracy: 0.9928 - 26s/epoch - 424ms/step\n",
      "Epoch 2/2\n",
      "61/61 - 21s - loss: 0.0588 - accuracy: 0.9886 - 21s/epoch - 352ms/step\n"
     ]
    },
    {
     "name": "stderr",
     "output_type": "stream",
     "text": [
      "Progress Bar:  50%|███████████████████████████████████                                   | 2/4 [01:39<01:39, 49.79s/it]"
     ]
    },
    {
     "name": "stdout",
     "output_type": "stream",
     "text": [
      "Epoch 1/2\n",
      "50/50 - 22s - loss: 0.0219 - accuracy: 0.9968 - 22s/epoch - 432ms/step\n",
      "Epoch 2/2\n",
      "50/50 - 17s - loss: 0.0469 - accuracy: 0.9893 - 17s/epoch - 348ms/step\n"
     ]
    },
    {
     "name": "stderr",
     "output_type": "stream",
     "text": [
      "Progress Bar:  75%|████████████████████████████████████████████████████▌                 | 3/4 [02:21<00:46, 46.48s/it]"
     ]
    },
    {
     "name": "stdout",
     "output_type": "stream",
     "text": [
      "Epoch 1/2\n",
      "55/55 - 23s - loss: 0.0140 - accuracy: 0.9949 - 23s/epoch - 427ms/step\n",
      "Epoch 2/2\n",
      "55/55 - 19s - loss: 0.1248 - accuracy: 0.9750 - 19s/epoch - 349ms/step\n"
     ]
    },
    {
     "name": "stderr",
     "output_type": "stream",
     "text": [
      "Progress Bar: 100%|██████████████████████████████████████████████████████████████████████| 4/4 [03:07<00:00, 46.99s/it]\n"
     ]
    },
    {
     "name": "stdout",
     "output_type": "stream",
     "text": [
      "32/32 [==============================] - 11s 338ms/step - loss: 0.0070 - accuracy: 0.9980\n",
      "comm_round: 14 | global_acc: 99.800% | global_loss: 0.0070277913473546505\n"
     ]
    },
    {
     "name": "stderr",
     "output_type": "stream",
     "text": [
      "Progress Bar:   0%|                                                                              | 0/4 [00:00<?, ?it/s]"
     ]
    },
    {
     "name": "stdout",
     "output_type": "stream",
     "text": [
      "Epoch 1/2\n",
      "58/58 - 24s - loss: 0.0150 - accuracy: 0.9956 - 24s/epoch - 418ms/step\n",
      "Epoch 2/2\n",
      "58/58 - 22s - loss: 0.0925 - accuracy: 0.9803 - 22s/epoch - 372ms/step\n"
     ]
    },
    {
     "name": "stderr",
     "output_type": "stream",
     "text": [
      "Progress Bar:  25%|█████████████████▌                                                    | 1/4 [00:49<02:28, 49.41s/it]"
     ]
    },
    {
     "name": "stdout",
     "output_type": "stream",
     "text": [
      "Epoch 1/2\n",
      "55/55 - 25s - loss: 0.0183 - accuracy: 0.9966 - 25s/epoch - 455ms/step\n",
      "Epoch 2/2\n",
      "55/55 - 21s - loss: 0.0631 - accuracy: 0.9841 - 21s/epoch - 384ms/step\n"
     ]
    },
    {
     "name": "stderr",
     "output_type": "stream",
     "text": [
      "Progress Bar:  50%|███████████████████████████████████                                   | 2/4 [01:39<01:39, 49.62s/it]"
     ]
    },
    {
     "name": "stdout",
     "output_type": "stream",
     "text": [
      "Epoch 1/2\n",
      "50/50 - 22s - loss: 0.0259 - accuracy: 0.9937 - 22s/epoch - 439ms/step\n",
      "Epoch 2/2\n",
      "50/50 - 18s - loss: 0.0695 - accuracy: 0.9861 - 18s/epoch - 361ms/step\n"
     ]
    },
    {
     "name": "stderr",
     "output_type": "stream",
     "text": [
      "Progress Bar:  75%|████████████████████████████████████████████████████▌                 | 3/4 [02:22<00:46, 46.95s/it]"
     ]
    },
    {
     "name": "stdout",
     "output_type": "stream",
     "text": [
      "Epoch 1/2\n",
      "61/61 - 27s - loss: 0.0309 - accuracy: 0.9933 - 27s/epoch - 447ms/step\n",
      "Epoch 2/2\n",
      "61/61 - 23s - loss: 0.0400 - accuracy: 0.9902 - 23s/epoch - 372ms/step\n"
     ]
    },
    {
     "name": "stderr",
     "output_type": "stream",
     "text": [
      "Progress Bar: 100%|██████████████████████████████████████████████████████████████████████| 4/4 [03:16<00:00, 49.24s/it]\n"
     ]
    },
    {
     "name": "stdout",
     "output_type": "stream",
     "text": [
      "32/32 [==============================] - 12s 343ms/step - loss: 0.0213 - accuracy: 0.9970\n",
      "comm_round: 15 | global_acc: 99.700% | global_loss: 0.021252546459436417\n"
     ]
    },
    {
     "name": "stderr",
     "output_type": "stream",
     "text": [
      "Progress Bar:   0%|                                                                              | 0/4 [00:00<?, ?it/s]"
     ]
    },
    {
     "name": "stdout",
     "output_type": "stream",
     "text": [
      "Epoch 1/2\n",
      "58/58 - 25s - loss: 0.0313 - accuracy: 0.9945 - 25s/epoch - 440ms/step\n",
      "Epoch 2/2\n",
      "58/58 - 20s - loss: 0.0755 - accuracy: 0.9819 - 20s/epoch - 349ms/step\n"
     ]
    },
    {
     "name": "stderr",
     "output_type": "stream",
     "text": [
      "Progress Bar:  25%|█████████████████▌                                                    | 1/4 [00:53<02:39, 53.27s/it]"
     ]
    },
    {
     "name": "stdout",
     "output_type": "stream",
     "text": [
      "Epoch 1/2\n",
      "55/55 - 24s - loss: 0.0105 - accuracy: 0.9966 - 24s/epoch - 433ms/step\n",
      "Epoch 2/2\n",
      "55/55 - 19s - loss: 0.0718 - accuracy: 0.9841 - 19s/epoch - 354ms/step\n"
     ]
    },
    {
     "name": "stderr",
     "output_type": "stream",
     "text": [
      "Progress Bar:  50%|███████████████████████████████████                                   | 2/4 [01:40<01:38, 49.49s/it]"
     ]
    },
    {
     "name": "stdout",
     "output_type": "stream",
     "text": [
      "Epoch 1/2\n",
      "61/61 - 26s - loss: 0.0192 - accuracy: 0.9959 - 26s/epoch - 422ms/step\n",
      "Epoch 2/2\n",
      "61/61 - 21s - loss: 0.1023 - accuracy: 0.9845 - 21s/epoch - 348ms/step\n"
     ]
    },
    {
     "name": "stderr",
     "output_type": "stream",
     "text": [
      "Progress Bar:  75%|████████████████████████████████████████████████████▌                 | 3/4 [02:30<00:50, 50.00s/it]"
     ]
    },
    {
     "name": "stdout",
     "output_type": "stream",
     "text": [
      "Epoch 1/2\n",
      "50/50 - 22s - loss: 0.0290 - accuracy: 0.9956 - 22s/epoch - 432ms/step\n",
      "Epoch 2/2\n",
      "50/50 - 17s - loss: 0.0146 - accuracy: 0.9962 - 17s/epoch - 346ms/step\n"
     ]
    },
    {
     "name": "stderr",
     "output_type": "stream",
     "text": [
      "Progress Bar: 100%|██████████████████████████████████████████████████████████████████████| 4/4 [03:13<00:00, 48.29s/it]\n"
     ]
    },
    {
     "name": "stdout",
     "output_type": "stream",
     "text": [
      "32/32 [==============================] - 11s 340ms/step - loss: 0.0092 - accuracy: 0.9980\n",
      "comm_round: 16 | global_acc: 99.800% | global_loss: 0.009221409447491169\n"
     ]
    },
    {
     "name": "stderr",
     "output_type": "stream",
     "text": [
      "Progress Bar:   0%|                                                                              | 0/4 [00:00<?, ?it/s]"
     ]
    },
    {
     "name": "stdout",
     "output_type": "stream",
     "text": [
      "Epoch 1/2\n",
      "55/55 - 24s - loss: 0.0172 - accuracy: 0.9954 - 24s/epoch - 440ms/step\n",
      "Epoch 2/2\n",
      "55/55 - 20s - loss: 0.0663 - accuracy: 0.9869 - 20s/epoch - 362ms/step\n"
     ]
    },
    {
     "name": "stderr",
     "output_type": "stream",
     "text": [
      "Progress Bar:  25%|█████████████████▌                                                    | 1/4 [00:47<02:22, 47.67s/it]"
     ]
    },
    {
     "name": "stdout",
     "output_type": "stream",
     "text": [
      "Epoch 1/2\n",
      "50/50 - 22s - loss: 0.0225 - accuracy: 0.9924 - 22s/epoch - 441ms/step\n",
      "Epoch 2/2\n",
      "50/50 - 18s - loss: 0.0637 - accuracy: 0.9912 - 18s/epoch - 355ms/step\n"
     ]
    },
    {
     "name": "stderr",
     "output_type": "stream",
     "text": [
      "Progress Bar:  50%|███████████████████████████████████                                   | 2/4 [01:31<01:30, 45.18s/it]"
     ]
    },
    {
     "name": "stdout",
     "output_type": "stream",
     "text": [
      "Epoch 1/2\n",
      "61/61 - 26s - loss: 0.0416 - accuracy: 0.9928 - 26s/epoch - 421ms/step\n",
      "Epoch 2/2\n",
      "61/61 - 22s - loss: 0.0389 - accuracy: 0.9886 - 22s/epoch - 353ms/step\n"
     ]
    },
    {
     "name": "stderr",
     "output_type": "stream",
     "text": [
      "Progress Bar:  75%|████████████████████████████████████████████████████▌                 | 3/4 [02:22<00:47, 47.84s/it]"
     ]
    },
    {
     "name": "stdout",
     "output_type": "stream",
     "text": [
      "Epoch 1/2\n",
      "58/58 - 25s - loss: 0.0073 - accuracy: 0.9984 - 25s/epoch - 426ms/step\n",
      "Epoch 2/2\n",
      "58/58 - 20s - loss: 0.0940 - accuracy: 0.9825 - 20s/epoch - 351ms/step\n"
     ]
    },
    {
     "name": "stderr",
     "output_type": "stream",
     "text": [
      "Progress Bar: 100%|██████████████████████████████████████████████████████████████████████| 4/4 [03:11<00:00, 47.76s/it]\n"
     ]
    },
    {
     "name": "stdout",
     "output_type": "stream",
     "text": [
      "32/32 [==============================] - 12s 353ms/step - loss: 0.0027 - accuracy: 0.9980\n",
      "comm_round: 17 | global_acc: 99.800% | global_loss: 0.0026534192729741335\n"
     ]
    },
    {
     "name": "stderr",
     "output_type": "stream",
     "text": [
      "Progress Bar:   0%|                                                                              | 0/4 [00:00<?, ?it/s]"
     ]
    },
    {
     "name": "stdout",
     "output_type": "stream",
     "text": [
      "Epoch 1/2\n",
      "58/58 - 25s - loss: 0.0021 - accuracy: 0.9995 - 25s/epoch - 426ms/step\n",
      "Epoch 2/2\n",
      "58/58 - 20s - loss: 0.0852 - accuracy: 0.9896 - 20s/epoch - 350ms/step\n"
     ]
    },
    {
     "name": "stderr",
     "output_type": "stream",
     "text": [
      "Progress Bar:  25%|█████████████████▌                                                    | 1/4 [00:48<02:25, 48.65s/it]"
     ]
    },
    {
     "name": "stdout",
     "output_type": "stream",
     "text": [
      "Epoch 1/2\n",
      "55/55 - 31s - loss: 0.0190 - accuracy: 0.9943 - 31s/epoch - 566ms/step\n",
      "Epoch 2/2\n",
      "55/55 - 20s - loss: 0.0346 - accuracy: 0.9932 - 20s/epoch - 363ms/step\n"
     ]
    },
    {
     "name": "stderr",
     "output_type": "stream",
     "text": [
      "Progress Bar:  50%|███████████████████████████████████                                   | 2/4 [01:43<01:44, 52.21s/it]"
     ]
    },
    {
     "name": "stdout",
     "output_type": "stream",
     "text": [
      "Epoch 1/2\n",
      "50/50 - 22s - loss: 0.0054 - accuracy: 0.9987 - 22s/epoch - 443ms/step\n",
      "Epoch 2/2\n",
      "50/50 - 18s - loss: 0.0501 - accuracy: 0.9905 - 18s/epoch - 362ms/step\n"
     ]
    },
    {
     "name": "stderr",
     "output_type": "stream",
     "text": [
      "Progress Bar:  75%|████████████████████████████████████████████████████▌                 | 3/4 [02:27<00:48, 48.37s/it]"
     ]
    },
    {
     "name": "stdout",
     "output_type": "stream",
     "text": [
      "Epoch 1/2\n",
      "61/61 - 27s - loss: 0.0075 - accuracy: 0.9979 - 27s/epoch - 448ms/step\n",
      "Epoch 2/2\n",
      "61/61 - 22s - loss: 0.0793 - accuracy: 0.9866 - 22s/epoch - 361ms/step\n"
     ]
    },
    {
     "name": "stderr",
     "output_type": "stream",
     "text": [
      "Progress Bar: 100%|██████████████████████████████████████████████████████████████████████| 4/4 [03:20<00:00, 50.04s/it]\n"
     ]
    },
    {
     "name": "stdout",
     "output_type": "stream",
     "text": [
      "32/32 [==============================] - 12s 354ms/step - loss: 0.0074 - accuracy: 0.9980\n",
      "comm_round: 18 | global_acc: 99.800% | global_loss: 0.007372576743364334\n"
     ]
    },
    {
     "name": "stderr",
     "output_type": "stream",
     "text": [
      "Progress Bar:   0%|                                                                              | 0/4 [00:00<?, ?it/s]"
     ]
    },
    {
     "name": "stdout",
     "output_type": "stream",
     "text": [
      "Epoch 1/2\n",
      "50/50 - 22s - loss: 0.0194 - accuracy: 0.9956 - 22s/epoch - 443ms/step\n",
      "Epoch 2/2\n",
      "50/50 - 18s - loss: 0.0692 - accuracy: 0.9880 - 18s/epoch - 355ms/step\n"
     ]
    },
    {
     "name": "stderr",
     "output_type": "stream",
     "text": [
      "Progress Bar:  25%|█████████████████▌                                                    | 1/4 [00:43<02:10, 43.44s/it]"
     ]
    },
    {
     "name": "stdout",
     "output_type": "stream",
     "text": [
      "Epoch 1/2\n",
      "58/58 - 25s - loss: 0.0112 - accuracy: 0.9978 - 25s/epoch - 424ms/step\n",
      "Epoch 2/2\n",
      "58/58 - 20s - loss: 0.0733 - accuracy: 0.9858 - 20s/epoch - 351ms/step\n"
     ]
    },
    {
     "name": "stderr",
     "output_type": "stream",
     "text": [
      "Progress Bar:  50%|███████████████████████████████████                                   | 2/4 [01:31<01:32, 46.43s/it]"
     ]
    },
    {
     "name": "stdout",
     "output_type": "stream",
     "text": [
      "Epoch 1/2\n",
      "55/55 - 23s - loss: 0.0092 - accuracy: 0.9983 - 23s/epoch - 425ms/step\n",
      "Epoch 2/2\n",
      "55/55 - 19s - loss: 0.1538 - accuracy: 0.9755 - 19s/epoch - 350ms/step\n"
     ]
    },
    {
     "name": "stderr",
     "output_type": "stream",
     "text": [
      "Progress Bar:  75%|████████████████████████████████████████████████████▌                 | 3/4 [02:18<00:46, 46.34s/it]"
     ]
    },
    {
     "name": "stdout",
     "output_type": "stream",
     "text": [
      "Epoch 1/2\n",
      "61/61 - 25s - loss: 0.0221 - accuracy: 0.9954 - 25s/epoch - 416ms/step\n",
      "Epoch 2/2\n",
      "61/61 - 21s - loss: 0.0315 - accuracy: 0.9943 - 21s/epoch - 347ms/step\n"
     ]
    },
    {
     "name": "stderr",
     "output_type": "stream",
     "text": [
      "Progress Bar: 100%|██████████████████████████████████████████████████████████████████████| 4/4 [03:08<00:00, 47.11s/it]\n"
     ]
    },
    {
     "name": "stdout",
     "output_type": "stream",
     "text": [
      "32/32 [==============================] - 12s 369ms/step - loss: 0.0069 - accuracy: 0.9970\n",
      "comm_round: 19 | global_acc: 99.700% | global_loss: 0.006862378679215908\n"
     ]
    },
    {
     "name": "stderr",
     "output_type": "stream",
     "text": [
      "Progress Bar:   0%|                                                                              | 0/4 [00:00<?, ?it/s]"
     ]
    },
    {
     "name": "stdout",
     "output_type": "stream",
     "text": [
      "Epoch 1/2\n",
      "58/58 - 25s - loss: 0.0015 - accuracy: 0.9995 - 25s/epoch - 426ms/step\n",
      "Epoch 2/2\n",
      "58/58 - 22s - loss: 0.0928 - accuracy: 0.9891 - 22s/epoch - 378ms/step\n"
     ]
    },
    {
     "name": "stderr",
     "output_type": "stream",
     "text": [
      "Progress Bar:  25%|█████████████████▌                                                    | 1/4 [00:50<02:30, 50.28s/it]"
     ]
    },
    {
     "name": "stdout",
     "output_type": "stream",
     "text": [
      "Epoch 1/2\n",
      "61/61 - 27s - loss: 0.0323 - accuracy: 0.9933 - 27s/epoch - 438ms/step\n",
      "Epoch 2/2\n",
      "61/61 - 22s - loss: 0.0037 - accuracy: 0.9995 - 22s/epoch - 367ms/step\n"
     ]
    },
    {
     "name": "stderr",
     "output_type": "stream",
     "text": [
      "Progress Bar:  50%|███████████████████████████████████                                   | 2/4 [01:43<01:43, 51.88s/it]"
     ]
    },
    {
     "name": "stdout",
     "output_type": "stream",
     "text": [
      "Epoch 1/2\n",
      "55/55 - 24s - loss: 0.0094 - accuracy: 0.9977 - 24s/epoch - 445ms/step\n",
      "Epoch 2/2\n",
      "55/55 - 19s - loss: 0.0472 - accuracy: 0.9858 - 19s/epoch - 352ms/step\n"
     ]
    },
    {
     "name": "stderr",
     "output_type": "stream",
     "text": [
      "Progress Bar:  75%|████████████████████████████████████████████████████▌                 | 3/4 [02:31<00:49, 50.00s/it]"
     ]
    },
    {
     "name": "stdout",
     "output_type": "stream",
     "text": [
      "Epoch 1/2\n",
      "50/50 - 22s - loss: 0.0126 - accuracy: 0.9987 - 22s/epoch - 436ms/step\n",
      "Epoch 2/2\n",
      "50/50 - 17s - loss: 0.0961 - accuracy: 0.9849 - 17s/epoch - 348ms/step\n"
     ]
    },
    {
     "name": "stderr",
     "output_type": "stream",
     "text": [
      "Progress Bar: 100%|██████████████████████████████████████████████████████████████████████| 4/4 [03:13<00:00, 48.50s/it]\n"
     ]
    },
    {
     "name": "stdout",
     "output_type": "stream",
     "text": [
      "32/32 [==============================] - 12s 342ms/step - loss: 0.0086 - accuracy: 0.9980\n",
      "comm_round: 20 | global_acc: 99.800% | global_loss: 0.008607219904661179\n"
     ]
    },
    {
     "name": "stderr",
     "output_type": "stream",
     "text": [
      "Progress Bar:   0%|                                                                              | 0/4 [00:00<?, ?it/s]"
     ]
    },
    {
     "name": "stdout",
     "output_type": "stream",
     "text": [
      "Epoch 1/2\n",
      "58/58 - 37s - loss: 0.0069 - accuracy: 0.9984 - 37s/epoch - 633ms/step\n",
      "Epoch 2/2\n",
      "58/58 - 21s - loss: 0.0370 - accuracy: 0.9923 - 21s/epoch - 355ms/step\n"
     ]
    },
    {
     "name": "stderr",
     "output_type": "stream",
     "text": [
      "Progress Bar:  25%|█████████████████▌                                                    | 1/4 [01:00<03:02, 60.96s/it]"
     ]
    },
    {
     "name": "stdout",
     "output_type": "stream",
     "text": [
      "Epoch 1/2\n",
      "61/61 - 27s - loss: 0.0052 - accuracy: 0.9985 - 27s/epoch - 442ms/step\n",
      "Epoch 2/2\n",
      "61/61 - 21s - loss: 0.1087 - accuracy: 0.9840 - 21s/epoch - 337ms/step\n"
     ]
    },
    {
     "name": "stderr",
     "output_type": "stream",
     "text": [
      "Progress Bar:  50%|███████████████████████████████████                                   | 2/4 [01:52<01:50, 55.21s/it]"
     ]
    },
    {
     "name": "stdout",
     "output_type": "stream",
     "text": [
      "Epoch 1/2\n",
      "55/55 - 22s - loss: 0.0097 - accuracy: 0.9977 - 22s/epoch - 393ms/step\n",
      "Epoch 2/2\n",
      "55/55 - 17s - loss: 0.0572 - accuracy: 0.9920 - 17s/epoch - 314ms/step\n"
     ]
    },
    {
     "name": "stderr",
     "output_type": "stream",
     "text": [
      "Progress Bar:  75%|████████████████████████████████████████████████████▌                 | 3/4 [02:34<00:49, 49.32s/it]"
     ]
    },
    {
     "name": "stdout",
     "output_type": "stream",
     "text": [
      "Epoch 1/2\n",
      "50/50 - 20s - loss: 0.0123 - accuracy: 0.9968 - 20s/epoch - 393ms/step\n",
      "Epoch 2/2\n",
      "50/50 - 15s - loss: 0.1336 - accuracy: 0.9855 - 15s/epoch - 307ms/step\n"
     ]
    },
    {
     "name": "stderr",
     "output_type": "stream",
     "text": [
      "Progress Bar: 100%|██████████████████████████████████████████████████████████████████████| 4/4 [03:12<00:00, 48.23s/it]\n"
     ]
    },
    {
     "name": "stdout",
     "output_type": "stream",
     "text": [
      "32/32 [==============================] - 10s 298ms/step - loss: 0.0110 - accuracy: 0.9990\n",
      "comm_round: 21 | global_acc: 99.900% | global_loss: 0.011043651960790157\n"
     ]
    },
    {
     "name": "stderr",
     "output_type": "stream",
     "text": [
      "Progress Bar:   0%|                                                                              | 0/4 [00:00<?, ?it/s]"
     ]
    },
    {
     "name": "stdout",
     "output_type": "stream",
     "text": [
      "Epoch 1/2\n",
      "61/61 - 23s - loss: 0.0255 - accuracy: 0.9969 - 23s/epoch - 373ms/step\n",
      "Epoch 2/2\n",
      "61/61 - 19s - loss: 0.1373 - accuracy: 0.9840 - 19s/epoch - 309ms/step\n"
     ]
    },
    {
     "name": "stderr",
     "output_type": "stream",
     "text": [
      "Progress Bar:  25%|█████████████████▌                                                    | 1/4 [00:44<02:14, 44.92s/it]"
     ]
    },
    {
     "name": "stdout",
     "output_type": "stream",
     "text": [
      "Epoch 1/2\n",
      "55/55 - 21s - loss: 0.0054 - accuracy: 0.9977 - 21s/epoch - 381ms/step\n",
      "Epoch 2/2\n",
      "55/55 - 17s - loss: 0.0348 - accuracy: 0.9960 - 17s/epoch - 307ms/step\n"
     ]
    },
    {
     "name": "stderr",
     "output_type": "stream",
     "text": [
      "Progress Bar:  50%|███████████████████████████████████                                   | 2/4 [01:26<01:25, 42.74s/it]"
     ]
    },
    {
     "name": "stdout",
     "output_type": "stream",
     "text": [
      "Epoch 1/2\n",
      "50/50 - 20s - loss: 0.0042 - accuracy: 0.9987 - 20s/epoch - 405ms/step\n",
      "Epoch 2/2\n",
      "50/50 - 16s - loss: 0.0698 - accuracy: 0.9905 - 16s/epoch - 319ms/step\n"
     ]
    },
    {
     "name": "stderr",
     "output_type": "stream",
     "text": [
      "Progress Bar:  75%|████████████████████████████████████████████████████▌                 | 3/4 [02:05<00:41, 41.35s/it]"
     ]
    },
    {
     "name": "stdout",
     "output_type": "stream",
     "text": [
      "Epoch 1/2\n",
      "58/58 - 22s - loss: 8.2103e-06 - accuracy: 1.0000 - 22s/epoch - 375ms/step\n",
      "Epoch 2/2\n",
      "58/58 - 18s - loss: 0.0664 - accuracy: 0.9896 - 18s/epoch - 314ms/step\n"
     ]
    },
    {
     "name": "stderr",
     "output_type": "stream",
     "text": [
      "Progress Bar: 100%|██████████████████████████████████████████████████████████████████████| 4/4 [02:49<00:00, 42.41s/it]\n"
     ]
    },
    {
     "name": "stdout",
     "output_type": "stream",
     "text": [
      "32/32 [==============================] - 10s 300ms/step - loss: 0.0125 - accuracy: 0.9980\n",
      "comm_round: 22 | global_acc: 99.800% | global_loss: 0.012476446107029915\n"
     ]
    },
    {
     "name": "stderr",
     "output_type": "stream",
     "text": [
      "Progress Bar:   0%|                                                                              | 0/4 [00:00<?, ?it/s]"
     ]
    },
    {
     "name": "stdout",
     "output_type": "stream",
     "text": [
      "Epoch 1/2\n",
      "61/61 - 23s - loss: 1.0031e-05 - accuracy: 1.0000 - 23s/epoch - 376ms/step\n",
      "Epoch 2/2\n",
      "61/61 - 21s - loss: 0.0550 - accuracy: 0.9912 - 21s/epoch - 351ms/step\n"
     ]
    },
    {
     "name": "stderr",
     "output_type": "stream",
     "text": [
      "Progress Bar:  25%|█████████████████▌                                                    | 1/4 [00:47<02:23, 47.77s/it]"
     ]
    },
    {
     "name": "stdout",
     "output_type": "stream",
     "text": [
      "Epoch 1/2\n",
      "50/50 - 20s - loss: 2.7824e-06 - accuracy: 1.0000 - 20s/epoch - 404ms/step\n",
      "Epoch 2/2\n",
      "50/50 - 16s - loss: 0.0874 - accuracy: 0.9905 - 16s/epoch - 327ms/step\n"
     ]
    },
    {
     "name": "stderr",
     "output_type": "stream",
     "text": [
      "Progress Bar:  50%|███████████████████████████████████                                   | 2/4 [01:27<01:26, 43.23s/it]"
     ]
    },
    {
     "name": "stdout",
     "output_type": "stream",
     "text": [
      "Epoch 1/2\n",
      "58/58 - 23s - loss: 0.0041 - accuracy: 0.9984 - 23s/epoch - 399ms/step\n",
      "Epoch 2/2\n",
      "58/58 - 19s - loss: 0.0707 - accuracy: 0.9907 - 19s/epoch - 324ms/step\n"
     ]
    },
    {
     "name": "stderr",
     "output_type": "stream",
     "text": [
      "Progress Bar:  75%|████████████████████████████████████████████████████▌                 | 3/4 [02:13<00:44, 44.29s/it]"
     ]
    },
    {
     "name": "stdout",
     "output_type": "stream",
     "text": [
      "Epoch 1/2\n",
      "55/55 - 22s - loss: 3.4875e-04 - accuracy: 1.0000 - 22s/epoch - 409ms/step\n",
      "Epoch 2/2\n",
      "55/55 - 18s - loss: 0.0427 - accuracy: 0.9909 - 18s/epoch - 322ms/step\n"
     ]
    },
    {
     "name": "stderr",
     "output_type": "stream",
     "text": [
      "Progress Bar: 100%|██████████████████████████████████████████████████████████████████████| 4/4 [02:57<00:00, 44.33s/it]\n"
     ]
    },
    {
     "name": "stdout",
     "output_type": "stream",
     "text": [
      "32/32 [==============================] - 10s 310ms/step - loss: 0.0122 - accuracy: 0.9980\n",
      "comm_round: 23 | global_acc: 99.800% | global_loss: 0.012210591696202755\n"
     ]
    },
    {
     "name": "stderr",
     "output_type": "stream",
     "text": [
      "Progress Bar:   0%|                                                                              | 0/4 [00:00<?, ?it/s]"
     ]
    },
    {
     "name": "stdout",
     "output_type": "stream",
     "text": [
      "Epoch 1/2\n",
      "61/61 - 23s - loss: 0.0136 - accuracy: 0.9974 - 23s/epoch - 384ms/step\n",
      "Epoch 2/2\n",
      "61/61 - 19s - loss: 0.0300 - accuracy: 0.9943 - 19s/epoch - 318ms/step\n"
     ]
    },
    {
     "name": "stderr",
     "output_type": "stream",
     "text": [
      "Progress Bar:  25%|█████████████████▌                                                    | 1/4 [00:46<02:18, 46.28s/it]"
     ]
    },
    {
     "name": "stdout",
     "output_type": "stream",
     "text": [
      "Epoch 1/2\n",
      "58/58 - 22s - loss: 0.0326 - accuracy: 0.9973 - 22s/epoch - 387ms/step\n",
      "Epoch 2/2\n",
      "58/58 - 19s - loss: 0.0254 - accuracy: 0.9956 - 19s/epoch - 330ms/step\n"
     ]
    },
    {
     "name": "stderr",
     "output_type": "stream",
     "text": [
      "Progress Bar:  50%|███████████████████████████████████                                   | 2/4 [01:42<01:44, 52.24s/it]"
     ]
    },
    {
     "name": "stdout",
     "output_type": "stream",
     "text": [
      "Epoch 1/2\n",
      "55/55 - 21s - loss: 0.0015 - accuracy: 0.9994 - 21s/epoch - 386ms/step\n",
      "Epoch 2/2\n",
      "55/55 - 17s - loss: 0.1137 - accuracy: 0.9841 - 17s/epoch - 315ms/step\n"
     ]
    },
    {
     "name": "stderr",
     "output_type": "stream",
     "text": [
      "Progress Bar:  75%|████████████████████████████████████████████████████▌                 | 3/4 [02:24<00:47, 47.52s/it]"
     ]
    },
    {
     "name": "stdout",
     "output_type": "stream",
     "text": [
      "Epoch 1/2\n",
      "50/50 - 20s - loss: 0.0110 - accuracy: 0.9968 - 20s/epoch - 391ms/step\n",
      "Epoch 2/2\n",
      "50/50 - 16s - loss: 0.0443 - accuracy: 0.9905 - 16s/epoch - 317ms/step\n"
     ]
    },
    {
     "name": "stderr",
     "output_type": "stream",
     "text": [
      "Progress Bar: 100%|██████████████████████████████████████████████████████████████████████| 4/4 [03:03<00:00, 45.84s/it]\n"
     ]
    },
    {
     "name": "stdout",
     "output_type": "stream",
     "text": [
      "32/32 [==============================] - 10s 307ms/step - loss: 0.0049 - accuracy: 0.9980\n",
      "comm_round: 24 | global_acc: 99.800% | global_loss: 0.0048901294358074665\n"
     ]
    },
    {
     "name": "stderr",
     "output_type": "stream",
     "text": [
      "Progress Bar:   0%|                                                                              | 0/4 [00:00<?, ?it/s]"
     ]
    },
    {
     "name": "stdout",
     "output_type": "stream",
     "text": [
      "Epoch 1/2\n",
      "58/58 - 23s - loss: 0.0024 - accuracy: 0.9989 - 23s/epoch - 389ms/step\n",
      "Epoch 2/2\n",
      "58/58 - 19s - loss: 0.0859 - accuracy: 0.9912 - 19s/epoch - 322ms/step\n"
     ]
    },
    {
     "name": "stderr",
     "output_type": "stream",
     "text": [
      "Progress Bar:  25%|█████████████████▌                                                    | 1/4 [00:44<02:14, 44.79s/it]"
     ]
    },
    {
     "name": "stdout",
     "output_type": "stream",
     "text": [
      "Epoch 1/2\n",
      "50/50 - 19s - loss: 0.0037 - accuracy: 0.9987 - 19s/epoch - 385ms/step\n",
      "Epoch 2/2\n",
      "50/50 - 15s - loss: 0.0694 - accuracy: 0.9893 - 15s/epoch - 307ms/step\n"
     ]
    },
    {
     "name": "stderr",
     "output_type": "stream",
     "text": [
      "Progress Bar:  50%|███████████████████████████████████                                   | 2/4 [01:22<01:21, 40.76s/it]"
     ]
    },
    {
     "name": "stdout",
     "output_type": "stream",
     "text": [
      "Epoch 1/2\n",
      "61/61 - 23s - loss: 0.0085 - accuracy: 0.9995 - 23s/epoch - 370ms/step\n",
      "Epoch 2/2\n",
      "61/61 - 19s - loss: 0.1296 - accuracy: 0.9819 - 19s/epoch - 312ms/step\n"
     ]
    },
    {
     "name": "stderr",
     "output_type": "stream",
     "text": [
      "Progress Bar:  75%|████████████████████████████████████████████████████▌                 | 3/4 [02:07<00:42, 42.75s/it]"
     ]
    },
    {
     "name": "stdout",
     "output_type": "stream",
     "text": [
      "Epoch 1/2\n",
      "55/55 - 21s - loss: 0.0075 - accuracy: 0.9994 - 21s/epoch - 378ms/step\n",
      "Epoch 2/2\n",
      "55/55 - 17s - loss: 0.0923 - accuracy: 0.9863 - 17s/epoch - 306ms/step\n"
     ]
    },
    {
     "name": "stderr",
     "output_type": "stream",
     "text": [
      "Progress Bar: 100%|██████████████████████████████████████████████████████████████████████| 4/4 [02:48<00:00, 42.25s/it]\n"
     ]
    },
    {
     "name": "stdout",
     "output_type": "stream",
     "text": [
      "32/32 [==============================] - 11s 334ms/step - loss: 0.0063 - accuracy: 0.9980\n",
      "comm_round: 25 | global_acc: 99.800% | global_loss: 0.006264530587941408\n"
     ]
    },
    {
     "name": "stderr",
     "output_type": "stream",
     "text": [
      "Progress Bar:   0%|                                                                              | 0/4 [00:00<?, ?it/s]"
     ]
    },
    {
     "name": "stdout",
     "output_type": "stream",
     "text": [
      "Epoch 1/2\n",
      "55/55 - 23s - loss: 6.4391e-05 - accuracy: 1.0000 - 23s/epoch - 410ms/step\n",
      "Epoch 2/2\n",
      "55/55 - 18s - loss: 0.0722 - accuracy: 0.9915 - 18s/epoch - 328ms/step\n"
     ]
    },
    {
     "name": "stderr",
     "output_type": "stream",
     "text": [
      "Progress Bar:  25%|█████████████████▌                                                    | 1/4 [00:44<02:12, 44.21s/it]"
     ]
    },
    {
     "name": "stdout",
     "output_type": "stream",
     "text": [
      "Epoch 1/2\n",
      "50/50 - 20s - loss: 3.4206e-05 - accuracy: 1.0000 - 20s/epoch - 406ms/step\n",
      "Epoch 2/2\n",
      "50/50 - 16s - loss: 0.0524 - accuracy: 0.9918 - 16s/epoch - 323ms/step\n"
     ]
    },
    {
     "name": "stderr",
     "output_type": "stream",
     "text": [
      "Progress Bar:  50%|███████████████████████████████████                                   | 2/4 [01:24<01:23, 41.72s/it]"
     ]
    },
    {
     "name": "stdout",
     "output_type": "stream",
     "text": [
      "Epoch 1/2\n",
      "58/58 - 25s - loss: 2.2060e-04 - accuracy: 1.0000 - 25s/epoch - 430ms/step\n",
      "Epoch 2/2\n",
      "58/58 - 19s - loss: 0.0846 - accuracy: 0.9901 - 19s/epoch - 320ms/step\n"
     ]
    },
    {
     "name": "stderr",
     "output_type": "stream",
     "text": [
      "Progress Bar:  75%|████████████████████████████████████████████████████▌                 | 3/4 [02:11<00:44, 44.26s/it]"
     ]
    },
    {
     "name": "stdout",
     "output_type": "stream",
     "text": [
      "Epoch 1/2\n",
      "61/61 - 24s - loss: 0.0078 - accuracy: 0.9974 - 24s/epoch - 389ms/step\n",
      "Epoch 2/2\n",
      "61/61 - 20s - loss: 0.0485 - accuracy: 0.9959 - 20s/epoch - 328ms/step\n"
     ]
    },
    {
     "name": "stderr",
     "output_type": "stream",
     "text": [
      "Progress Bar: 100%|██████████████████████████████████████████████████████████████████████| 4/4 [02:58<00:00, 44.73s/it]\n"
     ]
    },
    {
     "name": "stdout",
     "output_type": "stream",
     "text": [
      "32/32 [==============================] - 11s 314ms/step - loss: 0.0111 - accuracy: 0.9980\n",
      "comm_round: 26 | global_acc: 99.800% | global_loss: 0.011076848022639751\n"
     ]
    },
    {
     "name": "stderr",
     "output_type": "stream",
     "text": [
      "Progress Bar:   0%|                                                                              | 0/4 [00:00<?, ?it/s]"
     ]
    },
    {
     "name": "stdout",
     "output_type": "stream",
     "text": [
      "Epoch 1/2\n",
      "55/55 - 22s - loss: 9.1999e-07 - accuracy: 1.0000 - 22s/epoch - 397ms/step\n",
      "Epoch 2/2\n",
      "55/55 - 18s - loss: 0.0241 - accuracy: 0.9972 - 18s/epoch - 330ms/step\n"
     ]
    },
    {
     "name": "stderr",
     "output_type": "stream",
     "text": [
      "Progress Bar:  25%|█████████████████▌                                                    | 1/4 [00:43<02:10, 43.47s/it]"
     ]
    },
    {
     "name": "stdout",
     "output_type": "stream",
     "text": [
      "Epoch 1/2\n",
      "50/50 - 20s - loss: 0.0017 - accuracy: 0.9994 - 20s/epoch - 404ms/step\n",
      "Epoch 2/2\n",
      "50/50 - 16s - loss: 0.0499 - accuracy: 0.9912 - 16s/epoch - 325ms/step\n"
     ]
    },
    {
     "name": "stderr",
     "output_type": "stream",
     "text": [
      "Progress Bar:  50%|███████████████████████████████████                                   | 2/4 [01:23<01:22, 41.40s/it]"
     ]
    },
    {
     "name": "stdout",
     "output_type": "stream",
     "text": [
      "Epoch 1/2\n",
      "61/61 - 25s - loss: 0.0032 - accuracy: 0.9990 - 25s/epoch - 404ms/step\n",
      "Epoch 2/2\n",
      "61/61 - 20s - loss: 0.1237 - accuracy: 0.9855 - 20s/epoch - 327ms/step\n"
     ]
    },
    {
     "name": "stderr",
     "output_type": "stream",
     "text": [
      "Progress Bar:  75%|████████████████████████████████████████████████████▌                 | 3/4 [02:11<00:44, 44.50s/it]"
     ]
    },
    {
     "name": "stdout",
     "output_type": "stream",
     "text": [
      "Epoch 1/2\n",
      "58/58 - 48s - loss: 0.0017 - accuracy: 0.9995 - 48s/epoch - 823ms/step\n",
      "Epoch 2/2\n",
      "58/58 - 19s - loss: 0.0408 - accuracy: 0.9951 - 19s/epoch - 336ms/step\n"
     ]
    },
    {
     "name": "stderr",
     "output_type": "stream",
     "text": [
      "Progress Bar: 100%|██████████████████████████████████████████████████████████████████████| 4/4 [03:22<00:00, 50.67s/it]\n"
     ]
    },
    {
     "name": "stdout",
     "output_type": "stream",
     "text": [
      "32/32 [==============================] - 11s 327ms/step - loss: 0.0127 - accuracy: 0.9980\n",
      "comm_round: 27 | global_acc: 99.800% | global_loss: 0.012708156369626522\n"
     ]
    },
    {
     "name": "stderr",
     "output_type": "stream",
     "text": [
      "Progress Bar:   0%|                                                                              | 0/4 [00:00<?, ?it/s]"
     ]
    },
    {
     "name": "stdout",
     "output_type": "stream",
     "text": [
      "Epoch 1/2\n",
      "58/58 - 23s - loss: 0.0064 - accuracy: 0.9989 - 23s/epoch - 403ms/step\n",
      "Epoch 2/2\n",
      "58/58 - 19s - loss: 0.0831 - accuracy: 0.9896 - 19s/epoch - 327ms/step\n"
     ]
    },
    {
     "name": "stderr",
     "output_type": "stream",
     "text": [
      "Progress Bar:  25%|█████████████████▌                                                    | 1/4 [00:45<02:17, 45.89s/it]"
     ]
    },
    {
     "name": "stdout",
     "output_type": "stream",
     "text": [
      "Epoch 1/2\n",
      "50/50 - 21s - loss: 1.2025e-04 - accuracy: 1.0000 - 21s/epoch - 412ms/step\n",
      "Epoch 2/2\n",
      "50/50 - 16s - loss: 0.0906 - accuracy: 0.9868 - 16s/epoch - 329ms/step\n"
     ]
    },
    {
     "name": "stderr",
     "output_type": "stream",
     "text": [
      "Progress Bar:  50%|███████████████████████████████████                                   | 2/4 [01:26<01:25, 42.73s/it]"
     ]
    },
    {
     "name": "stdout",
     "output_type": "stream",
     "text": [
      "Epoch 1/2\n",
      "61/61 - 23s - loss: 5.0485e-05 - accuracy: 1.0000 - 23s/epoch - 385ms/step\n",
      "Epoch 2/2\n",
      "61/61 - 19s - loss: 0.0961 - accuracy: 0.9881 - 19s/epoch - 319ms/step\n"
     ]
    },
    {
     "name": "stderr",
     "output_type": "stream",
     "text": [
      "Progress Bar:  75%|████████████████████████████████████████████████████▌                 | 3/4 [02:12<00:44, 44.40s/it]"
     ]
    },
    {
     "name": "stdout",
     "output_type": "stream",
     "text": [
      "Epoch 1/2\n",
      "55/55 - 22s - loss: 8.8575e-04 - accuracy: 0.9994 - 22s/epoch - 394ms/step\n",
      "Epoch 2/2\n",
      "55/55 - 18s - loss: 0.1573 - accuracy: 0.9863 - 18s/epoch - 327ms/step\n"
     ]
    },
    {
     "name": "stderr",
     "output_type": "stream",
     "text": [
      "Progress Bar: 100%|██████████████████████████████████████████████████████████████████████| 4/4 [02:55<00:00, 43.97s/it]\n"
     ]
    },
    {
     "name": "stdout",
     "output_type": "stream",
     "text": [
      "32/32 [==============================] - 11s 313ms/step - loss: 0.0084 - accuracy: 0.9990\n",
      "comm_round: 28 | global_acc: 99.900% | global_loss: 0.008439985103905201\n"
     ]
    },
    {
     "name": "stderr",
     "output_type": "stream",
     "text": [
      "Progress Bar:   0%|                                                                              | 0/4 [00:00<?, ?it/s]"
     ]
    },
    {
     "name": "stdout",
     "output_type": "stream",
     "text": [
      "Epoch 1/2\n",
      "61/61 - 23s - loss: 0.0126 - accuracy: 0.9974 - 23s/epoch - 385ms/step\n",
      "Epoch 2/2\n",
      "61/61 - 19s - loss: 0.0486 - accuracy: 0.9902 - 19s/epoch - 316ms/step\n"
     ]
    },
    {
     "name": "stderr",
     "output_type": "stream",
     "text": [
      "Progress Bar:  25%|█████████████████▌                                                    | 1/4 [00:46<02:18, 46.17s/it]"
     ]
    },
    {
     "name": "stdout",
     "output_type": "stream",
     "text": [
      "Epoch 1/2\n",
      "50/50 - 19s - loss: 0.0066 - accuracy: 0.9987 - 19s/epoch - 385ms/step\n",
      "Epoch 2/2\n",
      "50/50 - 15s - loss: 0.0621 - accuracy: 0.9943 - 15s/epoch - 303ms/step\n"
     ]
    },
    {
     "name": "stderr",
     "output_type": "stream",
     "text": [
      "Progress Bar:  50%|███████████████████████████████████                                   | 2/4 [01:23<01:22, 41.20s/it]"
     ]
    },
    {
     "name": "stdout",
     "output_type": "stream",
     "text": [
      "Epoch 1/2\n",
      "55/55 - 21s - loss: 9.7846e-08 - accuracy: 1.0000 - 21s/epoch - 373ms/step\n",
      "Epoch 2/2\n",
      "55/55 - 17s - loss: 6.3063e-09 - accuracy: 1.0000 - 17s/epoch - 301ms/step\n"
     ]
    },
    {
     "name": "stderr",
     "output_type": "stream",
     "text": [
      "Progress Bar:  75%|████████████████████████████████████████████████████▌                 | 3/4 [02:04<00:40, 40.89s/it]"
     ]
    },
    {
     "name": "stdout",
     "output_type": "stream",
     "text": [
      "Epoch 1/2\n",
      "58/58 - 21s - loss: 8.7562e-07 - accuracy: 1.0000 - 21s/epoch - 370ms/step\n",
      "Epoch 2/2\n",
      "58/58 - 17s - loss: 0.0549 - accuracy: 0.9918 - 17s/epoch - 296ms/step\n"
     ]
    },
    {
     "name": "stderr",
     "output_type": "stream",
     "text": [
      "Progress Bar: 100%|██████████████████████████████████████████████████████████████████████| 4/4 [02:46<00:00, 41.64s/it]\n"
     ]
    },
    {
     "name": "stdout",
     "output_type": "stream",
     "text": [
      "32/32 [==============================] - 10s 296ms/step - loss: 0.0073 - accuracy: 0.9990\n",
      "comm_round: 29 | global_acc: 99.900% | global_loss: 0.007319987285882235\n"
     ]
    }
   ],
   "source": [
    "comms_round = 30  # Number of global epochs\n",
    "acc3 = []\n",
    "\n",
    "for comm_round in range(comms_round):\n",
    "\n",
    "    # Get the global model's weights - will serve as the initial weights for all local models\n",
    "    global_weights = global_model.get_weights()\n",
    "\n",
    "    # Initial list to collect local model weights after scaling\n",
    "    local_weight_list = []\n",
    "\n",
    "    # Randomize client data - using keys\n",
    "    client_names = list(clients_batched.keys())\n",
    "    random.shuffle(client_names)\n",
    "    \n",
    "    for client in tqdm(client_names, desc='Progress Bar'):\n",
    "        local_model = SimpleMLP.build()\n",
    "\n",
    "        local_model.compile(\n",
    "            loss='categorical_crossentropy',\n",
    "            optimizer='adam',\n",
    "            metrics=['accuracy']\n",
    "        )\n",
    "\n",
    "        # Set local model weight to the weight of the global model\n",
    "        local_model.set_weights(global_weights)\n",
    "\n",
    "        # Fit local model with client's data\n",
    "        local_model.fit(\n",
    "            np.array(clients_batched[client][0]),\n",
    "            np.array(clients_batched[client][1]),\n",
    "            epochs=2,\n",
    "            batch_size=32,\n",
    "            verbose= 2\n",
    "        )\n",
    "\n",
    "        # Get the scaled model weights and add to the list\n",
    "        weights = local_model.get_weights()\n",
    "        local_weight_list.append(weights)\n",
    "\n",
    "        # Clear the session to free memory after each communication round\n",
    "        K.clear_session()\n",
    "\n",
    "    # Calculate the average weights across all clients for each layer\n",
    "    average_weights = avg_weights(local_weight_list)\n",
    "\n",
    "    # Update the global model with the average weights\n",
    "    global_model.set_weights(average_weights)\n",
    "    \n",
    "    # Optionally, you can also test the global model at this point using a separate test dataset\n",
    "    global_acc, global_loss = test_model(test, one_hot_labels, global_model, comm_round)\n",
    "    acc3.append(global_acc)\n"
   ]
  },
  {
   "cell_type": "code",
   "execution_count": 37,
   "id": "1394c5f3",
   "metadata": {},
   "outputs": [
    {
     "name": "stdout",
     "output_type": "stream",
     "text": [
      "32/32 [==============================] - 11s 292ms/step\n"
     ]
    },
    {
     "data": {
      "text/plain": [
       "array([3.5461058e-23, 0.0000000e+00, 4.2559708e-29, 0.0000000e+00,\n",
       "       1.0000000e+00], dtype=float32)"
      ]
     },
     "execution_count": 37,
     "metadata": {},
     "output_type": "execute_result"
    }
   ],
   "source": [
    "global_model.predict(test)[0]"
   ]
  },
  {
   "cell_type": "code",
   "execution_count": 38,
   "id": "f11e8cb3",
   "metadata": {},
   "outputs": [
    {
     "data": {
      "text/plain": [
       "[<matplotlib.lines.Line2D at 0x21a3deed690>]"
      ]
     },
     "execution_count": 38,
     "metadata": {},
     "output_type": "execute_result"
    },
    {
     "data": {
      "image/png": "[encoded data removed]",
      "text/plain": [
       "<Figure size 640x480 with 1 Axes>"
      ]
     },
     "metadata": {},
     "output_type": "display_data"
    }
   ],
   "source": [
    "import matplotlib.pyplot as plt\n",
    "plt.plot(acc3)"
   ]
  },
  {
   "cell_type": "code",
   "execution_count": 39,
   "id": "93c25370",
   "metadata": {},
   "outputs": [],
   "source": [
    "acc3=np.array(acc3)"
   ]
  },
  {
   "cell_type": "code",
   "execution_count": 40,
   "id": "4988fb68",
   "metadata": {},
   "outputs": [
    {
     "name": "stdout",
     "output_type": "stream",
     "text": [
      "32/32 [==============================] - 10s 298ms/step - loss: 0.0073 - accuracy: 0.9990\n"
     ]
    },
    {
     "data": {
      "text/plain": [
       "[0.007319987285882235, 0.9990000128746033]"
      ]
     },
     "execution_count": 40,
     "metadata": {},
     "output_type": "execute_result"
    }
   ],
   "source": [
    "global_model.evaluate(test,one_hot_labels)"
   ]
  },
  {
   "cell_type": "code",
   "execution_count": 41,
   "id": "c16ba9e7",
   "metadata": {},
   "outputs": [],
   "source": [
    "np.save(\"acc_fedavg_pap.npy\",acc3)"
   ]
  },
  {
   "cell_type": "code",
   "execution_count": 42,
   "id": "3b8173b9",
   "metadata": {},
   "outputs": [
    {
     "name": "stderr",
     "output_type": "stream",
     "text": [
      "C:\\Anaconda\\Lib\\site-packages\\keras\\src\\engine\\training.py:3103: UserWarning: You are saving your model as an HDF5 file via `model.save()`. This file format is considered legacy. We recommend using instead the native Keras format, e.g. `model.save('my_model.keras')`.\n",
      "  saving_api.save_model(\n"
     ]
    }
   ],
   "source": [
    "global_model.save(\"fedavg_pap.h5\")"
   ]
  },
  {
   "cell_type": "code",
   "execution_count": 43,
   "id": "a20dbae6",
   "metadata": {},
   "outputs": [],
   "source": [
    "a = np.load(\"acc_fedavg_pap.npy\")"
   ]
  },
  {
   "cell_type": "code",
   "execution_count": 44,
   "id": "e67b1a1b",
   "metadata": {},
   "outputs": [
    {
     "data": {
      "text/plain": [
       "[<matplotlib.lines.Line2D at 0x21a3defd1d0>]"
      ]
     },
     "execution_count": 44,
     "metadata": {},
     "output_type": "execute_result"
    },
    {
     "data": {
      "image/png": "[encoded data removed]",
      "text/plain": [
       "<Figure size 640x480 with 1 Axes>"
      ]
     },
     "metadata": {},
     "output_type": "display_data"
    }
   ],
   "source": [
    "plt.plot(a)"
   ]
  },
  {
   "cell_type": "code",
   "execution_count": null,
   "id": "0f03a4fd",
   "metadata": {},
   "outputs": [],
   "source": []
  }
 ],
 "metadata": {
  "kernelspec": {
   "display_name": "Python 3 (ipykernel)",
   "language": "python",
   "name": "python3"
  },
  "language_info": {
   "codemirror_mode": {
    "name": "ipython",
    "version": 3
   },
   "file_extension": ".py",
   "mimetype": "text/x-python",
   "name": "python",
   "nbconvert_exporter": "python",
   "pygments_lexer": "ipython3",
   "version": "3.11.5"
  }
 },
 "nbformat": 4,
 "nbformat_minor": 5
}
