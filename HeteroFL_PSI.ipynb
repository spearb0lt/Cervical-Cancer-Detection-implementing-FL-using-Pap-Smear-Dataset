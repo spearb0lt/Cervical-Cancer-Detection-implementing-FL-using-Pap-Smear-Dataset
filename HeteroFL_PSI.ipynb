{
 "cells": [
  {
   "cell_type": "code",
   "execution_count": 1,
   "id": "f6c5c4a9-9968-494c-93ea-dfae961e6c02",
   "metadata": {},
   "outputs": [
    {
     "name": "stdout",
     "output_type": "stream",
     "text": [
      "WARNING:tensorflow:From C:\\Anaconda\\Lib\\site-packages\\keras\\src\\losses.py:2976: The name tf.losses.sparse_softmax_cross_entropy is deprecated. Please use tf.compat.v1.losses.sparse_softmax_cross_entropy instead.\n",
      "\n"
     ]
    }
   ],
   "source": [
    "import numpy as np\n",
    "import random\n",
    "import os\n",
    "from sklearn.model_selection import train_test_split\n",
    "from sklearn.preprocessing import LabelBinarizer\n",
    "from sklearn.model_selection import train_test_split\n",
    "from sklearn.utils import shuffle\n",
    "from sklearn.metrics import accuracy_score\n",
    "from tqdm import tqdm\n",
    "import time\n",
    "import tensorflow as tf\n",
    "from tensorflow.keras.models import Sequential\n",
    "from tensorflow.keras.layers import Conv2D\n",
    "from tensorflow.keras.layers import MaxPooling2D\n",
    "from tensorflow.keras.layers import Activation\n",
    "from tensorflow.keras.layers import Flatten\n",
    "from tensorflow.keras.layers import Dense\n",
    "from tensorflow.keras.optimizers import SGD\n",
    "from tensorflow.keras import backend as K\n",
    "import tensorflow as tf\n",
    "from tensorflow.keras.datasets import cifar10\n",
    "from tensorflow import keras"
   ]
  },
  {
   "cell_type": "code",
   "execution_count": 2,
   "id": "0a45bdb6-8956-436e-8cdd-35ff36a40943",
   "metadata": {},
   "outputs": [
    {
     "name": "stdout",
     "output_type": "stream",
     "text": [
      "Processing images in folder: DATSAET\n",
      "Processing images in folder: dd\n",
      "Processing images in folder: FORM FIllup\n",
      "Processing images in folder: Internapplied\n",
      "Processing images in folder: mm\n",
      "Processing images in folder: MODELS\n",
      "Processing images in folder: Movies\n",
      "Processing images in folder: New folder\n",
      "Processing images in folder: PapsFED-DRP\n",
      "Processing images in folder: tgt\n",
      "Processing images in folder: uivision\n"
     ]
    }
   ],
   "source": [
    "import cv2\n",
    "import numpy as np\n",
    "import os\n",
    "\n",
    "def preprocess_images_in_folders(root_folder, target_size=(224, 224)):\n",
    "    all_preprocessed_images = []\n",
    "\n",
    "    # Iterate over all subfolders in the root folder\n",
    "    for folder_name in os.listdir(root_folder):\n",
    "        folder_path = os.path.join(root_folder, folder_name)\n",
    "\n",
    "        # Check if the path is a directory\n",
    "        if os.path.isdir(folder_path):\n",
    "            print(f\"Processing images in folder: {folder_name}\")\n",
    "\n",
    "            # Preprocess images in the current folder\n",
    "            preprocessed_images = preprocess_images_in_folder(folder_path, target_size)\n",
    "\n",
    "            # Extend the list of all preprocessed images\n",
    "            all_preprocessed_images.extend(preprocessed_images)\n",
    "\n",
    "    return all_preprocessed_images\n",
    "\n",
    "def preprocess_images_in_folder(folder_path, target_size=(224, 224)):\n",
    "    preprocessed_images = []\n",
    "\n",
    "    # Iterate over all files in the folder\n",
    "    for filename in os.listdir(folder_path):\n",
    "        if filename.endswith(('.jpg', '.bmp')):\n",
    "            # Construct the full path to the image\n",
    "            image_path = os.path.join(folder_path, filename)\n",
    "\n",
    "            # Preprocess the image\n",
    "            preprocessed_image = preprocess_image(image_path, target_size)\n",
    "\n",
    "            # Append the preprocessed image to the list\n",
    "            preprocessed_images.append(preprocessed_image)\n",
    "\n",
    "    return preprocessed_images\n",
    "\n",
    "def preprocess_image(image_path, target_size=(224, 224)):\n",
    "    # Read the image\n",
    "    image = cv2.imread(image_path)\n",
    "\n",
    "    # Resize the image\n",
    "    image = cv2.resize(image, target_size)\n",
    "\n",
    "    # Convert the image to grayscale (optional, depending on your task)\n",
    "    # image = cv2.cvtColor(image, cv2.COLOR_BGR2GRAY)\n",
    "\n",
    "    # Normalize pixel values to be between 0 and 1\n",
    "    image = image.astype(np.float32) / 255.0\n",
    "\n",
    "    # You can apply additional preprocessing steps here based on your requirements\n",
    "\n",
    "    return image\n",
    "\n",
    "# Example usage\n",
    "root_folder = r\"C:\\Users\\ASUS\\Desktop\"\n",
    "all_preprocessed_images = preprocess_images_in_folders(root_folder)\n"
   ]
  },
  {
   "cell_type": "code",
   "execution_count": 3,
   "id": "04333a4a-6993-48f1-a34d-b4c3fa95720b",
   "metadata": {},
   "outputs": [],
   "source": [
    "import os\n",
    "import random\n",
    "import shutil\n",
    "\n",
    "main_folder_path = r\"C:\\Users\\ASUS\\Desktop\\DATSAET\"\n",
    "client_paths = [r\"C:\\Users\\ASUS\\Desktop\\DATSAET\\client1\", r\"C:\\Users\\ASUS\\Desktop\\DATSAET\\client2\", r\"C:\\Users\\ASUS\\Desktop\\DATSAET\\client3\", r\"C:\\Users\\ASUS\\Desktop\\DATSAET\\client4\"]\n",
    "desired_distribution = {\n",
    "    'im_Dyskeratotic': [270, 156, 106, 81],\n",
    "    'im_Koilocytotic': [98, 109, 121, 190],\n",
    "    'im_Metaplastic': [124, 139, 89, 241],\n",
    "    'im_Parabasal': [152, 84, 234, 117],\n",
    "    'im_Superficial-Intermediate': [173, 131, 204, 113]\n",
    "}\n",
    "\n",
    "# Initialize client data dictionaries\n",
    "client_data = {client: {} for client in client_paths}\n",
    "\n",
    "# Iterate through the classes\n",
    "for class_folder in desired_distribution:\n",
    "    class_path = os.path.join(main_folder_path, class_folder)\n",
    "\n",
    "    # Check if the item is a directory (subfolder)\n",
    "    if os.path.isdir(class_path):\n",
    "        class_images = os.listdir(class_path)\n",
    "        random.shuffle(class_images)  # Shuffle images randomly\n",
    "\n",
    "        # Iterate through clients and assign images\n",
    "        for i, client in enumerate(client_paths):\n",
    "            start = sum(desired_distribution[class_folder][:i])\n",
    "            end = sum(desired_distribution[class_folder][:i + 1])\n",
    "\n",
    "            # Check if the client path exists in the dictionary\n",
    "            if client in client_data:\n",
    "                client_data[client].setdefault(class_folder, []).extend(class_images[start:end])\n",
    "\n",
    "# Copy images to the corresponding client folders\n",
    "for client, distribution in client_data.items():\n",
    "    client_folder = os.path.join(client)\n",
    "    os.makedirs(client_folder, exist_ok=True)\n",
    "\n",
    "    for class_folder, images in distribution.items():\n",
    "        class_path = os.path.join(main_folder_path, class_folder)\n",
    "        dest_path = os.path.join(client_folder, class_folder)\n",
    "        os.makedirs(dest_path, exist_ok=True)\n",
    "\n",
    "        for image in images:\n",
    "            src_path = os.path.join(class_path, image)\n",
    "            dest_image_path = os.path.join(dest_path, image)\n",
    "            shutil.copy(src_path, dest_image_path)\n"
   ]
  },
  {
   "cell_type": "code",
   "execution_count": 4,
   "id": "c0cf52ee-5df1-4f79-8faf-eb71bfe375de",
   "metadata": {},
   "outputs": [],
   "source": [
    "from keras.preprocessing.image import ImageDataGenerator\n",
    "def load_img_data1():\n",
    "    img_size = (128,128)\n",
    "    datagen = ImageDataGenerator()\n",
    "    train_data = datagen.flow_from_directory(\n",
    "        directory=r\"C:\\Users\\ASUS\\Desktop\\DATSAET\\client1\",\n",
    "        target_size=img_size,\n",
    "        class_mode=\"categorical\",\n",
    "        batch_size=32,\n",
    "    )\n",
    "    \n",
    "    return train_data"
   ]
  },
  {
   "cell_type": "code",
   "execution_count": 5,
   "id": "61878fac-b21c-473b-9826-9f3715da90ab",
   "metadata": {},
   "outputs": [],
   "source": [
    "from keras.preprocessing.image import ImageDataGenerator\n",
    "def load_img_data2():\n",
    "    img_size = (128,128)\n",
    "    datagen = ImageDataGenerator()\n",
    "    train_data = datagen.flow_from_directory(\n",
    "        directory=r\"C:\\Users\\ASUS\\Desktop\\DATSAET\\client2\",\n",
    "        target_size=img_size,\n",
    "        class_mode=\"categorical\",\n",
    "        batch_size=32,\n",
    "    )\n",
    "    \n",
    "    return train_data"
   ]
  },
  {
   "cell_type": "code",
   "execution_count": 6,
   "id": "fd7b6721-4279-4791-bfeb-84d1b90e6e80",
   "metadata": {},
   "outputs": [],
   "source": [
    "from keras.preprocessing.image import ImageDataGenerator\n",
    "def load_img_data3():\n",
    "    img_size = (128,128)\n",
    "    datagen = ImageDataGenerator()\n",
    "    train_data = datagen.flow_from_directory(\n",
    "        directory=r\"C:\\Users\\ASUS\\Desktop\\DATSAET\\client3\",\n",
    "        target_size=img_size,\n",
    "        class_mode=\"categorical\",\n",
    "        batch_size=32,\n",
    "    )\n",
    "    \n",
    "    return train_data"
   ]
  },
  {
   "cell_type": "code",
   "execution_count": 7,
   "id": "0b93fab6-d8ca-4683-986a-9f7567a63b1f",
   "metadata": {},
   "outputs": [],
   "source": [
    "from keras.preprocessing.image import ImageDataGenerator\n",
    "def load_img_data4():\n",
    "    img_size = (128,128)\n",
    "    datagen = ImageDataGenerator()\n",
    "    train_data = datagen.flow_from_directory(\n",
    "        directory=r\"C:\\Users\\ASUS\\Desktop\\DATSAET\\client4\",\n",
    "        target_size=img_size,\n",
    "        class_mode=\"categorical\",\n",
    "        batch_size=32,\n",
    "    )\n",
    "    \n",
    "    return train_data"
   ]
  },
  {
   "cell_type": "code",
   "execution_count": null,
   "id": "b4af664d-9838-4951-9574-626e255a0bf9",
   "metadata": {},
   "outputs": [],
   "source": []
  },
  {
   "cell_type": "code",
   "execution_count": 43,
   "id": "4acd1bbe-e7bc-46d1-8285-fb9e7b4140e7",
   "metadata": {},
   "outputs": [
    {
     "name": "stdout",
     "output_type": "stream",
     "text": [
      "Model: \"sequential_6\"\n",
      "_________________________________________________________________\n",
      " Layer (type)                Output Shape              Param #   \n",
      "=================================================================\n",
      " conv2d_18 (Conv2D)          (None, 126, 126, 32)      896       \n",
      "                                                                 \n",
      " dropout_24 (Dropout)        (None, 126, 126, 32)      0         \n",
      "                                                                 \n",
      " max_pooling2d_12 (MaxPooli  (None, 63, 63, 32)        0         \n",
      " ng2D)                                                           \n",
      "                                                                 \n",
      " static_batch_norm_10 (Stat  (None, 63, 63, 32)        128       \n",
      " icBatchNorm)                                                    \n",
      "                                                                 \n",
      " conv2d_19 (Conv2D)          (None, 61, 61, 64)        18496     \n",
      "                                                                 \n",
      " scaler_5 (Scaler)           (None, 61, 61, 64)        0         \n",
      "                                                                 \n",
      " static_batch_norm_11 (Stat  (None, 61, 61, 64)        256       \n",
      " icBatchNorm)                                                    \n",
      "                                                                 \n",
      " dropout_25 (Dropout)        (None, 61, 61, 64)        0         \n",
      "                                                                 \n",
      " max_pooling2d_13 (MaxPooli  (None, 30, 30, 64)        0         \n",
      " ng2D)                                                           \n",
      "                                                                 \n",
      " conv2d_20 (Conv2D)          (None, 28, 28, 64)        36928     \n",
      "                                                                 \n",
      " dropout_26 (Dropout)        (None, 28, 28, 64)        0         \n",
      "                                                                 \n",
      " flatten_6 (Flatten)         (None, 50176)             0         \n",
      "                                                                 \n",
      " dense_12 (Dense)            (None, 64)                3211328   \n",
      "                                                                 \n",
      " dropout_27 (Dropout)        (None, 64)                0         \n",
      "                                                                 \n",
      " dense_13 (Dense)            (None, 5)                 325       \n",
      "                                                                 \n",
      "=================================================================\n",
      "Total params: 3268357 (12.47 MB)\n",
      "Trainable params: 3268165 (12.47 MB)\n",
      "Non-trainable params: 192 (768.00 Byte)\n",
      "_________________________________________________________________\n"
     ]
    }
   ],
   "source": [
    "import tensorflow as tf\n",
    "from tensorflow.keras import layers\n",
    "\n",
    "    \n",
    "class Scaler(tf.keras.layers.Layer):\n",
    "    def __init__(self, shrinkage_ratio, complexity_level):\n",
    "        complexity_level = 2\n",
    "        super(Scaler, self).__init__()\n",
    "        self.scale = 1 / (shrinkage_ratio ** (complexity_level - 1))\n",
    "\n",
    "    def call(self, inputs):\n",
    "        return inputs * self.scale\n",
    "    \n",
    "\n",
    "class StaticBatchNorm(tf.keras.layers.Layer):\n",
    "    def __init__(self, epsilon=1e-5, momentum=0.1, **kwargs):\n",
    "        super(StaticBatchNorm, self).__init__(**kwargs)\n",
    "        self.epsilon = epsilon\n",
    "        self.momentum = momentum\n",
    "        self.gamma = None\n",
    "        self.beta = None\n",
    "        self.moving_mean = None\n",
    "        self.moving_var = None\n",
    "\n",
    "    def build(self, input_shape):\n",
    "        self.gamma = self.add_weight(\n",
    "            name='gamma',\n",
    "            shape=input_shape[-1:],\n",
    "            initializer=tf.ones_initializer(),\n",
    "            trainable=True\n",
    "        )\n",
    "        self.beta = self.add_weight(\n",
    "            name='beta',\n",
    "            shape=input_shape[-1:],\n",
    "            initializer=tf.zeros_initializer(),\n",
    "            trainable=True\n",
    "        )\n",
    "        self.moving_mean = self.add_weight(\n",
    "            name='moving_mean',\n",
    "            shape=input_shape[-1:],\n",
    "            initializer=tf.zeros_initializer(),\n",
    "            trainable=False\n",
    "        )\n",
    "        self.moving_var = self.add_weight(\n",
    "            name='moving_var',\n",
    "            shape=input_shape[-1:],\n",
    "            initializer=tf.ones_initializer(),\n",
    "            trainable=False\n",
    "        )\n",
    "\n",
    "    def call(self, inputs, training=False):\n",
    "        if training:\n",
    "            batch_mean, batch_var = tf.nn.moments(inputs, list(range(len(inputs.shape) - 1)))\n",
    "            self.update_moving_stats(batch_mean, batch_var)\n",
    "            outputs = tf.nn.batch_normalization(\n",
    "                inputs, batch_mean, batch_var, self.beta, self.gamma, self.epsilon)\n",
    "        else:\n",
    "            outputs = tf.nn.batch_normalization(\n",
    "                inputs, self.moving_mean, self.moving_var, self.beta, self.gamma, self.epsilon)\n",
    "        return outputs\n",
    "\n",
    "    def update_moving_stats(self, batch_mean, batch_var):\n",
    "        if self.moving_mean.dtype != batch_mean.dtype:\n",
    "            self.moving_mean = tf.cast(self.moving_mean, batch_mean.dtype)\n",
    "            self.moving_var = tf.cast(self.moving_var, batch_var.dtype)\n",
    "\n",
    "        self.moving_mean.assign(\n",
    "            self.momentum * batch_mean + (1 - self.momentum) * self.moving_mean)\n",
    "        self.moving_var.assign(\n",
    "            self.momentum * batch_var + (1 - self.momentum) * self.moving_var)\n",
    "\n",
    "\n",
    "class SimpleMLP:\n",
    "    @staticmethod\n",
    "#     def build(shrinkage_ratio):\n",
    "    def build(shrinkage_ratio, complexity_level):\n",
    "        model = tf.keras.models.Sequential()\n",
    "        model.add(layers.Conv2D(32, (3, 3), activation='relu', input_shape=(128, 128, 3)))\n",
    "        model.add(layers.Dropout(shrinkage_ratio))\n",
    "        model.add(layers.MaxPooling2D((2, 2)))\n",
    "        model.add(StaticBatchNorm())\n",
    "        \n",
    "        model.add(layers.Conv2D(64, (3, 3), activation='relu'))\n",
    "        model.add(Scaler(shrinkage_ratio, complexity_level))  # Add Scaler layer with shrinkage_ratio (Pass both arguments)\n",
    "        model.add(StaticBatchNorm())\n",
    "        model.add(layers.Dropout(shrinkage_ratio))\n",
    "        \n",
    "        model.add(layers.MaxPooling2D((2, 2)))\n",
    "        model.add(layers.Conv2D(64, (3, 3), activation='relu'))\n",
    "        model.add(layers.Dropout(shrinkage_ratio))\n",
    "        \n",
    "        model.add(layers.Flatten())\n",
    "        model.add(layers.Dense(64, activation='relu'))\n",
    "        model.add(layers.Dropout(shrinkage_ratio))\n",
    "        model.add(layers.Dense(5, activation='softmax'))\n",
    "\n",
    "        custom_optimizer = tf.keras.optimizers.Adam(learning_rate=0.01)\n",
    "        \n",
    "        model.compile(\n",
    "            optimizer=custom_optimizer,\n",
    "            loss='categorical_crossentropy',\n",
    "            metrics=['accuracy']\n",
    "        )\n",
    "\n",
    "        return model\n",
    "\n",
    "simple_mlp_model = SimpleMLP.build(0.5,2)\n",
    "\n",
    "# Display the model summary\n",
    "simple_mlp_model.summary()"
   ]
  },
  {
   "cell_type": "code",
   "execution_count": 44,
   "id": "13954b61-fe03-483e-9174-56debf26db62",
   "metadata": {},
   "outputs": [],
   "source": [
    "from keras.preprocessing.image import ImageDataGenerator\n",
    "import numpy as np\n",
    "\n",
    "# def one_hot_encode_labels(labels):\n",
    "#     # Your one_hot_encode_labels function here\n",
    "def on_hot_encode_labels(lables):\n",
    "    aug_list=[]\n",
    "    for i in range(len(lables)):\n",
    "        if lables[i]==0:\n",
    "            aug_list.append([0,1,0,0,0])\n",
    "        elif lables[i]==1:\n",
    "            aug_list.append([1,0,0,0,0])\n",
    "        elif lables[i]==2:\n",
    "            aug_list.append([0,0,1,0,0])\n",
    "        elif lables[i]==3:\n",
    "            aug_list.append([0,0,0,1,0])\n",
    "        elif lables[i]==4:\n",
    "            aug_list.append([0,0,0,0,1])\n",
    "    return aug_list"
   ]
  },
  {
   "cell_type": "code",
   "execution_count": 45,
   "id": "03d8d913-ce6f-40d8-9a90-61262d33ddeb",
   "metadata": {},
   "outputs": [],
   "source": [
    "from keras.preprocessing.image import ImageDataGenerator\n",
    "import numpy as np\n",
    "\n",
    "def load_img_data(test_data):\n",
    "    img_size = (128, 128)\n",
    "\n",
    "    # Load images and labels into numpy arrays\n",
    "    images = []\n",
    "    labels = []\n",
    "    for batch in test_data:\n",
    "        images.extend(batch[0])  # Load images from the batch\n",
    "        labels.extend(np.argmax(batch[1], axis=1))  # Convert one-hot labels to integers\n",
    "        if len(labels) >= len(test_data.filenames):\n",
    "            break\n",
    "\n",
    "    # Convert labels to one-hot encoded format\n",
    "    one_hot_labels = on_hot_encode_labels(labels)\n",
    "\n",
    "    return np.array(images), np.array(one_hot_labels)\n"
   ]
  },
  {
   "cell_type": "code",
   "execution_count": 46,
   "id": "823aa505-7f4e-48aa-aba1-36e2087acbce",
   "metadata": {},
   "outputs": [],
   "source": [
    "from keras.preprocessing.image import ImageDataGenerator\n",
    "def load_img_data():\n",
    "    img_size = (128,128)\n",
    "    datagen = ImageDataGenerator()\n",
    "    test_data = datagen.flow_from_directory(\n",
    "        directory=r\"C:\\Users\\ASUS\\Desktop\\DATSAET\\test\",\n",
    "        target_size=img_size,\n",
    "        class_mode=\"categorical\",\n",
    "        batch_size=32,\n",
    "    )\n",
    "    \n",
    "    return test_data"
   ]
  },
  {
   "cell_type": "code",
   "execution_count": 47,
   "id": "d63ed1e7-ef64-417b-a590-181cd8bfd0ec",
   "metadata": {},
   "outputs": [
    {
     "name": "stdout",
     "output_type": "stream",
     "text": [
      "Found 3725 images belonging to 5 classes.\n"
     ]
    }
   ],
   "source": [
    "test=load_img_data()"
   ]
  },
  {
   "cell_type": "code",
   "execution_count": 48,
   "id": "d2c78fe7-35e4-4294-9e3e-44c95a00de4b",
   "metadata": {},
   "outputs": [],
   "source": [
    "from keras.preprocessing.image import ImageDataGenerator\n",
    "import numpy as np\n",
    "\n",
    "def load_img_data(test_data):\n",
    "    img_size = (128, 128)\n",
    "\n",
    "    # Load images and labels into numpy arrays\n",
    "    images = []\n",
    "    labels = []\n",
    "    for batch in test_data:\n",
    "        images.extend(batch[0])  # Load images from the batch\n",
    "        labels.extend(np.argmax(batch[1], axis=1))  # Convert one-hot labels to integers\n",
    "        if len(labels) >= len(test_data.filenames):\n",
    "            break\n",
    "\n",
    "    # Convert labels to one-hot encoded format\n",
    "    one_hot_labels = on_hot_encode_labels(labels)\n",
    "\n",
    "    return np.array(images), np.array(one_hot_labels)"
   ]
  },
  {
   "cell_type": "code",
   "execution_count": 49,
   "id": "c0d8bfb7-9ebc-4d05-98e7-57c455be0fcc",
   "metadata": {},
   "outputs": [],
   "source": [
    "x_test, y_test = load_img_data(test)"
   ]
  },
  {
   "cell_type": "code",
   "execution_count": null,
   "id": "3472ee30-e6f1-48e8-b901-188c059a8b94",
   "metadata": {},
   "outputs": [],
   "source": []
  },
  {
   "cell_type": "code",
   "execution_count": null,
   "id": "72dfda98-390a-4c52-b38e-1a559670dbcd",
   "metadata": {},
   "outputs": [],
   "source": []
  },
  {
   "cell_type": "code",
   "execution_count": 50,
   "id": "b806d828-5936-4c5c-af3b-2acd78507afc",
   "metadata": {},
   "outputs": [
    {
     "name": "stdout",
     "output_type": "stream",
     "text": [
      "Found 1935 images belonging to 5 classes.\n",
      "Found 1576 images belonging to 5 classes.\n",
      "Found 1800 images belonging to 5 classes.\n",
      "Found 1776 images belonging to 5 classes.\n"
     ]
    }
   ],
   "source": [
    "train1=load_img_data1()\n",
    "train2=load_img_data2()\n",
    "train3=load_img_data3()\n",
    "train4=load_img_data4()"
   ]
  },
  {
   "cell_type": "code",
   "execution_count": 51,
   "id": "e6759f5b-5981-405d-8377-09dfecb5ffd4",
   "metadata": {},
   "outputs": [],
   "source": [
    "train1, label1 = load_img_data(train1)\n",
    "train2, label2 = load_img_data(train2)\n",
    "train3, label3 = load_img_data(train3)\n",
    "train4, label4 = load_img_data(train4)"
   ]
  },
  {
   "cell_type": "code",
   "execution_count": 52,
   "id": "eeae6f2b-920c-4990-8201-e16882191ed5",
   "metadata": {},
   "outputs": [],
   "source": [
    "train1=train1/255\n",
    "train2=train2/255\n",
    "train3=train3/255\n",
    "train4=train4/255"
   ]
  },
  {
   "cell_type": "code",
   "execution_count": 53,
   "id": "3973848e-acac-49d8-9933-c840df171a92",
   "metadata": {},
   "outputs": [],
   "source": [
    "import os\n",
    "import random\n",
    "import shutil\n",
    "main_folder_path = r\"C:\\Users\\ASUS\\Desktop\\DATSAET\"\n",
    "# main_folder_path = \"C:/Users/91898/Downloads/New folder\"\n",
    "client_paths = [r\"C:\\Users\\ASUS\\Desktop\\DATSAET\\test\"]\n",
    "desired_distribution = {\n",
    "    'im_Dyskeratotic': [200],\n",
    "    'im_Koilocytotic': [200],\n",
    "    'im_Metaplastic': [200],\n",
    "    'im_Parabasal': [200],\n",
    "    'im_Superficial-Intermediate': [200]\n",
    "}\n",
    "\n",
    "# Initialize client data dictionaries\n",
    "client_data = {client: {} for client in client_paths}\n",
    "\n",
    "# Iterate through the classes\n",
    "for class_folder in desired_distribution:\n",
    "    class_path = os.path.join(main_folder_path, class_folder)\n",
    "\n",
    "    # Check if the item is a directory (subfolder)\n",
    "    if os.path.isdir(class_path):\n",
    "        class_images = os.listdir(class_path)\n",
    "        random.shuffle(class_images)  # Shuffle images randomly\n",
    "\n",
    "        # Iterate through clients and assign images\n",
    "        for i, client in enumerate(client_paths):\n",
    "            start = sum(desired_distribution[class_folder][:i])\n",
    "            end = sum(desired_distribution[class_folder][:i + 1])\n",
    "\n",
    "            # Check if the client path exists in the dictionary\n",
    "            if client in client_data:\n",
    "                client_data[client].setdefault(class_folder, []).extend(class_images[start:end])\n",
    "\n",
    "# # Print the resulting distribution for each client\n",
    "# for client, distribution in client_data.items():\n",
    "#     print(f\"Client: {client}\")\n",
    "#     for class_folder, images in distribution.items():\n",
    "#         print(f\"  {class_folder}: {len(images)} images - {images[:5]}...\")\n",
    "\n",
    "# Copy images to the corresponding client folders\n",
    "for client, distribution in client_data.items():\n",
    "    client_folder = os.path.join(client)\n",
    "    os.makedirs(client_folder, exist_ok=True)\n",
    "\n",
    "    for class_folder, images in distribution.items():\n",
    "        class_path = os.path.join(main_folder_path, class_folder)\n",
    "        dest_path = os.path.join(client_folder, class_folder)\n",
    "        os.makedirs(dest_path, exist_ok=True)\n",
    "\n",
    "        for image in images:\n",
    "            src_path = os.path.join(class_path, image)\n",
    "            dest_image_path = os.path.join(dest_path, image)\n",
    "            shutil.copy(src_path, dest_image_path)\n"
   ]
  },
  {
   "cell_type": "code",
   "execution_count": null,
   "id": "f6df1813-f0c3-431e-83ad-40835f7bc328",
   "metadata": {},
   "outputs": [],
   "source": []
  },
  {
   "cell_type": "code",
   "execution_count": null,
   "id": "b54df994-f610-49b6-86eb-9a43bc5fc2ff",
   "metadata": {},
   "outputs": [],
   "source": []
  },
  {
   "cell_type": "code",
   "execution_count": null,
   "id": "f55f83a5-6279-4657-9d11-efdec127f506",
   "metadata": {},
   "outputs": [],
   "source": []
  },
  {
   "cell_type": "code",
   "execution_count": null,
   "id": "c30a1879-53ac-45ee-97b3-d8599d15dda8",
   "metadata": {},
   "outputs": [],
   "source": []
  },
  {
   "cell_type": "code",
   "execution_count": null,
   "id": "4789e3b7-789d-40ec-a4ca-f32f7391f20b",
   "metadata": {},
   "outputs": [],
   "source": []
  },
  {
   "cell_type": "code",
   "execution_count": 54,
   "id": "bd6ff466-df80-42d3-b17c-76a3cbefe416",
   "metadata": {},
   "outputs": [],
   "source": [
    "def create_clients(data_dict):\n",
    "    '''\n",
    "    Return a dictionary with keys as client names and values as data and label lists.\n",
    "\n",
    "    Args:\n",
    "        data_dict: A dictionary where keys are client names, and values are tuples of data and labels.\n",
    "                    For example, {'client_1': (data_1, labels_1), 'client_2': (data_2, labels_2), ...}\n",
    "\n",
    "    Returns:\n",
    "        A dictionary with keys as client names and values as tuples of data and label lists.\n",
    "    '''\n",
    "    return data_dict"
   ]
  },
  {
   "cell_type": "code",
   "execution_count": 55,
   "id": "7e959c60-390e-45af-952e-43a1b0ba6e61",
   "metadata": {},
   "outputs": [],
   "source": [
    "def test_model(x_test, y_test,  model, comm_round):\n",
    "    loss,accuracy=model.evaluate(x_test,y_test)\n",
    "    print('comm_round: {} | global_acc: {:.3%} | global_loss: {}'.format(comm_round, accuracy, loss))\n",
    "    return accuracy, loss\n",
    "\n",
    "\n",
    "def avg_weights(scaled_weight_list):\n",
    "    '''Return the average of the listed scaled weights.'''\n",
    "    num_clients = len(scaled_weight_list)\n",
    "\n",
    "    if num_clients == 0:\n",
    "        return None  # Handle the case where the list is empty\n",
    "\n",
    "    avg_grad = list()\n",
    "\n",
    "    # Get the sum of gradients across all client gradients\n",
    "    for grad_list_tuple in zip(*scaled_weight_list):\n",
    "        layer_mean = tf.math.reduce_sum(grad_list_tuple, axis=0) / num_clients\n",
    "        avg_grad.append(layer_mean)\n",
    "\n",
    "    return avg_grad\n",
    "\n",
    "\n",
    "client_data = {\n",
    "    'client_1': (train1,label1),\n",
    "    'client_2': (train2,label2),\n",
    "    'client_3': (train3,label3),\n",
    "    'client_4': (train4,label4),\n",
    "}\n",
    "\n",
    "\n",
    "#create clients\n",
    "clients_batched = create_clients(client_data)"
   ]
  },
  {
   "cell_type": "code",
   "execution_count": 56,
   "id": "0a136e8f-58b6-4754-aad2-4dc6d0aa970e",
   "metadata": {},
   "outputs": [],
   "source": [
    "client_names = list(clients_batched.keys())"
   ]
  },
  {
   "cell_type": "code",
   "execution_count": 57,
   "id": "10b27b2b-b0ff-4762-a5cf-589d49979d6f",
   "metadata": {},
   "outputs": [],
   "source": [
    "import math\n",
    "\n",
    "def shrinkage_ratio(alpha, P):\n",
    "    \"\"\"\n",
    "    Calculate the shrinkage ratio (r) based on the desired channel shrinkage factor (alpha)\n",
    "    for the smallest local model and the number of computation complexity levels (P).\n",
    "    \n",
    "    Args:\n",
    "        alpha (float): The desired channel shrinkage factor for the smallest local model,\n",
    "                       compared to the global model (0 < alpha <= 1).\n",
    "        P (int): The number of computation complexity levels.\n",
    "        \n",
    "    Returns:\n",
    "        float: The shrinkage ratio (r).\n",
    "    \"\"\"\n",
    "    if alpha <= 0 or alpha > 1:\n",
    "        raise ValueError(\"Alpha must be between 0 and 1.\")\n",
    "    if P < 2:\n",
    "        raise ValueError(\"Number of computation complexity levels (P) must be at least 2.\")\n",
    "    \n",
    "    r = alpha ** (1 / (P - 1))\n",
    "    \n",
    "    if r<0 or r>1:\n",
    "        r = 0.5    # Assuming this is the desired shrinkage ratio\n",
    "    return r"
   ]
  },
  {
   "cell_type": "code",
   "execution_count": 58,
   "id": "bf9c53ca",
   "metadata": {},
   "outputs": [],
   "source": [
    "# import numpy as np\n",
    "# import random\n",
    "\n",
    "# Bk = 1e6\n",
    "# fk = 1e9\n",
    "# Dk = 5000\n",
    "# Rd_k = np.random.uniform(0.5, 10)\n",
    "# Ru_k = np.random.uniform(0.3, 5)\n",
    "# result = Pk(Bk, fk, Dk, Rd_k, Ru_k)\n",
    "# print(result)"
   ]
  },
  {
   "cell_type": "code",
   "execution_count": 59,
   "id": "a317333d-7c52-4e2d-8638-10d27b084d41",
   "metadata": {},
   "outputs": [
    {
     "name": "stderr",
     "output_type": "stream",
     "text": [
      "Progress Bar:   0%|                                                                              | 0/4 [00:00<?, ?it/s]"
     ]
    },
    {
     "name": "stdout",
     "output_type": "stream",
     "text": [
      "Epoch 1/2\n",
      "WARNING:tensorflow:From C:\\Anaconda\\Lib\\site-packages\\keras\\src\\utils\\tf_utils.py:492: The name tf.ragged.RaggedTensorValue is deprecated. Please use tf.compat.v1.ragged.RaggedTensorValue instead.\n",
      "\n",
      "WARNING:tensorflow:From C:\\Anaconda\\Lib\\site-packages\\keras\\src\\engine\\base_layer_utils.py:384: The name tf.executing_eagerly_outside_functions is deprecated. Please use tf.compat.v1.executing_eagerly_outside_functions instead.\n",
      "\n",
      "61/61 - 14s - loss: 1.8359 - accuracy: 0.5447 - 14s/epoch - 235ms/step\n",
      "Epoch 2/2\n",
      "61/61 - 12s - loss: 1.0072 - accuracy: 0.6553 - 12s/epoch - 203ms/step\n"
     ]
    },
    {
     "name": "stderr",
     "output_type": "stream",
     "text": [
      "Progress Bar:  25%|█████████████████▌                                                    | 1/4 [00:27<01:21, 27.03s/it]"
     ]
    },
    {
     "name": "stdout",
     "output_type": "stream",
     "text": [
      "Epoch 1/2\n",
      "50/50 - 11s - loss: 1.9451 - accuracy: 0.5533 - 11s/epoch - 221ms/step\n",
      "Epoch 2/2\n",
      "50/50 - 10s - loss: 0.9361 - accuracy: 0.6758 - 10s/epoch - 199ms/step\n"
     ]
    },
    {
     "name": "stderr",
     "output_type": "stream",
     "text": [
      "Progress Bar:  50%|███████████████████████████████████                                   | 2/4 [00:48<00:47, 23.68s/it]"
     ]
    },
    {
     "name": "stdout",
     "output_type": "stream",
     "text": [
      "Epoch 1/2\n",
      "57/57 - 12s - loss: 1.7505 - accuracy: 0.5467 - 12s/epoch - 218ms/step\n",
      "Epoch 2/2\n",
      "57/57 - 12s - loss: 1.0096 - accuracy: 0.6500 - 12s/epoch - 203ms/step\n"
     ]
    },
    {
     "name": "stderr",
     "output_type": "stream",
     "text": [
      "Progress Bar:  75%|████████████████████████████████████████████████████▌                 | 3/4 [01:12<00:23, 23.98s/it]"
     ]
    },
    {
     "name": "stdout",
     "output_type": "stream",
     "text": [
      "Epoch 1/2\n",
      "56/56 - 13s - loss: 2.1660 - accuracy: 0.4341 - 13s/epoch - 233ms/step\n",
      "Epoch 2/2\n",
      "56/56 - 11s - loss: 1.2052 - accuracy: 0.5265 - 11s/epoch - 204ms/step\n"
     ]
    },
    {
     "name": "stderr",
     "output_type": "stream",
     "text": [
      "Progress Bar: 100%|██████████████████████████████████████████████████████████████████████| 4/4 [01:37<00:00, 24.40s/it]\n"
     ]
    },
    {
     "name": "stdout",
     "output_type": "stream",
     "text": [
      "117/117 [==============================] - 3s 28ms/step - loss: 1.6134 - accuracy: 0.1823\n",
      "comm_round: 0 | global_acc: 18.228% | global_loss: 1.6134281158447266\n"
     ]
    },
    {
     "name": "stderr",
     "output_type": "stream",
     "text": [
      "Progress Bar:   0%|                                                                              | 0/4 [00:00<?, ?it/s]"
     ]
    },
    {
     "name": "stdout",
     "output_type": "stream",
     "text": [
      "Epoch 1/2\n",
      "61/61 - 14s - loss: 1.0266 - accuracy: 0.6672 - 14s/epoch - 228ms/step\n",
      "Epoch 2/2\n",
      "61/61 - 12s - loss: 0.9898 - accuracy: 0.6687 - 12s/epoch - 204ms/step\n"
     ]
    },
    {
     "name": "stderr",
     "output_type": "stream",
     "text": [
      "Progress Bar:  25%|█████████████████▌                                                    | 1/4 [00:26<01:20, 26.70s/it]"
     ]
    },
    {
     "name": "stdout",
     "output_type": "stream",
     "text": [
      "Epoch 1/2\n",
      "50/50 - 11s - loss: 1.0979 - accuracy: 0.6390 - 11s/epoch - 222ms/step\n",
      "Epoch 2/2\n",
      "50/50 - 10s - loss: 0.9732 - accuracy: 0.6878 - 10s/epoch - 201ms/step\n"
     ]
    },
    {
     "name": "stderr",
     "output_type": "stream",
     "text": [
      "Progress Bar:  50%|███████████████████████████████████                                   | 2/4 [00:48<00:47, 23.61s/it]"
     ]
    },
    {
     "name": "stdout",
     "output_type": "stream",
     "text": [
      "Epoch 1/2\n",
      "57/57 - 13s - loss: 1.1202 - accuracy: 0.6333 - 13s/epoch - 222ms/step\n",
      "Epoch 2/2\n",
      "57/57 - 12s - loss: 1.0030 - accuracy: 0.6628 - 12s/epoch - 206ms/step\n"
     ]
    },
    {
     "name": "stderr",
     "output_type": "stream",
     "text": [
      "Progress Bar:  75%|████████████████████████████████████████████████████▌                 | 3/4 [01:12<00:24, 24.11s/it]"
     ]
    },
    {
     "name": "stdout",
     "output_type": "stream",
     "text": [
      "Epoch 1/2\n",
      "56/56 - 13s - loss: 1.1388 - accuracy: 0.6025 - 13s/epoch - 238ms/step\n",
      "Epoch 2/2\n",
      "56/56 - 12s - loss: 0.9702 - accuracy: 0.6475 - 12s/epoch - 213ms/step\n"
     ]
    },
    {
     "name": "stderr",
     "output_type": "stream",
     "text": [
      "Progress Bar: 100%|██████████████████████████████████████████████████████████████████████| 4/4 [01:38<00:00, 24.62s/it]\n"
     ]
    },
    {
     "name": "stdout",
     "output_type": "stream",
     "text": [
      "117/117 [==============================] - 3s 25ms/step - loss: 1.6102 - accuracy: 0.2097\n",
      "comm_round: 1 | global_acc: 20.966% | global_loss: 1.610224962234497\n"
     ]
    },
    {
     "name": "stderr",
     "output_type": "stream",
     "text": [
      "Progress Bar:   0%|                                                                              | 0/4 [00:00<?, ?it/s]"
     ]
    },
    {
     "name": "stdout",
     "output_type": "stream",
     "text": [
      "Epoch 1/2\n",
      "61/61 - 13s - loss: 0.9379 - accuracy: 0.7121 - 13s/epoch - 219ms/step\n",
      "Epoch 2/2\n",
      "61/61 - 12s - loss: 0.8274 - accuracy: 0.7333 - 12s/epoch - 198ms/step\n"
     ]
    },
    {
     "name": "stderr",
     "output_type": "stream",
     "text": [
      "Progress Bar:  25%|█████████████████▌                                                    | 1/4 [00:25<01:17, 25.79s/it]"
     ]
    },
    {
     "name": "stdout",
     "output_type": "stream",
     "text": [
      "Epoch 1/2\n",
      "50/50 - 11s - loss: 0.9884 - accuracy: 0.6878 - 11s/epoch - 220ms/step\n",
      "Epoch 2/2\n",
      "50/50 - 10s - loss: 0.9425 - accuracy: 0.6973 - 10s/epoch - 199ms/step\n"
     ]
    },
    {
     "name": "stderr",
     "output_type": "stream",
     "text": [
      "Progress Bar:  50%|███████████████████████████████████                                   | 2/4 [00:47<00:46, 23.12s/it]"
     ]
    },
    {
     "name": "stdout",
     "output_type": "stream",
     "text": [
      "Epoch 1/2\n",
      "57/57 - 13s - loss: 1.0313 - accuracy: 0.6811 - 13s/epoch - 235ms/step\n",
      "Epoch 2/2\n",
      "57/57 - 12s - loss: 0.8816 - accuracy: 0.7050 - 12s/epoch - 213ms/step\n"
     ]
    },
    {
     "name": "stderr",
     "output_type": "stream",
     "text": [
      "Progress Bar:  75%|████████████████████████████████████████████████████▌                 | 3/4 [01:12<00:24, 24.41s/it]"
     ]
    },
    {
     "name": "stdout",
     "output_type": "stream",
     "text": [
      "Epoch 1/2\n",
      "56/56 - 12s - loss: 1.0119 - accuracy: 0.6830 - 12s/epoch - 220ms/step\n",
      "Epoch 2/2\n",
      "56/56 - 11s - loss: 0.9068 - accuracy: 0.6830 - 11s/epoch - 199ms/step\n"
     ]
    },
    {
     "name": "stderr",
     "output_type": "stream",
     "text": [
      "Progress Bar: 100%|██████████████████████████████████████████████████████████████████████| 4/4 [01:37<00:00, 24.37s/it]\n"
     ]
    },
    {
     "name": "stdout",
     "output_type": "stream",
     "text": [
      "117/117 [==============================] - 3s 23ms/step - loss: 1.7236 - accuracy: 0.2081\n",
      "comm_round: 2 | global_acc: 20.805% | global_loss: 1.7236298322677612\n"
     ]
    },
    {
     "name": "stderr",
     "output_type": "stream",
     "text": [
      "Progress Bar:   0%|                                                                              | 0/4 [00:00<?, ?it/s]"
     ]
    },
    {
     "name": "stdout",
     "output_type": "stream",
     "text": [
      "Epoch 1/2\n",
      "61/61 - 14s - loss: 0.8477 - accuracy: 0.7235 - 14s/epoch - 231ms/step\n",
      "Epoch 2/2\n",
      "61/61 - 12s - loss: 0.8146 - accuracy: 0.7183 - 12s/epoch - 202ms/step\n"
     ]
    },
    {
     "name": "stderr",
     "output_type": "stream",
     "text": [
      "Progress Bar:  25%|█████████████████▌                                                    | 1/4 [00:26<01:20, 26.74s/it]"
     ]
    },
    {
     "name": "stdout",
     "output_type": "stream",
     "text": [
      "Epoch 1/2\n",
      "50/50 - 11s - loss: 0.9062 - accuracy: 0.6992 - 11s/epoch - 226ms/step\n",
      "Epoch 2/2\n"
     ]
    },
    {
     "name": "stderr",
     "output_type": "stream",
     "text": [
      "Progress Bar:  25%|█████████████████▌                                                    | 1/4 [00:44<02:14, 44.82s/it]\n"
     ]
    },
    {
     "ename": "KeyboardInterrupt",
     "evalue": "",
     "output_type": "error",
     "traceback": [
      "\u001b[1;31m---------------------------------------------------------------------------\u001b[0m",
      "\u001b[1;31mKeyboardInterrupt\u001b[0m                         Traceback (most recent call last)",
      "Cell \u001b[1;32mIn[59], line 38\u001b[0m\n\u001b[0;32m     35\u001b[0m local_model\u001b[38;5;241m.\u001b[39mset_weights(global_weights)\n\u001b[0;32m     37\u001b[0m \u001b[38;5;66;03m# Fit local model with client's data\u001b[39;00m\n\u001b[1;32m---> 38\u001b[0m local_model\u001b[38;5;241m.\u001b[39mfit(\n\u001b[0;32m     39\u001b[0m     np\u001b[38;5;241m.\u001b[39marray(clients_batched[client][\u001b[38;5;241m0\u001b[39m]),\n\u001b[0;32m     40\u001b[0m     np\u001b[38;5;241m.\u001b[39marray(clients_batched[client][\u001b[38;5;241m1\u001b[39m]),\n\u001b[0;32m     41\u001b[0m     epochs\u001b[38;5;241m=\u001b[39m\u001b[38;5;241m2\u001b[39m,\n\u001b[0;32m     42\u001b[0m     batch_size\u001b[38;5;241m=\u001b[39m\u001b[38;5;241m32\u001b[39m,\n\u001b[0;32m     43\u001b[0m     verbose\u001b[38;5;241m=\u001b[39m\u001b[38;5;241m2\u001b[39m\n\u001b[0;32m     44\u001b[0m )\n\u001b[0;32m     46\u001b[0m \u001b[38;5;66;03m# Get the scaled model weights and add to the list\u001b[39;00m\n\u001b[0;32m     47\u001b[0m weights \u001b[38;5;241m=\u001b[39m local_model\u001b[38;5;241m.\u001b[39mget_weights()\n",
      "File \u001b[1;32mC:\\Anaconda\\Lib\\site-packages\\keras\\src\\utils\\traceback_utils.py:65\u001b[0m, in \u001b[0;36mfilter_traceback.<locals>.error_handler\u001b[1;34m(*args, **kwargs)\u001b[0m\n\u001b[0;32m     63\u001b[0m filtered_tb \u001b[38;5;241m=\u001b[39m \u001b[38;5;28;01mNone\u001b[39;00m\n\u001b[0;32m     64\u001b[0m \u001b[38;5;28;01mtry\u001b[39;00m:\n\u001b[1;32m---> 65\u001b[0m     \u001b[38;5;28;01mreturn\u001b[39;00m fn(\u001b[38;5;241m*\u001b[39margs, \u001b[38;5;241m*\u001b[39m\u001b[38;5;241m*\u001b[39mkwargs)\n\u001b[0;32m     66\u001b[0m \u001b[38;5;28;01mexcept\u001b[39;00m \u001b[38;5;167;01mException\u001b[39;00m \u001b[38;5;28;01mas\u001b[39;00m e:\n\u001b[0;32m     67\u001b[0m     filtered_tb \u001b[38;5;241m=\u001b[39m _process_traceback_frames(e\u001b[38;5;241m.\u001b[39m__traceback__)\n",
      "File \u001b[1;32mC:\\Anaconda\\Lib\\site-packages\\keras\\src\\engine\\training.py:1807\u001b[0m, in \u001b[0;36mModel.fit\u001b[1;34m(self, x, y, batch_size, epochs, verbose, callbacks, validation_split, validation_data, shuffle, class_weight, sample_weight, initial_epoch, steps_per_epoch, validation_steps, validation_batch_size, validation_freq, max_queue_size, workers, use_multiprocessing)\u001b[0m\n\u001b[0;32m   1799\u001b[0m \u001b[38;5;28;01mwith\u001b[39;00m tf\u001b[38;5;241m.\u001b[39mprofiler\u001b[38;5;241m.\u001b[39mexperimental\u001b[38;5;241m.\u001b[39mTrace(\n\u001b[0;32m   1800\u001b[0m     \u001b[38;5;124m\"\u001b[39m\u001b[38;5;124mtrain\u001b[39m\u001b[38;5;124m\"\u001b[39m,\n\u001b[0;32m   1801\u001b[0m     epoch_num\u001b[38;5;241m=\u001b[39mepoch,\n\u001b[1;32m   (...)\u001b[0m\n\u001b[0;32m   1804\u001b[0m     _r\u001b[38;5;241m=\u001b[39m\u001b[38;5;241m1\u001b[39m,\n\u001b[0;32m   1805\u001b[0m ):\n\u001b[0;32m   1806\u001b[0m     callbacks\u001b[38;5;241m.\u001b[39mon_train_batch_begin(step)\n\u001b[1;32m-> 1807\u001b[0m     tmp_logs \u001b[38;5;241m=\u001b[39m \u001b[38;5;28mself\u001b[39m\u001b[38;5;241m.\u001b[39mtrain_function(iterator)\n\u001b[0;32m   1808\u001b[0m     \u001b[38;5;28;01mif\u001b[39;00m data_handler\u001b[38;5;241m.\u001b[39mshould_sync:\n\u001b[0;32m   1809\u001b[0m         context\u001b[38;5;241m.\u001b[39masync_wait()\n",
      "File \u001b[1;32mC:\\Anaconda\\Lib\\site-packages\\tensorflow\\python\\util\\traceback_utils.py:150\u001b[0m, in \u001b[0;36mfilter_traceback.<locals>.error_handler\u001b[1;34m(*args, **kwargs)\u001b[0m\n\u001b[0;32m    148\u001b[0m filtered_tb \u001b[38;5;241m=\u001b[39m \u001b[38;5;28;01mNone\u001b[39;00m\n\u001b[0;32m    149\u001b[0m \u001b[38;5;28;01mtry\u001b[39;00m:\n\u001b[1;32m--> 150\u001b[0m   \u001b[38;5;28;01mreturn\u001b[39;00m fn(\u001b[38;5;241m*\u001b[39margs, \u001b[38;5;241m*\u001b[39m\u001b[38;5;241m*\u001b[39mkwargs)\n\u001b[0;32m    151\u001b[0m \u001b[38;5;28;01mexcept\u001b[39;00m \u001b[38;5;167;01mException\u001b[39;00m \u001b[38;5;28;01mas\u001b[39;00m e:\n\u001b[0;32m    152\u001b[0m   filtered_tb \u001b[38;5;241m=\u001b[39m _process_traceback_frames(e\u001b[38;5;241m.\u001b[39m__traceback__)\n",
      "File \u001b[1;32mC:\\Anaconda\\Lib\\site-packages\\tensorflow\\python\\eager\\polymorphic_function\\polymorphic_function.py:832\u001b[0m, in \u001b[0;36mFunction.__call__\u001b[1;34m(self, *args, **kwds)\u001b[0m\n\u001b[0;32m    829\u001b[0m compiler \u001b[38;5;241m=\u001b[39m \u001b[38;5;124m\"\u001b[39m\u001b[38;5;124mxla\u001b[39m\u001b[38;5;124m\"\u001b[39m \u001b[38;5;28;01mif\u001b[39;00m \u001b[38;5;28mself\u001b[39m\u001b[38;5;241m.\u001b[39m_jit_compile \u001b[38;5;28;01melse\u001b[39;00m \u001b[38;5;124m\"\u001b[39m\u001b[38;5;124mnonXla\u001b[39m\u001b[38;5;124m\"\u001b[39m\n\u001b[0;32m    831\u001b[0m \u001b[38;5;28;01mwith\u001b[39;00m OptionalXlaContext(\u001b[38;5;28mself\u001b[39m\u001b[38;5;241m.\u001b[39m_jit_compile):\n\u001b[1;32m--> 832\u001b[0m   result \u001b[38;5;241m=\u001b[39m \u001b[38;5;28mself\u001b[39m\u001b[38;5;241m.\u001b[39m_call(\u001b[38;5;241m*\u001b[39margs, \u001b[38;5;241m*\u001b[39m\u001b[38;5;241m*\u001b[39mkwds)\n\u001b[0;32m    834\u001b[0m new_tracing_count \u001b[38;5;241m=\u001b[39m \u001b[38;5;28mself\u001b[39m\u001b[38;5;241m.\u001b[39mexperimental_get_tracing_count()\n\u001b[0;32m    835\u001b[0m without_tracing \u001b[38;5;241m=\u001b[39m (tracing_count \u001b[38;5;241m==\u001b[39m new_tracing_count)\n",
      "File \u001b[1;32mC:\\Anaconda\\Lib\\site-packages\\tensorflow\\python\\eager\\polymorphic_function\\polymorphic_function.py:868\u001b[0m, in \u001b[0;36mFunction._call\u001b[1;34m(self, *args, **kwds)\u001b[0m\n\u001b[0;32m    865\u001b[0m   \u001b[38;5;28mself\u001b[39m\u001b[38;5;241m.\u001b[39m_lock\u001b[38;5;241m.\u001b[39mrelease()\n\u001b[0;32m    866\u001b[0m   \u001b[38;5;66;03m# In this case we have created variables on the first call, so we run the\u001b[39;00m\n\u001b[0;32m    867\u001b[0m   \u001b[38;5;66;03m# defunned version which is guaranteed to never create variables.\u001b[39;00m\n\u001b[1;32m--> 868\u001b[0m   \u001b[38;5;28;01mreturn\u001b[39;00m tracing_compilation\u001b[38;5;241m.\u001b[39mcall_function(\n\u001b[0;32m    869\u001b[0m       args, kwds, \u001b[38;5;28mself\u001b[39m\u001b[38;5;241m.\u001b[39m_no_variable_creation_config\n\u001b[0;32m    870\u001b[0m   )\n\u001b[0;32m    871\u001b[0m \u001b[38;5;28;01melif\u001b[39;00m \u001b[38;5;28mself\u001b[39m\u001b[38;5;241m.\u001b[39m_variable_creation_config \u001b[38;5;129;01mis\u001b[39;00m \u001b[38;5;129;01mnot\u001b[39;00m \u001b[38;5;28;01mNone\u001b[39;00m:\n\u001b[0;32m    872\u001b[0m   \u001b[38;5;66;03m# Release the lock early so that multiple threads can perform the call\u001b[39;00m\n\u001b[0;32m    873\u001b[0m   \u001b[38;5;66;03m# in parallel.\u001b[39;00m\n\u001b[0;32m    874\u001b[0m   \u001b[38;5;28mself\u001b[39m\u001b[38;5;241m.\u001b[39m_lock\u001b[38;5;241m.\u001b[39mrelease()\n",
      "File \u001b[1;32mC:\\Anaconda\\Lib\\site-packages\\tensorflow\\python\\eager\\polymorphic_function\\tracing_compilation.py:139\u001b[0m, in \u001b[0;36mcall_function\u001b[1;34m(args, kwargs, tracing_options)\u001b[0m\n\u001b[0;32m    137\u001b[0m bound_args \u001b[38;5;241m=\u001b[39m function\u001b[38;5;241m.\u001b[39mfunction_type\u001b[38;5;241m.\u001b[39mbind(\u001b[38;5;241m*\u001b[39margs, \u001b[38;5;241m*\u001b[39m\u001b[38;5;241m*\u001b[39mkwargs)\n\u001b[0;32m    138\u001b[0m flat_inputs \u001b[38;5;241m=\u001b[39m function\u001b[38;5;241m.\u001b[39mfunction_type\u001b[38;5;241m.\u001b[39munpack_inputs(bound_args)\n\u001b[1;32m--> 139\u001b[0m \u001b[38;5;28;01mreturn\u001b[39;00m function\u001b[38;5;241m.\u001b[39m_call_flat(  \u001b[38;5;66;03m# pylint: disable=protected-access\u001b[39;00m\n\u001b[0;32m    140\u001b[0m     flat_inputs, captured_inputs\u001b[38;5;241m=\u001b[39mfunction\u001b[38;5;241m.\u001b[39mcaptured_inputs\n\u001b[0;32m    141\u001b[0m )\n",
      "File \u001b[1;32mC:\\Anaconda\\Lib\\site-packages\\tensorflow\\python\\eager\\polymorphic_function\\concrete_function.py:1323\u001b[0m, in \u001b[0;36mConcreteFunction._call_flat\u001b[1;34m(self, tensor_inputs, captured_inputs)\u001b[0m\n\u001b[0;32m   1319\u001b[0m possible_gradient_type \u001b[38;5;241m=\u001b[39m gradients_util\u001b[38;5;241m.\u001b[39mPossibleTapeGradientTypes(args)\n\u001b[0;32m   1320\u001b[0m \u001b[38;5;28;01mif\u001b[39;00m (possible_gradient_type \u001b[38;5;241m==\u001b[39m gradients_util\u001b[38;5;241m.\u001b[39mPOSSIBLE_GRADIENT_TYPES_NONE\n\u001b[0;32m   1321\u001b[0m     \u001b[38;5;129;01mand\u001b[39;00m executing_eagerly):\n\u001b[0;32m   1322\u001b[0m   \u001b[38;5;66;03m# No tape is watching; skip to running the function.\u001b[39;00m\n\u001b[1;32m-> 1323\u001b[0m   \u001b[38;5;28;01mreturn\u001b[39;00m \u001b[38;5;28mself\u001b[39m\u001b[38;5;241m.\u001b[39m_inference_function\u001b[38;5;241m.\u001b[39mcall_preflattened(args)\n\u001b[0;32m   1324\u001b[0m forward_backward \u001b[38;5;241m=\u001b[39m \u001b[38;5;28mself\u001b[39m\u001b[38;5;241m.\u001b[39m_select_forward_and_backward_functions(\n\u001b[0;32m   1325\u001b[0m     args,\n\u001b[0;32m   1326\u001b[0m     possible_gradient_type,\n\u001b[0;32m   1327\u001b[0m     executing_eagerly)\n\u001b[0;32m   1328\u001b[0m forward_function, args_with_tangents \u001b[38;5;241m=\u001b[39m forward_backward\u001b[38;5;241m.\u001b[39mforward()\n",
      "File \u001b[1;32mC:\\Anaconda\\Lib\\site-packages\\tensorflow\\python\\eager\\polymorphic_function\\atomic_function.py:216\u001b[0m, in \u001b[0;36mAtomicFunction.call_preflattened\u001b[1;34m(self, args)\u001b[0m\n\u001b[0;32m    214\u001b[0m \u001b[38;5;28;01mdef\u001b[39;00m \u001b[38;5;21mcall_preflattened\u001b[39m(\u001b[38;5;28mself\u001b[39m, args: Sequence[core\u001b[38;5;241m.\u001b[39mTensor]) \u001b[38;5;241m-\u001b[39m\u001b[38;5;241m>\u001b[39m Any:\n\u001b[0;32m    215\u001b[0m \u001b[38;5;250m  \u001b[39m\u001b[38;5;124;03m\"\"\"Calls with flattened tensor inputs and returns the structured output.\"\"\"\u001b[39;00m\n\u001b[1;32m--> 216\u001b[0m   flat_outputs \u001b[38;5;241m=\u001b[39m \u001b[38;5;28mself\u001b[39m\u001b[38;5;241m.\u001b[39mcall_flat(\u001b[38;5;241m*\u001b[39margs)\n\u001b[0;32m    217\u001b[0m   \u001b[38;5;28;01mreturn\u001b[39;00m \u001b[38;5;28mself\u001b[39m\u001b[38;5;241m.\u001b[39mfunction_type\u001b[38;5;241m.\u001b[39mpack_output(flat_outputs)\n",
      "File \u001b[1;32mC:\\Anaconda\\Lib\\site-packages\\tensorflow\\python\\eager\\polymorphic_function\\atomic_function.py:251\u001b[0m, in \u001b[0;36mAtomicFunction.call_flat\u001b[1;34m(self, *args)\u001b[0m\n\u001b[0;32m    249\u001b[0m \u001b[38;5;28;01mwith\u001b[39;00m record\u001b[38;5;241m.\u001b[39mstop_recording():\n\u001b[0;32m    250\u001b[0m   \u001b[38;5;28;01mif\u001b[39;00m \u001b[38;5;28mself\u001b[39m\u001b[38;5;241m.\u001b[39m_bound_context\u001b[38;5;241m.\u001b[39mexecuting_eagerly():\n\u001b[1;32m--> 251\u001b[0m     outputs \u001b[38;5;241m=\u001b[39m \u001b[38;5;28mself\u001b[39m\u001b[38;5;241m.\u001b[39m_bound_context\u001b[38;5;241m.\u001b[39mcall_function(\n\u001b[0;32m    252\u001b[0m         \u001b[38;5;28mself\u001b[39m\u001b[38;5;241m.\u001b[39mname,\n\u001b[0;32m    253\u001b[0m         \u001b[38;5;28mlist\u001b[39m(args),\n\u001b[0;32m    254\u001b[0m         \u001b[38;5;28mlen\u001b[39m(\u001b[38;5;28mself\u001b[39m\u001b[38;5;241m.\u001b[39mfunction_type\u001b[38;5;241m.\u001b[39mflat_outputs),\n\u001b[0;32m    255\u001b[0m     )\n\u001b[0;32m    256\u001b[0m   \u001b[38;5;28;01melse\u001b[39;00m:\n\u001b[0;32m    257\u001b[0m     outputs \u001b[38;5;241m=\u001b[39m make_call_op_in_graph(\n\u001b[0;32m    258\u001b[0m         \u001b[38;5;28mself\u001b[39m,\n\u001b[0;32m    259\u001b[0m         \u001b[38;5;28mlist\u001b[39m(args),\n\u001b[0;32m    260\u001b[0m         \u001b[38;5;28mself\u001b[39m\u001b[38;5;241m.\u001b[39m_bound_context\u001b[38;5;241m.\u001b[39mfunction_call_options\u001b[38;5;241m.\u001b[39mas_attrs(),\n\u001b[0;32m    261\u001b[0m     )\n",
      "File \u001b[1;32mC:\\Anaconda\\Lib\\site-packages\\tensorflow\\python\\eager\\context.py:1486\u001b[0m, in \u001b[0;36mContext.call_function\u001b[1;34m(self, name, tensor_inputs, num_outputs)\u001b[0m\n\u001b[0;32m   1484\u001b[0m cancellation_context \u001b[38;5;241m=\u001b[39m cancellation\u001b[38;5;241m.\u001b[39mcontext()\n\u001b[0;32m   1485\u001b[0m \u001b[38;5;28;01mif\u001b[39;00m cancellation_context \u001b[38;5;129;01mis\u001b[39;00m \u001b[38;5;28;01mNone\u001b[39;00m:\n\u001b[1;32m-> 1486\u001b[0m   outputs \u001b[38;5;241m=\u001b[39m execute\u001b[38;5;241m.\u001b[39mexecute(\n\u001b[0;32m   1487\u001b[0m       name\u001b[38;5;241m.\u001b[39mdecode(\u001b[38;5;124m\"\u001b[39m\u001b[38;5;124mutf-8\u001b[39m\u001b[38;5;124m\"\u001b[39m),\n\u001b[0;32m   1488\u001b[0m       num_outputs\u001b[38;5;241m=\u001b[39mnum_outputs,\n\u001b[0;32m   1489\u001b[0m       inputs\u001b[38;5;241m=\u001b[39mtensor_inputs,\n\u001b[0;32m   1490\u001b[0m       attrs\u001b[38;5;241m=\u001b[39mattrs,\n\u001b[0;32m   1491\u001b[0m       ctx\u001b[38;5;241m=\u001b[39m\u001b[38;5;28mself\u001b[39m,\n\u001b[0;32m   1492\u001b[0m   )\n\u001b[0;32m   1493\u001b[0m \u001b[38;5;28;01melse\u001b[39;00m:\n\u001b[0;32m   1494\u001b[0m   outputs \u001b[38;5;241m=\u001b[39m execute\u001b[38;5;241m.\u001b[39mexecute_with_cancellation(\n\u001b[0;32m   1495\u001b[0m       name\u001b[38;5;241m.\u001b[39mdecode(\u001b[38;5;124m\"\u001b[39m\u001b[38;5;124mutf-8\u001b[39m\u001b[38;5;124m\"\u001b[39m),\n\u001b[0;32m   1496\u001b[0m       num_outputs\u001b[38;5;241m=\u001b[39mnum_outputs,\n\u001b[1;32m   (...)\u001b[0m\n\u001b[0;32m   1500\u001b[0m       cancellation_manager\u001b[38;5;241m=\u001b[39mcancellation_context,\n\u001b[0;32m   1501\u001b[0m   )\n",
      "File \u001b[1;32mC:\\Anaconda\\Lib\\site-packages\\tensorflow\\python\\eager\\execute.py:53\u001b[0m, in \u001b[0;36mquick_execute\u001b[1;34m(op_name, num_outputs, inputs, attrs, ctx, name)\u001b[0m\n\u001b[0;32m     51\u001b[0m \u001b[38;5;28;01mtry\u001b[39;00m:\n\u001b[0;32m     52\u001b[0m   ctx\u001b[38;5;241m.\u001b[39mensure_initialized()\n\u001b[1;32m---> 53\u001b[0m   tensors \u001b[38;5;241m=\u001b[39m pywrap_tfe\u001b[38;5;241m.\u001b[39mTFE_Py_Execute(ctx\u001b[38;5;241m.\u001b[39m_handle, device_name, op_name,\n\u001b[0;32m     54\u001b[0m                                       inputs, attrs, num_outputs)\n\u001b[0;32m     55\u001b[0m \u001b[38;5;28;01mexcept\u001b[39;00m core\u001b[38;5;241m.\u001b[39m_NotOkStatusException \u001b[38;5;28;01mas\u001b[39;00m e:\n\u001b[0;32m     56\u001b[0m   \u001b[38;5;28;01mif\u001b[39;00m name \u001b[38;5;129;01mis\u001b[39;00m \u001b[38;5;129;01mnot\u001b[39;00m \u001b[38;5;28;01mNone\u001b[39;00m:\n",
      "\u001b[1;31mKeyboardInterrupt\u001b[0m: "
     ]
    }
   ],
   "source": [
    "# Number of global epochs\n",
    "comms_round = 100\n",
    "acc3 = []\n",
    "\n",
    "\n",
    "# Define global_model before the loop\n",
    "global_model = SimpleMLP.build(0.5, 2)\n",
    "\n",
    "for comm_round in range(comms_round):\n",
    "    # Get the global model's weights - will serve as the initial weights for all local models\n",
    "    global_weights = global_model.get_weights()\n",
    "\n",
    "    # Initial list to collect local model weights after scaling\n",
    "    local_weight_list = []\n",
    "\n",
    "    # Randomize client data - using keys\n",
    "    client_names = list(clients_batched.keys())\n",
    "    # random.shuffle(client_names)\n",
    "\n",
    "    for client in tqdm(client_names, desc='Progress Bar'):\n",
    "        \n",
    "        # Assume constant values for client-specific parameters\n",
    "        alpha = 0.5  # Smallest local model has 1/2 channels of the global model\n",
    "        P = 2   # 2 computation complexity levels\n",
    "        r = shrinkage_ratio(alpha, P)\n",
    "        \n",
    "        \n",
    "        local_model = SimpleMLP.build(r,'complexity_level')\n",
    "        local_model.compile(\n",
    "            loss='categorical_crossentropy',\n",
    "            optimizer=tf.keras.optimizers.Adam(),  # Using recommended optimizer creation method\n",
    "            metrics=['accuracy']\n",
    "        )\n",
    "        # Set local model weight to the weight of the global model\n",
    "        local_model.set_weights(global_weights)\n",
    "\n",
    "        # Fit local model with client's data\n",
    "        local_model.fit(\n",
    "            np.array(clients_batched[client][0]),\n",
    "            np.array(clients_batched[client][1]),\n",
    "            epochs=2,\n",
    "            batch_size=32,\n",
    "            verbose=2\n",
    "        )\n",
    "\n",
    "        # Get the scaled model weights and add to the list\n",
    "        weights = local_model.get_weights()\n",
    "        local_weight_list.append(weights)\n",
    "\n",
    "        # Clear the session to free memory after each communication round\n",
    "        K.clear_session()\n",
    "\n",
    "    # Calculate the average weights across all clients for each layer\n",
    "    average_weights = avg_weights(local_weight_list)\n",
    "\n",
    "    # Update the global model with the average weights\n",
    "    global_model.set_weights(average_weights)\n",
    "\n",
    "    # Test the global model and print out metrics after each communications round\n",
    "    global_acc, global_loss = test_model(x_test, y_test, global_model, comm_round)\n",
    "    acc3.append(global_acc)"
   ]
  },
  {
   "cell_type": "code",
   "execution_count": null,
   "id": "e5000271-f187-41c5-8adf-d208b3141ab2",
   "metadata": {},
   "outputs": [],
   "source": [
    "import matplotlib.pyplot as plt\n",
    "plt.plot(acc3)"
   ]
  },
  {
   "cell_type": "code",
   "execution_count": null,
   "id": "aab31597-4dac-4e66-8362-c701a21590e8",
   "metadata": {},
   "outputs": [],
   "source": [
    "acc3 = np.array(acc3)"
   ]
  },
  {
   "cell_type": "code",
   "execution_count": null,
   "id": "2c284886-e02a-4635-9457-9ea64365e5ff",
   "metadata": {},
   "outputs": [],
   "source": [
    "np.save(\"acc_fedavg_cifar10.npy\",acc3)"
   ]
  },
  {
   "cell_type": "code",
   "execution_count": null,
   "id": "fc873aab-aa8c-48c4-b1c9-74d0ecee2870",
   "metadata": {},
   "outputs": [],
   "source": [
    "global_model.save(\"feddrop_cifar10.h5\")"
   ]
  },
  {
   "cell_type": "code",
   "execution_count": null,
   "id": "f3f42515-06e9-40cf-b846-9eb430b46c5d",
   "metadata": {},
   "outputs": [],
   "source": [
    "print(\"Num GPUs Available: \", len(tf.config.experimental.list_physical_devices('GPU')))"
   ]
  },
  {
   "cell_type": "code",
   "execution_count": null,
   "id": "c52f805e",
   "metadata": {},
   "outputs": [],
   "source": [
    "tf.__version__"
   ]
  },
  {
   "cell_type": "code",
   "execution_count": null,
   "id": "27311bd9",
   "metadata": {},
   "outputs": [],
   "source": []
  }
 ],
 "metadata": {
  "kernelspec": {
   "display_name": "Python 3 (ipykernel)",
   "language": "python",
   "name": "python3"
  },
  "language_info": {
   "codemirror_mode": {
    "name": "ipython",
    "version": 3
   },
   "file_extension": ".py",
   "mimetype": "text/x-python",
   "name": "python",
   "nbconvert_exporter": "python",
   "pygments_lexer": "ipython3",
   "version": "3.11.5"
  }
 },
 "nbformat": 4,
 "nbformat_minor": 5
}
